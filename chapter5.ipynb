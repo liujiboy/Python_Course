{
 "cells": [
  {
   "cell_type": "markdown",
   "metadata": {},
   "source": [
    "# 第 5 章 if 语句\n",
    "\n",
    "编程时经常需要检查一系列条件，并据此决定采取什么措施。在Python中，if 语句让你能够检查程序的当前状态，并据此采取相应的措施。 \n",
    "\n",
    "在本章中，你将学习条件测试，以检查感兴趣的任何条件。你将学习简单的if 语句，以及创建一系列复杂的if 语句来确定当前到底处于什么情形。接下来，你将把学到的知识应用于列表，以编写for 循环，以一种方式处理列表中的大多数元素，并以另一种不同的方式处理包含特定值的元素。 \n",
    "\n",
    "## 5.1 一个简单示例\n",
    "\n",
    "下面是一个简短的示例，演示了如何使用if 语句来正确地处理特殊情形。假设你有一个汽车列表，并想将其中每辆汽车的名称打印出来。对于大多数汽车，都应以首字母大写的 方式打印其名称，但对于汽车名'bmw' ，应以全大写的方式打印。下面的代码遍历一个列表，并以首字母大写的方式打印其中的汽车名，但对于汽车名'bmw' ，以全大写的方 式打印:\n",
    "\n",
    "**cars.py**"
   ]
  },
  {
   "cell_type": "code",
   "execution_count": 6,
   "metadata": {},
   "outputs": [
    {
     "name": "stdout",
     "output_type": "stream",
     "text": [
      "Audi\n",
      "Bmw\n",
      "Subaru\n",
      "Toyota\n"
     ]
    }
   ],
   "source": [
    "cars = ['audi', 'bmw', 'subaru', 'toyota']\n",
    "    \n",
    "for car in cars:\n",
    "        if car == 'bmw':#❶\n",
    "            print(car.upper())\n",
    "        else:\n",
    "            print(car.title())"
   ]
  },
  {
   "cell_type": "code",
   "execution_count": 3,
   "metadata": {},
   "outputs": [
    {
     "data": {
      "text/plain": [
       "False"
      ]
     },
     "execution_count": 3,
     "metadata": {},
     "output_type": "execute_result"
    }
   ],
   "source": [
    "1==2"
   ]
  },
  {
   "cell_type": "code",
   "execution_count": 4,
   "metadata": {},
   "outputs": [
    {
     "data": {
      "text/plain": [
       "True"
      ]
     },
     "execution_count": 4,
     "metadata": {},
     "output_type": "execute_result"
    }
   ],
   "source": [
    "1==1"
   ]
  },
  {
   "cell_type": "markdown",
   "metadata": {},
   "source": [
    "这个示例中的循环首先检查当前的汽车名是否是'bmw' (见❶)。如果是，就以全大写的方式打印它;否则就以首字母大写的方式打印。\n",
    "\n",
    "这个示例涵盖了本章将介绍的很多概念。下面先来介绍可用来在程序中检查条件的测试。 \n",
    "\n",
    "## 5.2 条件测试\n",
    "\n",
    "每条if 语句的核心都是一个值为True 或False 的表达式，这种表达式被称为条件测试 。Python根据条件测试的值为True 还是False 来决定是否执行if 语句中的代码。如果 条件测试的值为True ，Python就执行紧跟在if 语句后面的代码;如果为False ，Python就忽略这些代码。\n",
    "\n",
    "### 5.2.1 检查是否相等 \n",
    "\n",
    "大多数条件测试都将一个变量的当前值同特定值进行比较。最简单的条件测试检查变量的值是否与特定值相等:\n",
    "\n"
   ]
  },
  {
   "cell_type": "code",
   "execution_count": null,
   "metadata": {},
   "outputs": [],
   "source": [
    "car = 'bmw'#❶ \n",
    "car == 'bmw'#❷"
   ]
  },
  {
   "cell_type": "markdown",
   "metadata": {},
   "source": [
    "我们首先使用一个等号将car 的值设置为'bmw' (见❶)，这种做法你已见过很多次。接下来，使用两个等号(== )检查car 的值是否为'bmw' 。这个相等运算符 在它两边 的值相等时返回True ，否则返回False 。在这个示例中，两边的值相等，因此Python返回True 。\n",
    "\n",
    "如果变量car 的值不是'bmw' ，上述测试将返回False :"
   ]
  },
  {
   "cell_type": "code",
   "execution_count": null,
   "metadata": {},
   "outputs": [],
   "source": [
    "car = 'audi'#❶\n",
    "car == 'bmw'#❷ "
   ]
  },
  {
   "cell_type": "markdown",
   "metadata": {},
   "source": [
    "一个等号是陈述;对于❶处的代码，可解读为“将变量car 的值设置为'audi' ”。两个等号是发问;对于❷处的代码，可解读为“变量car 的值是'bmw' 吗?”。大多数编程语言 使用等号的方式都与这里演示的相同。\n",
    "\n",
    "### 5.2.2 检查是否相等时不考虑大小写 \n",
    "\n",
    "在Python中检查是否相等时区分大小写，例如，两个大小写不同的值会被视为不相等:\n"
   ]
  },
  {
   "cell_type": "code",
   "execution_count": null,
   "metadata": {},
   "outputs": [],
   "source": [
    "car = 'Audi' \n",
    "car == 'audi' "
   ]
  },
  {
   "cell_type": "markdown",
   "metadata": {},
   "source": [
    "如果大小写很重要，这种行为有其优点。但如果大小写无关紧要，而只想检查变量的值，可将变量的值转换为小写，再进行比较:"
   ]
  },
  {
   "cell_type": "code",
   "execution_count": 7,
   "metadata": {},
   "outputs": [
    {
     "data": {
      "text/plain": [
       "True"
      ]
     },
     "execution_count": 7,
     "metadata": {},
     "output_type": "execute_result"
    }
   ],
   "source": [
    "car = 'Audi'\n",
    "car.lower() == 'audi' "
   ]
  },
  {
   "cell_type": "markdown",
   "metadata": {},
   "source": [
    "无论值'Audi' 的大小写如何，上述测试都将返回True ，因为该测试不区分大小写。函数lower() 不会修改存储在变量car 中的值，因此进行这样的比较时不会影响原来的变 量:\n"
   ]
  },
  {
   "cell_type": "code",
   "execution_count": null,
   "metadata": {},
   "outputs": [],
   "source": [
    "car = 'Audi'#❶\n",
    "car.lower() == 'audi'#❷"
   ]
  },
  {
   "cell_type": "code",
   "execution_count": null,
   "metadata": {},
   "outputs": [],
   "source": [
    "car = 'Audi'#❶\n",
    "car.lower() == 'audi'#❷\n",
    "car#❸"
   ]
  },
  {
   "cell_type": "markdown",
   "metadata": {},
   "source": [
    "在❶处，我们将首字母大写的字符串'Audi' 存储在变量car 中;在❷处，我们获取变量car 的值并将其转换为小写，再将结果与字符串'audi' 进行比较。这两个字符串相 同，因此Python返回True 。从❸处的输出可知，这个条件测试并没有影响存储在变量car 中的值。\n",
    "\n",
    "网站采用类似的方式让用户输入的数据符合特定的格式。例如，网站可能使用类似的测试来确保用户名是独一无二的，而并非只是与另一个用户名的大小写不同。用户提交新的 用户名时，将把它转换为小写，并与所有既有用户名的小写版本进行比较。执行这种检查时，如果已经有用户名'john' (不管大小写如何)，则用户提交用户名'John' 时将 遭到拒绝。\n",
    "\n",
    "### 5.2.3 检查是否不相等\n",
    "\n",
    "要判断两个值是否不等，可结合使用惊叹号和等号(!= )，其中的惊叹号表示不 ，在很多编程语言中都如此。\n",
    "\n",
    "下面再使用一条if 语句来演示如何使用不等运算符。我们将把要求的比萨配料存储在一个变量中，再打印一条消息，指出顾客要求的配料是否是意式小银鱼(anchovies): \n",
    "\n",
    "**toppings.py**"
   ]
  },
  {
   "cell_type": "code",
   "execution_count": 10,
   "metadata": {},
   "outputs": [
    {
     "name": "stdout",
     "output_type": "stream",
     "text": [
      "Hold the anchovies!\n"
     ]
    }
   ],
   "source": [
    "requested_topping = 'mushrooms'\n",
    "\n",
    "\n",
    "if requested_topping != 'anchovies':# ❶\n",
    "      print(\"Hold the anchovies!\")"
   ]
  },
  {
   "cell_type": "markdown",
   "metadata": {},
   "source": [
    "❶处的代码行将requested_topping 的值与'anchovies' 进行比较，如果它们不相等，Python将返回True ，进而执行紧跟在if 语句后面的代码;如果这两个值相 等，Python将返回False ，因此不执行紧跟在if 语句后面的代码。\n",
    "\n",
    "由于requested_topping 的值不是'anchovies' ，因此执行print 语句。\n",
    "\n",
    "你编写的大多数条件表达式都检查两个值是否相等，但有时候检查两个值是否不等的效率更高。 \n",
    "\n",
    "### 5.2.4 比较数字\n",
    "\n",
    "检查数值非常简单，例如，下面的代码检查一个人是否是18岁:"
   ]
  },
  {
   "cell_type": "code",
   "execution_count": null,
   "metadata": {},
   "outputs": [],
   "source": [
    "age = 18 \n",
    "age == 18 "
   ]
  },
  {
   "cell_type": "markdown",
   "metadata": {},
   "source": [
    "你还可以检查两个数字是否不等，例如，下面的代码在提供的答案不正确时打印一条消息:\n",
    "\n",
    "**magic_number.py**"
   ]
  },
  {
   "cell_type": "code",
   "execution_count": null,
   "metadata": {},
   "outputs": [],
   "source": [
    "answer = 17\n",
    "\n",
    "if answer != 42:#❶\n",
    "    print(\"That is not the correct answer. Please try again!\")"
   ]
  },
  {
   "cell_type": "markdown",
   "metadata": {},
   "source": [
    "answer (17 )不是42 ，❶处的条件得到满足，因此缩进的代码块得以执行。"
   ]
  },
  {
   "cell_type": "markdown",
   "metadata": {},
   "source": [
    "条件语句中可包含各种数学比较，如小于、小于等于、大于、大于等于:"
   ]
  },
  {
   "cell_type": "code",
   "execution_count": null,
   "metadata": {},
   "outputs": [],
   "source": [
    "age = 19 \n",
    "age < 21  "
   ]
  },
  {
   "cell_type": "code",
   "execution_count": null,
   "metadata": {},
   "outputs": [],
   "source": [
    "age = 19  \n",
    "age <= 21 "
   ]
  },
  {
   "cell_type": "code",
   "execution_count": null,
   "metadata": {},
   "outputs": [],
   "source": [
    "age = 19 \n",
    "age > 21 "
   ]
  },
  {
   "cell_type": "code",
   "execution_count": null,
   "metadata": {},
   "outputs": [],
   "source": [
    "age = 19 \n",
    "age >= 21"
   ]
  },
  {
   "cell_type": "markdown",
   "metadata": {},
   "source": [
    "在if 语句中可使用各种数学比较，这让你能够直接检查关心的条件。 \n",
    "\n",
    "### 5.2.5 检查多个条件\n",
    "\n",
    "你可能想同时检查多个条件，例如，有时候你需要在两个条件都为True 时才执行相应的操作，而有时候你只要求一个条件为True 时就执行相应的操作。在这些情况下，关键 字and 和or 可助你一臂之力。\n",
    "\n",
    "**1. 使用and 检查多个条件**\n",
    "\n",
    "要检查是否两个条件都为True ，可使用关键字and 将两个条件测试合而为一;如果每个测试都通过了，整个表达式就为True ;如果至少有一个测试没有通过，整个表达式就\n",
    "为False 。 \n",
    "\n",
    "例如，要检查是否两个人都不小于21岁，可使用下面的测试:"
   ]
  },
  {
   "cell_type": "code",
   "execution_count": null,
   "metadata": {},
   "outputs": [],
   "source": [
    "age_0 = 22#❶\n",
    "age_1 = 18\n",
    "age_0 >= 21 and age_1 >= 21#❷"
   ]
  },
  {
   "cell_type": "code",
   "execution_count": null,
   "metadata": {},
   "outputs": [],
   "source": [
    "age_0 = 22#❶ \n",
    "age_1 = 22#❸\n",
    "age_0 >= 21 and age_1 >= 21 "
   ]
  },
  {
   "cell_type": "markdown",
   "metadata": {},
   "source": [
    "在❶处，我们定义了两个用于存储年龄的变量:age_0 和age_1 。在❷处，我们检查这两个变量是否都大于或等于21;左边的测试通过了，但右边的测试没有通过，因此整个 条件表达式的结果为False 。在❸处，我们将age_1 改为22，这样age_1 的值大于21，因此两个测试都通过了，导致整个条件表达式的结果为True 。\n",
    "\n",
    "为改善可读性，可将每个测试都分别放在一对括号内，但并非必须这样做。如果你使用括号，测试将类似于下面这样:"
   ]
  },
  {
   "cell_type": "code",
   "execution_count": null,
   "metadata": {},
   "outputs": [],
   "source": [
    "(age_0 >= 21) and (age_1 >= 21)"
   ]
  },
  {
   "cell_type": "markdown",
   "metadata": {},
   "source": [
    "**2. 使用or 检查多个条件**\n",
    "\n",
    "关键字or 也能够让你检查多个条件，但只要至少有一个条件满足，就能通过整个测试。仅当两个测试都没有通过时，使用or 的表达式才为False 。 \n",
    "\n",
    "下面再次检查两个人的年龄，但检查的条件是至少有一个人的年龄不小于21岁:\n"
   ]
  },
  {
   "cell_type": "code",
   "execution_count": 2,
   "metadata": {},
   "outputs": [
    {
     "data": {
      "text/plain": [
       "True"
      ]
     },
     "execution_count": 2,
     "metadata": {},
     "output_type": "execute_result"
    }
   ],
   "source": [
    "age_0 = 22#❶\n",
    "age_1 = 18\n",
    "age_0 >= 21 or age_1 >= 21#❷"
   ]
  },
  {
   "cell_type": "code",
   "execution_count": 3,
   "metadata": {},
   "outputs": [
    {
     "data": {
      "text/plain": [
       "False"
      ]
     },
     "execution_count": 3,
     "metadata": {},
     "output_type": "execute_result"
    }
   ],
   "source": [
    "age_0 = 18#❶ \n",
    "age_1 = 18#❸\n",
    "age_0 >= 21 or age_1 >= 21 "
   ]
  },
  {
   "cell_type": "code",
   "execution_count": 5,
   "metadata": {},
   "outputs": [
    {
     "name": "stdout",
     "output_type": "stream",
     "text": [
      "True\n"
     ]
    }
   ],
   "source": [
    "condition=age_0 >= 21 or (age_1 >= 21 and age_0 <= 21) or age_1 <= 21\n",
    "print(condition)"
   ]
  },
  {
   "cell_type": "markdown",
   "metadata": {},
   "source": [
    "同样，我们首先定义了两个用于存储年龄的变量(见❶)。由于❷处对age_0 的测试通过了，因此整个表达式的结果为True 。接下来，我们将age_0 减小为18;在❸处的测试 中，两个测试都没有通过，因此整个表达式的结果为False 。\n",
    "\n",
    "### 5.2.6   检查特定值是否包含在列表中 \n",
    "有时候，执行操作前必须检查列表是否包含特定的值。例如，结束用户的注册过程前，可能需要检查他提供的用户名是否已包含在用户名列表中。在地图程序中，可能需要检查\n",
    "\n",
    "用户提交的位置是否包含在已知位置列表中。\n",
    "\n",
    "要判断特定的值是否已包含在列表中，可使用关键字in 。来看你可能为比萨店编写的一些代码;这些代码首先创建一个列表，其中包含用户点的比萨配料，然后检查特定的配料 是否包含在该列表中。"
   ]
  },
  {
   "cell_type": "code",
   "execution_count": 6,
   "metadata": {},
   "outputs": [
    {
     "data": {
      "text/plain": [
       "True"
      ]
     },
     "execution_count": 6,
     "metadata": {},
     "output_type": "execute_result"
    }
   ],
   "source": [
    "requested_toppings = ['mushrooms', 'onions', 'pineapple']   \n",
    "'mushrooms' in requested_toppings#❶"
   ]
  },
  {
   "cell_type": "code",
   "execution_count": 7,
   "metadata": {},
   "outputs": [
    {
     "data": {
      "text/plain": [
       "False"
      ]
     },
     "execution_count": 7,
     "metadata": {},
     "output_type": "execute_result"
    }
   ],
   "source": [
    "requested_toppings = ['mushrooms', 'onions', 'pineapple'] \n",
    "'pepperoni' in requested_toppings#❷ "
   ]
  },
  {
   "cell_type": "markdown",
   "metadata": {},
   "source": [
    "在❶处和❷处，关键字in 让Python检查列表requested_toppings 是否包含'mushrooms' 和'pepperoni' 。这种技术很有用，它让你能够在创建一个列表后，轻松地检 查其中是否包含特定的值。\n",
    "\n",
    "### 5.2.7   检查特定值是否不包含在列表中\n",
    "\n",
    "还有些时候，确定特定的值未包含在列表中很重要;在这种情况下，可使用关键字not in。例如，如果有一个列表，其中包含被禁止在论坛上发表评论的用户，就可在允许用 户提交评论前检查他是否被禁言:\n",
    "\n",
    "**banned_users.py**"
   ]
  },
  {
   "cell_type": "code",
   "execution_count": null,
   "metadata": {},
   "outputs": [],
   "source": [
    "banned_users = ['andrew', 'carolina', 'david'] \n",
    "user = 'marie'\n",
    " \n",
    "if user not in banned_users:#❶\n",
    "    print(user.title() + \", you can post a response if you wish.\")"
   ]
  },
  {
   "cell_type": "markdown",
   "metadata": {},
   "source": [
    "❶处的代码行明白易懂:如果user 的值未包含在列表banned_users 中，Python将返回True ，进而执行缩进的代码行。 \n",
    "    \n",
    "\n",
    "用户'marie' 未包含在列表banned_users 中，因此她将看到一条邀请她发表评论的消息."
   ]
  },
  {
   "cell_type": "markdown",
   "metadata": {},
   "source": [
    "### 5.2.8 布尔表达式\n",
    "\n",
    "随着你对编程的了解越来越深入，将遇到术语**布尔表达式** ，它不过是条件测试的别名。与条件表达式一样，布尔表达式的结果要么为True ，要么为False 。 \n",
    "\n",
    "布尔值通常用于记录条件，如游戏是否正在运行，或用户是否可以编辑网站的特定内容:"
   ]
  },
  {
   "cell_type": "code",
   "execution_count": 9,
   "metadata": {},
   "outputs": [
    {
     "data": {
      "text/plain": [
       "0"
      ]
     },
     "execution_count": 9,
     "metadata": {},
     "output_type": "execute_result"
    }
   ],
   "source": [
    "game_active = True \n",
    "can_edit = False"
   ]
  },
  {
   "cell_type": "code",
   "execution_count": 13,
   "metadata": {},
   "outputs": [
    {
     "name": "stdout",
     "output_type": "stream",
     "text": [
      "0abcd\n"
     ]
    }
   ],
   "source": [
    "if can_edit:\n",
    "    print(\"1\"+\"abcd\")\n",
    "else:\n",
    "    print(\"0\"+\"abcd\")"
   ]
  },
  {
   "cell_type": "markdown",
   "metadata": {},
   "source": [
    "在跟踪程序状态或程序中重要的条件方面，布尔值提供了一种高效的方式。 \n",
    "\n",
    "   **动手试一试**\n",
    "\n",
    "   **5-1 条件测试 :**编写一系列条件测试;将每个测试以及你对其结果的预测和实际结果都打印出来。你编写的代码应类似于下面这样:\n"
   ]
  },
  {
   "cell_type": "code",
   "execution_count": null,
   "metadata": {},
   "outputs": [],
   "source": [
    "car = 'subaru'\n",
    "print(\"Is car == 'subaru'? I predict True.\") \n",
    "print(car == 'subaru')\n",
    " \n",
    "print(\"\\nIs car == 'audi'? I predict False.\") \n",
    "print(car == 'audi')"
   ]
  },
  {
   "cell_type": "markdown",
   "metadata": {},
   "source": [
    "   - 详细研究实际结果，直到你明白了它为何为True 或False 。\n",
    "   \n",
    "   - 创建至少10个测试，且其中结果分别为True 和False 的测试都至少有5个。\n",
    "\n",
    "**5-2 更多的条件测试 :**你并非只能创建10个测试。如果你想尝试做更多的比较，可再编写一些测试，并将它们加入到conditional_tests.py中。对于下面列出的各种测试，至少编写一个结果为True 和False 的测试。 \n",
    "\n",
    "   - 检查两个字符串相等和不等。\n",
    "    \n",
    "   - 使用函数lower() 的测试。 \n",
    "    \n",
    "   - 检查两个数字相等、不等、大于、小于、大于等于和小于等于。 \n",
    "   \n",
    "   - 使用关键字and 和or 的测试。 测试特定的值是否包含在列表中。 \n",
    "   \n",
    "   - 测试特定的值是否未包含在列表中。\n",
    "\n",
    "## 5.3 if 语句\n",
    "\n",
    "理解条件测试后，就可以开始编写if 语句了。if 语句有很多种，选择使用哪种取决于要测试的条件数。前面讨论条件测试时，列举了多个if 语句示例，下面更深入地讨论这个\n",
    "主题。\n",
    "\n",
    "### 5.3.1 简单的if 语句\n",
    "\n",
    "最简单的if 语句只有一个测试和一个操作:\n"
   ]
  },
  {
   "cell_type": "code",
   "execution_count": null,
   "metadata": {},
   "outputs": [],
   "source": [
    "if conditional_test: \n",
    "    do something"
   ]
  },
  {
   "cell_type": "markdown",
   "metadata": {},
   "source": [
    "在第1行中，可包含任何条件测试，而在紧跟在测试后面的缩进代码块中，可执行任何操作。如果条件测试的结果为True ，Python就会执行紧跟在if 语句后面的代码;否则 Python将忽略这些代码。\n",
    "\n",
    "假设有一个表示某人年龄的变量，而你想知道这个人是否够投票的年龄，可使用如下代码:\n",
    "\n",
    "**voting.py**"
   ]
  },
  {
   "cell_type": "code",
   "execution_count": 14,
   "metadata": {},
   "outputs": [
    {
     "name": "stdout",
     "output_type": "stream",
     "text": [
      "You are old enough to vote!\n"
     ]
    }
   ],
   "source": [
    "age = 19\n",
    "if age >= 18:#❶\n",
    "    print(\"You are old enough to vote!\")#❷"
   ]
  },
  {
   "cell_type": "markdown",
   "metadata": {},
   "source": [
    "在❶处，Python检查变量age 的值是否大于或等于18;答案是肯定的，因此Python执行❷处缩进的print 语句."
   ]
  },
  {
   "cell_type": "markdown",
   "metadata": {},
   "source": [
    "在if 语句中，缩进的作用与for 循环中相同。如果测试通过了，将执行if 语句后面所有缩进的代码行，否则将忽略它们。\n",
    "\n",
    "在紧跟在if 语句后面的代码块中，可根据需要包含任意数量的代码行。下面在一个人够投票的年龄时再打印一行输出，问他是否登记了:"
   ]
  },
  {
   "cell_type": "code",
   "execution_count": 17,
   "metadata": {},
   "outputs": [
    {
     "name": "stdout",
     "output_type": "stream",
     "text": [
      "You are old enough to vote!\n",
      "Have you registered to vote yet?\n"
     ]
    }
   ],
   "source": [
    "age = 19\n",
    "if age >= 18:\n",
    "    print(\"You are old enough to vote!\") \n",
    "    print(\"Have you registered to vote yet?\")"
   ]
  },
  {
   "cell_type": "markdown",
   "metadata": {},
   "source": [
    "条件测试通过了，而两条print 语句都缩进了，因此它们都将执行.\n",
    "\n"
   ]
  },
  {
   "cell_type": "markdown",
   "metadata": {},
   "source": [
    "如果age 的值小于18，这个程序将不会有任何输出。 \n",
    "\n",
    "### 5.3.2 if-else 语句\n",
    "\n",
    "经常需要在条件测试通过了时执行一个操作，并在没有通过时执行另一个操作;在这种情况下，可使用Python提供的if-else 语句。if-else 语句块类似于简单的if 语句，但 其中的else 语句让你能够指定条件测试未通过时要执行的操作。\n",
    "\n",
    "下面的代码在一个人够投票的年龄时显示与前面相同的消息，同时在这个人不够投票的年龄时也显示一条消息:\n"
   ]
  },
  {
   "cell_type": "code",
   "execution_count": null,
   "metadata": {},
   "outputs": [],
   "source": [
    "age = 17\n",
    "if age >= 18:#❶\n",
    "    print(\"You are old enough to vote!\")\n",
    "    print(\"Have you registered to vote yet?\") \n",
    "else:#❷\n",
    "    print(\"Sorry, you are too young to vote.\")\n",
    "    print(\"Please register to vote as soon as you turn 18!\")"
   ]
  },
  {
   "cell_type": "markdown",
   "metadata": {},
   "source": [
    "\n",
    "如果❶处的条件测试通过了，就执行第一个缩进的print 语句块;如果测试结果为False ，就执行❷处的else 代码块。这次age 小于18，条件测试未通过，因此执行else 代 码块中的代码。\n"
   ]
  },
  {
   "cell_type": "markdown",
   "metadata": {},
   "source": [
    "上述代码之所以可行，是因为只存在两种情形:要么够投票的年龄，要么不够。if-else 结构非常适合用于要让Python执行两种操作之一的情形。在这种简单的if-else 结构 中，总是会执行两个操作中的一个。\n",
    "\n",
    "### 5.3.3 if-elif-else 结构\n",
    "\n",
    "经常需要检查超过两个的情形，为此可使用Python提供的if-elif-else 结构。Python只执行if-elif-else 结构中的一个代码块，它依次检查每个条件测试，直到遇到通过\n",
    "了的条件测试。测试通过后，Python将执行紧跟在它后面的代码，并跳过余下的测试。\n",
    "\n",
    "在现实世界中，很多情况下需要考虑的情形都超过两个。例如，来看一个根据年龄段收费的游乐场:\n",
    "\n",
    "   - 4岁以下免费; \n",
    "    \n",
    "   - 4~18岁收费5美元; \n",
    "    \n",
    "   - 18岁(含)以上收费10美元。\n",
    "\n",
    "如果只使用一条if 语句，如何确定门票价格呢?下面的代码确定一个人所属的年龄段，并打印一条包含门票价格的消息: \n",
    "\n",
    "**amusement_park.py**"
   ]
  },
  {
   "cell_type": "code",
   "execution_count": 18,
   "metadata": {},
   "outputs": [
    {
     "name": "stdout",
     "output_type": "stream",
     "text": [
      "Your admission cost is $5.\n"
     ]
    }
   ],
   "source": [
    "age = 12\n",
    "\n",
    "if age < 4:#❶\n",
    "    print(\"Your admission cost is $0.\")\n",
    "elif age < 18:#❷\n",
    "    print(\"Your admission cost is $5.\")\n",
    "else:#❸\n",
    "    print(\"Your admission cost is $10.\")"
   ]
  },
  {
   "cell_type": "code",
   "execution_count": 20,
   "metadata": {},
   "outputs": [
    {
     "name": "stdout",
     "output_type": "stream",
     "text": [
      "Your admission cost is $10.\n"
     ]
    }
   ],
   "source": [
    "age = 18\n",
    "\n",
    "if age < 4:\n",
    "    print(\"Your admission cost is $0.\")\n",
    "else:\n",
    "    if age < 18:\n",
    "        print(\"Your admission cost is $5.\")\n",
    "    else:\n",
    "        print(\"Your admission cost is $10.\")"
   ]
  },
  {
   "cell_type": "code",
   "execution_count": 23,
   "metadata": {},
   "outputs": [],
   "source": [
    "age = 18\n",
    "\n",
    "if age < 4:\n",
    "    print(\"Your admission cost is $0.\")\n",
    "elif age < 18:\n",
    "    print(\"Your admission cost is $5.\")\n",
    "elif age>=19:\n",
    "    print(\"Your admission cost is $10.\")"
   ]
  },
  {
   "cell_type": "markdown",
   "metadata": {},
   "source": [
    "\n",
    "❶处的if 测试检查一个人是否不满4岁，如果是这样，Python就打印一条合适的消息，并跳过余下的测试。❷处的elif 代码行其实是另一个if 测试，它仅在前面的测试未通过 时才会运行。在这里，我们知道这个人不小于4岁，因为第一个测试未通过。如果这个人未满18岁，Python将打印相应的消息，并跳过else 代码块。如果if 测试和elif 测试都 未通过，Python将运行❸处else 代码块中的代码。\n",
    "\n",
    "在这个示例中，❶处测试的结果为False ，因此不执行其代码块。然而，第二个测试的结果为True (12小于18)，因此将执行其代码块。输出为一个句子，向用户指出了门票 价格。"
   ]
  },
  {
   "cell_type": "markdown",
   "metadata": {},
   "source": [
    "只要年龄超过17岁，前两个测试就都不能通过。在这种情况下，将执行else 代码块，指出门票价格为10美元。 \n",
    "\n",
    "为让代码更简洁，可不在if-elif-else 代码块中打印门票价格，而只在其中设置门票价格，并在它后面添加一条简单的print 语句:"
   ]
  },
  {
   "cell_type": "code",
   "execution_count": null,
   "metadata": {},
   "outputs": [],
   "source": [
    "age = 12\n",
    "if age < 4: #❶\n",
    "    price = 0\n",
    "elif age < 18:#❷     \n",
    "    price = 5\n",
    "else:#❸\n",
    "    price = 10\n",
    "            \n",
    "print(\"Your admission cost is $\" + str(price) + \".\")#❹"
   ]
  },
  {
   "cell_type": "markdown",
   "metadata": {},
   "source": [
    "❶处、❷处和❸处的代码行像前一个示例那样，根据人的年龄设置变量price 的值。在if-elif-else 结构中设置price 的值后，一条未缩进的print 语句❹会根据这个变 量的值打印一条消息，指出门票的价格。\n",
    "\n",
    "这些代码的输出与前一个示例相同，但if-elif-else 结构的作用更小，它只确定门票价格，而不是在确定门票价格的同时打印一条消息。除效率更高外，这些修订后的代码 还更容易修改:要调整输出消息的内容，只需修改一条而不是三条print 语句。\n",
    "\n",
    "### 5.3.4 使用多个elif 代码块\n",
    "\n",
    "可根据需要使用任意数量的elif 代码块，例如，假设前述游乐场要给老年人打折，可再添加一个条件测试，判断顾客是否符合打折条件。下面假设对于65岁(含)以上的老\n",
    "人，可以半价(即5美元)购买门票:"
   ]
  },
  {
   "cell_type": "code",
   "execution_count": null,
   "metadata": {},
   "outputs": [],
   "source": [
    "age = 12\n",
    "\n",
    "if age < 4: \n",
    "    price = 0\n",
    "elif age < 18: \n",
    "    price = 5\n",
    "elif age < 65: #❶\n",
    "    price = 10\n",
    "else:#❷\n",
    "    price = 5\n",
    "    \n",
    "print(\"Your admission cost is $\" + str(price) + \".\")"
   ]
  },
  {
   "cell_type": "markdown",
   "metadata": {},
   "source": [
    "这些代码大都未变。第二个elif 代码块(见❶)通过检查确定年龄不到65岁后，才将门票价格设置为全票价格——10美元。请注意，在else 代码块(见❷)中，必须将所赋的 值改为5，因为仅当年龄超过65(含)时，才会执行这个代码块。\n",
    "\n",
    "### 5.3.5 省略else 代码块\n",
    "\n",
    "Python并不要求if-elif 结构后面必须有else 代码块。在有些情况下，else 代码块很有用;而在其他一些情况下，使用一条elif 语句来处理特定的情形更清晰:"
   ]
  },
  {
   "cell_type": "code",
   "execution_count": null,
   "metadata": {},
   "outputs": [],
   "source": [
    "age = 12\n",
    "\n",
    "if age < 4: \n",
    "    price = 0\n",
    "elif age < 18: \n",
    "    price = 5\n",
    "elif age < 65: \n",
    "    price = 10\n",
    "elif age >= 65: #❶\n",
    "    price = 5\n",
    "\n",
    "print(\"Your admission cost is $\" + str(price) + \".\")"
   ]
  },
  {
   "cell_type": "markdown",
   "metadata": {},
   "source": [
    "❶处的elif 代码块在顾客的年龄超过65(含)时，将价格设置为5美元，这比使用else 代码块更清晰些。经过这样的修改后，每个代码块都仅在通过了相应的测试时才会执 行。\n",
    "\n",
    "else 是一条包罗万象的语句，只要不满足任何if 或elif 中的条件测试，其中的代码就会执行，这可能会引入无效甚至恶意的数据。如果知道最终要测试的条件，应考虑使用 一个elif 代码块来代替else 代码块。这样，你就可以肯定，仅当满足相应的条件时，你的代码才会执行。\n",
    "\n",
    "### 5.3.6 测试多个条件\n",
    "\n",
    "if-elif-else 结构功能强大，但仅适合用于只有一个条件满足的情况:遇到通过了的测试后，Python就跳过余下的测试。这种行为很好，效率很高，让你能够测试一个特定的\n",
    "条件。\n",
    "\n",
    "然而，有时候必须检查你关心的所有条件。在这种情况下，应使用一系列不包含elif 和else 代码块的简单if 语句。在可能有多个条件为True ，且你需要在每个条件为True 时都采取相应措施时，适合使用这种方法。\n",
    "\n",
    "下面再来看前面的比萨店示例。如果顾客点了两种配料，就需要确保在其比萨中包含这些配料:\n",
    "\n",
    "**toppings.py**"
   ]
  },
  {
   "cell_type": "code",
   "execution_count": null,
   "metadata": {},
   "outputs": [],
   "source": [
    "requested_toppings = ['mushrooms', 'extra cheese']#❶\n",
    "\n",
    "if 'mushrooms' in requested_toppings: #❷\n",
    "    print(\"Adding mushrooms.\")\n",
    "if 'pepperoni' in requested_toppings: #❸\n",
    "    print(\"Adding pepperoni.\")\n",
    "if 'extra cheese' in requested_toppings:# ❹\n",
    "    print(\"Adding extra cheese.\")\n",
    "\n",
    "print(\"\\nFinished making your pizza!\")"
   ]
  },
  {
   "cell_type": "markdown",
   "metadata": {},
   "source": [
    "我们首先创建了一个列表，其中包含顾客点的配料(见❶)。❷处的if 语句检查顾客是否点了配料蘑菇('mushrooms' )，如果点了，就打印一条确认消息。❸处检查配料辣 香肠('pepperoni' )的代码也是一个简单的if 语句，而不是elif 或else 语句;因此不管前一个测试是否通过，都将进行这个测试。❹处的代码检查顾客是否要求多加芝 士('extra cheese');不管前两个测试的结果如何，都会执行这些代码。每当这个程序运行时，都会进行这三个独立的测试。\n",
    "\n",
    "在这个示例中，会检查每个条件，因此将在比萨中添加蘑菇并多加芝士。"
   ]
  },
  {
   "cell_type": "markdown",
   "metadata": {},
   "source": [
    "如果像下面这样转而使用if-elif-else 结构，代码将不能正确地运行，因为有一个测试通过后，就会跳过余下的测试:\n"
   ]
  },
  {
   "cell_type": "code",
   "execution_count": null,
   "metadata": {},
   "outputs": [],
   "source": [
    "requested_toppings = ['mushrooms', 'extra cheese']\n",
    "\n",
    "if 'mushrooms' in requested_toppings: \n",
    "    print(\"Adding mushrooms.\")\n",
    "elif 'pepperoni' in requested_toppings: \n",
    "    print(\"Adding pepperoni.\")\n",
    "elif 'extra cheese' in requested_toppings: \n",
    "    print(\"Adding extra cheese.\")\n",
    "    \n",
    "print(\"\\nFinished making your pizza!\")"
   ]
  },
  {
   "cell_type": "markdown",
   "metadata": {},
   "source": [
    "第一个测试检查列表中是否包含'mushrooms' ，它通过了，因此将在比萨中添加蘑菇。然而，Python将跳过if-elif-else 结构中余下的测试，不再检查列表中是否包 含'extra cheese'和'pepperoni'。其结果是，将添加顾客点的第一种配料，但不会添加其他的配料。\n"
   ]
  },
  {
   "cell_type": "markdown",
   "metadata": {},
   "source": [
    "总之，如果你只想执行一个代码块，就使用if-elif-else 结构;如果要运行多个代码块，就使用一系列独立的if 语句。 \n",
    "   \n",
    "   **动手试一试**\n",
    "   \n",
    "   **5-3 外星人颜色#1 :** 假设在游戏中刚射杀了一个外星人，请创建一个名为alien_color 的变量，并将其设置为'green' 、'yellow' 或'red' 。 \n",
    "    \n",
    "   - 编写一条if 语句，检查外星人是否是绿色的;如果是，就打印一条消息，指出玩家获得了5个点。 \n",
    "   \n",
    "   \n",
    "   - 编写这个程序的两个版本，在一个版本中上述测试通过了，而在另一个版本中未通过(未通过测试时没有输出)。\n",
    "   \n",
    "    \n",
    "   **5-4 外星人颜色#2 :** 像练习5-3那样设置外星人的颜色，并编写一个if-else 结构。 \n",
    "   \n",
    "   - 如果外星人是绿色的，就打印一条消息，指出玩家因射杀该外星人获得了5个点。 \n",
    "   \n",
    "   \n",
    "   - 如果外星人不是绿色的，就打印一条消息，指出玩家获得了10个点。 \n",
    "   \n",
    "    \n",
    "   - 编写这个程序的两个版本，在一个版本中执行if 代码块，而在另一个版本中执行else 代码块。\n",
    "   \n",
    "   \n",
    "   **5-5 外星人颜色#3 :** 将练习5-4中的if-else 结构改为if-elif-else 结构。 \n",
    "   - 如果外星人是绿色的，就打印一条消息，指出玩家获得了5个点。 \n",
    "   \n",
    "   \n",
    "   - 如果外星人是黄色的，就打印一条消息，指出玩家获得了10个点。\n",
    "   \n",
    "   \n",
    "   - 如果外星人是红色的，就打印一条消息，指出玩家获得了15个点。 \n",
    "   \n",
    "   \n",
    "   - 编写这个程序的三个版本，它们分别在外星人为绿色、黄色和红色时打印一条消息。\n",
    "   \n",
    "    \n",
    "   **5-6 人生的不同阶段 :** 设置变量age 的值，再编写一个if-elif-else 结构，根据age 的值判断处于人生的哪个阶段。 \n",
    "    \n",
    "   - 如果一个人的年龄小于2岁，就打印一条消息，指出他是婴儿。 \n",
    "   \n",
    "   \n",
    "   - 如果一个人的年龄为2(含)~4岁，就打印一条消息，指出他正蹒跚学步。 \n",
    "   \n",
    "   \n",
    "   - 如果一个人的年龄为4(含)~13岁，就打印一条消息，指出他是儿童。\n",
    "   \n",
    "   \n",
    "   - 如果一个人的年龄为13(含)~20岁，就打印一条消息，指出他是青少年。\n",
    "   \n",
    "   \n",
    "   - 如果一个人的年龄为20(含)~65岁，就打印一条消息，指出他是成年人。\n",
    "   \n",
    "   \n",
    "   - 如果一个人的年龄超过65(含)岁，就打印一条消息，指出他是老年人。\n",
    "   \n",
    "   \n",
    "   **5-7 喜欢的水果 :** 创建一个列表，其中包含你喜欢的水果，再编写一系列独立的if 语句，检查列表中是否包含特定的水果。 \n",
    "   \n",
    "   - 将该列表命名为favorite_fruits ，并在其中包含三种水果。\n",
    "   \n",
    "   \n",
    "   - 编写5条if 语句，每条都检查某种水果是否包含在列表中，如果包含在列表中，就打印一条消息，如“You really like bananas!”。\n",
    "\n",
    "## 5.4 使用if 语句处理列表\n",
    "\n",
    "通过结合使用if 语句和列表，可完成一些有趣的任务:对列表中特定的值做特殊处理;高效地管理不断变化的情形，如餐馆是否还有特定的食材;证明代码在各种情形下都将按预期那样运行。 \n",
    "\n",
    "### 5.4.1 检查特殊元素\n",
    "\n",
    "本章开头通过一个简单示例演示了如何处理特殊值'bmw' ——它需要采用不同的格式进行打印。既然你对条件测试和if 语句有了大致的认识，下面来进一步研究如何检查列表 中的特殊值，并对其做合适的处理。\n",
    "\n",
    "继续使用前面的比萨店示例。这家比萨店在制作比萨时，每添加一种配料都打印一条消息。通过创建一个列表，在其中包含顾客点的配料，并使用一个循环来指出添加到比萨中 的配料，可以以极高的效率编写这样的代码:\n",
    "\n",
    "**toppings.py**"
   ]
  },
  {
   "cell_type": "code",
   "execution_count": null,
   "metadata": {},
   "outputs": [],
   "source": [
    "requested_toppings = ['mushrooms', 'green peppers', 'extra cheese']\n",
    "\n",
    "for requested_topping in requested_toppings: \n",
    "    print(\"Adding \" + requested_topping + \".\")\n",
    "\n",
    "print(\"\\nFinished making your pizza!\")"
   ]
  },
  {
   "cell_type": "markdown",
   "metadata": {},
   "source": [
    "输出很简单，因为上述代码不过是一个简单的for 循环."
   ]
  },
  {
   "cell_type": "markdown",
   "metadata": {},
   "source": [
    "然而，如果比萨店的青椒用完了，该如何处理呢?为妥善地处理这种情况，可在for 循环中包含一条if 语句:\n"
   ]
  },
  {
   "cell_type": "code",
   "execution_count": 24,
   "metadata": {},
   "outputs": [
    {
     "name": "stdout",
     "output_type": "stream",
     "text": [
      "Adding mushrooms.\n",
      "Sorry, we are out of green peppers right now.\n",
      "Adding extra cheese.\n",
      "\n",
      "Finished making your pizza!\n"
     ]
    }
   ],
   "source": [
    "requested_toppings = ['mushrooms', 'green peppers', 'extra cheese']\n",
    "\n",
    "for requested_topping in requested_toppings: \n",
    "    if requested_topping == 'green peppers':#❶\n",
    "        print(\"Sorry, we are out of green peppers right now.\") \n",
    "    else:#❷\n",
    "        print(\"Adding \" + requested_topping + \".\") \n",
    "        \n",
    "print(\"\\nFinished making your pizza!\")                  "
   ]
  },
  {
   "cell_type": "code",
   "execution_count": 26,
   "metadata": {},
   "outputs": [
    {
     "name": "stdout",
     "output_type": "stream",
     "text": [
      "13\n",
      "26\n",
      "39\n",
      "52\n",
      "65\n",
      "78\n",
      "91\n"
     ]
    }
   ],
   "source": [
    "nums=range(1,100)\n",
    "for i in nums:\n",
    "    if i%13==0:\n",
    "        print(i)"
   ]
  },
  {
   "cell_type": "markdown",
   "metadata": {},
   "source": [
    "这里在比萨中添加每种配料前都进行检查。❶处的代码检查顾客点的是否是青椒，如果是，就显示一条消息，指出不能点青椒的原因。❷处的else 代码块确保其他配料都将添 加到比萨中。\n",
    "\n",
    "输出表明，妥善地处理了顾客点的每种配料。"
   ]
  },
  {
   "cell_type": "markdown",
   "metadata": {},
   "source": [
    "### 5.4.2 确定列表不是空的 \n",
    "\n",
    "到目前为止，对于处理的每个列表都做了一个简单的假设，即假设它们都至少包含一个元素。我们马上就要让用户来提供存储在列表中的信息，因此不能再假设循环运行时列表不是空的。有鉴于此，在运行for 循环前确定列表是否为空很重要。 \n",
    "\n",
    "下面在制作比萨前检查顾客点的配料列表是否为空。如果列表是空的，就向顾客确认他是否要点普通比萨;如果列表不为空，就像前面的示例那样制作比萨:"
   ]
  },
  {
   "cell_type": "code",
   "execution_count": 28,
   "metadata": {},
   "outputs": [
    {
     "name": "stdout",
     "output_type": "stream",
     "text": [
      "\n",
      "Finished making your pizza!\n"
     ]
    }
   ],
   "source": [
    "requested_toppings = []#❶\n",
    "\n",
    "if  requested_toppings:#❷\n",
    "    for requested_topping in requested_toppings:\n",
    "        print(\"Adding \" + requested_topping + \".\") \n",
    "    print(\"\\nFinished making your pizza!\")\n",
    "else:#❸\n",
    "    print(\"Are you sure you want a plain pizza?\")"
   ]
  },
  {
   "cell_type": "markdown",
   "metadata": {},
   "source": [
    "在这里，我们首先创建了一个空列表，其中不包含任何配料(见❶)。在❷处我们进行了简单检查，而不是直接执行for 循环。在if 语句中将列表名用在条件表达式中 时，Python将在列表至少包含一个元素时返回True ，并在列表为空时返回False 。如果requested_toppings 不为空，就运行与前一个示例相同的for 循环;否则，就打印 一条消息，询问顾客是否确实要点不加任何配料的普通比萨(见❸)。\n",
    "\n",
    "在这里，这个列表为空，因此输出如下——询问顾客是否确实要点普通比萨."
   ]
  },
  {
   "cell_type": "markdown",
   "metadata": {},
   "source": [
    "如果这个列表不为空，将显示在比萨中添加的各种配料的输出。 \n",
    "\n",
    "### 5.4.3 使用多个列表\n",
    "\n",
    "顾客的要求往往五花八门，在比萨配料方面尤其如此。如果顾客要在比萨中添加炸薯条，该怎么办呢?可使用列表和if 语句来确定能否满足顾客的要求。 \n",
    "\n",
    "来看看在制作比萨前如何拒绝怪异的配料要求。下面的示例定义了两个列表，其中第一个列表包含比萨店供应的配料，而第二个列表包含顾客点的配料。这次对于requested_toppings 中的每个元素，都检查它是否是比萨店供应的配料，再决定是否在比萨中添加它:"
   ]
  },
  {
   "cell_type": "code",
   "execution_count": 29,
   "metadata": {},
   "outputs": [
    {
     "name": "stdout",
     "output_type": "stream",
     "text": [
      "Adding mushrooms.\n",
      "Sorry, we don't have french fries.\n",
      "Adding extra cheese.\n",
      "\n",
      "Finished making your pizza!\n"
     ]
    }
   ],
   "source": [
    "available_toppings = ['mushrooms', 'olives', 'green peppers', \n",
    "                       'pepperoni', 'pineapple', 'extra cheese']#❶\n",
    "\n",
    "requested_toppings = ['mushrooms', 'french fries', 'extra cheese']#❷\n",
    "\n",
    "for requested_topping in requested_toppings:#❸\n",
    "    if requested_topping in available_toppings:#❹\n",
    "         print(\"Adding \" + requested_topping + \".\")     \n",
    "    else:#❺\n",
    "        print(\"Sorry, we don't have \" + requested_topping + \".\") \n",
    "        \n",
    "print(\"\\nFinished making your pizza!\")"
   ]
  },
  {
   "cell_type": "markdown",
   "metadata": {},
   "source": [
    "在❶处，我们定义了一个列表，其中包含比萨店供应的配料。请注意，如果比萨店供应的配料是固定的，也可使用一个元组来存储它们。在❷处，我们又创建了一个列表，其中 包含顾客点的配料，请注意那个不同寻常的配料——'french fries'。在❸处，我们遍历顾客点的配料列表。在这个循环中，对于顾客点的每种配料，我们都检查它是否包 含在供应的配料列表中(见❹);如果答案是肯定的，就将其加入到比萨中，否则将运行else 代码块(见❺):打印一条消息，告诉顾客不供应这种配料。\n",
    "\n",
    "这些代码的输出整洁而详实。"
   ]
  },
  {
   "cell_type": "markdown",
   "metadata": {},
   "source": [
    "通过为数不多的几行代码，我们高效地处理了一种真实的情形! \n",
    "    \n",
    "   **动手试一试**\n",
    "   \n",
    "   **5-8 以特殊方式跟管理员打招呼 :** 创建一个至少包含5个用户名的列表，且其中一个用户名为'admin' 。想象你要编写代码，在每位用户登录网站后都打印一条问 候消息。遍历用户名列表，并向每位用户打印一条问候消息。\n",
    "   \n",
    "   - 如果用户名为'admin' ，就打印一条特殊的问候消息，如“Hello admin, would you like to see a status report?”。\n",
    "   \n",
    "    \n",
    "   - 否则，打印一条普通的问候消息，如“Hello Eric, thank you for logging in again”。\n",
    "   \n",
    "    \n",
    "   **5-9 处理没有用户的情形 :** 在为完成练习5-8编写的程序中，添加一条if 语句，检查用户名列表是否为空。\n",
    "\n",
    "   - 如果为空，就打印消息“We need to find some users!”。\n",
    "   \n",
    "\n",
    "   - 删除列表中的所有用户名，确定将打印正确的消息。\n",
    "   \n",
    "   \n",
    "   **5-10 检查用户名 :** 按下面的说明编写一个程序，模拟网站确保每位用户的用户名都独一无二的方式。\n",
    "\n",
    "   - 创建一个至少包含5个用户名的列表，并将其命名为current_users 。\n",
    "   \n",
    "   \n",
    "   - 再创建一个包含5个用户名的列表，将其命名为new_users ，并确保其中有一两个用户名也包含在列表current_users 中。\n",
    "   \n",
    "    \n",
    "   - 遍历列表new_users ，对于其中的每个用户名，都检查它是否已被使用。如果是这样，就打印一条消息，指出需要输入别的用户名;否则，打印一条消息，指 出这个用户名未被使用。\n",
    "   \n",
    "\n",
    "   - 确保比较时不区分大消息;换句话说，如果用户名'John' 已被使用，应拒绝用户名'JOHN' 。\n",
    "   \n",
    "    \n",
    "   **5-11 序数 :** 序数表示位置，如1st和2nd。大多数序数都以th结尾，只有1、2和3例外。\n",
    "\n",
    "   - 在一个列表中存储数字1~9。\n",
    "   \n",
    "   \n",
    "   - 遍历这个列表。\n",
    "   \n",
    "\n",
    "   - 在循环中使用一个if-elif-else 结构，以打印每个数字对应的序数。输出内容应为1st 、2nd 、3rd 、4th 、5th 、6th 、7th 、8th 和9th ，但每个序 数都独占一行。\n",
    "   \n",
    "\n",
    "## 5.5 设置if 语句的格式\n",
    "\n",
    "本章的每个示例都展示了良好的格式设置习惯。在条件测试的格式设置方面，PEP 8提供的唯一建议是，在诸如== 、>= 和<= 等比较运算符两边各添加一个空格，例如，if age < 4:要比if age<4:好。 \n",
    "\n",
    "这样的空格不会影响Python对代码的解读，而只是让代码阅读起来更容易。\n",
    "\n",
    "   **动手试一试**\n",
    "   \n",
    "   **5-12 设置if 语句的格式 :**审核你在本章编写的程序，确保正确地设置了条件测试的格式。\n",
    "   \n",
    "   **5-13 自己的想法 :**与刚拿起本书时相比，现在你是一名能力更强的程序员了。鉴于你对如何在程序中模拟现实情形有了更深入的认识，你可以考虑使用程序来解决一 些问题。随着编程技能不断提高，你可能想解决一些问题，请将这方面的想法记录下来。想想你可能想编写的游戏、想研究的数据集以及想创建的Web应用程序。\n",
    "\n",
    "## 5.6 小结\n",
    "\n",
    "在本章中，你学习了如何编写结果要么为Ture 要么为False 的条件测试。你学习了如何编写简单的if 语句、if-else 语句和if-elif-else 结构。在程序中，你使用了这 些结构来测试特定的条件，以确定这些条件是否满足。你学习了如何在利用高效的for 循环的同时，以不同于其他元素的方式对特定的列表元素进行处理。你还再次学习了 Python就代码格式方面提出的建议，这可确保即便你编写的程序越来越复杂，其代码依然易于阅读和理解。\n",
    "\n",
    "在第6章，你将学习Python字典。字典类似于列表，但让你能够将不同的信息关联起来。你将学习如何创建和遍历字典，以及如何将字典同列表和if 语句结合起来使用。学习字典 让你能够模拟更多现实世界的情形。\n"
   ]
  },
  {
   "cell_type": "code",
   "execution_count": null,
   "metadata": {},
   "outputs": [],
   "source": []
  }
 ],
 "metadata": {
  "kernelspec": {
   "display_name": "Python 3",
   "language": "python",
   "name": "python3"
  },
  "language_info": {
   "codemirror_mode": {
    "name": "ipython",
    "version": 3
   },
   "file_extension": ".py",
   "mimetype": "text/x-python",
   "name": "python",
   "nbconvert_exporter": "python",
   "pygments_lexer": "ipython3",
   "version": "3.6.5"
  }
 },
 "nbformat": 4,
 "nbformat_minor": 2
}
