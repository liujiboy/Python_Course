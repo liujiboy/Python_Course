{
 "cells": [
  {
   "cell_type": "code",
   "execution_count": 1,
   "metadata": {},
   "outputs": [
    {
     "name": "stdout",
     "output_type": "stream",
     "text": [
      "Help on class map in module builtins:\n",
      "\n",
      "class map(object)\n",
      " |  map(func, *iterables) --> map object\n",
      " |  \n",
      " |  Make an iterator that computes the function using arguments from\n",
      " |  each of the iterables.  Stops when the shortest iterable is exhausted.\n",
      " |  \n",
      " |  Methods defined here:\n",
      " |  \n",
      " |  __getattribute__(self, name, /)\n",
      " |      Return getattr(self, name).\n",
      " |  \n",
      " |  __iter__(self, /)\n",
      " |      Implement iter(self).\n",
      " |  \n",
      " |  __new__(*args, **kwargs) from builtins.type\n",
      " |      Create and return a new object.  See help(type) for accurate signature.\n",
      " |  \n",
      " |  __next__(self, /)\n",
      " |      Implement next(self).\n",
      " |  \n",
      " |  __reduce__(...)\n",
      " |      Return state information for pickling.\n",
      "\n"
     ]
    }
   ],
   "source": [
    "help(map)"
   ]
  },
  {
   "cell_type": "code",
   "execution_count": 3,
   "metadata": {},
   "outputs": [
    {
     "name": "stdout",
     "output_type": "stream",
     "text": [
      "Help on built-in function reduce in module _functools:\n",
      "\n",
      "reduce(...)\n",
      "    reduce(function, sequence[, initial]) -> value\n",
      "    \n",
      "    Apply a function of two arguments cumulatively to the items of a sequence,\n",
      "    from left to right, so as to reduce the sequence to a single value.\n",
      "    For example, reduce(lambda x, y: x+y, [1, 2, 3, 4, 5]) calculates\n",
      "    ((((1+2)+3)+4)+5).  If initial is present, it is placed before the items\n",
      "    of the sequence in the calculation, and serves as a default when the\n",
      "    sequence is empty.\n",
      "\n"
     ]
    }
   ],
   "source": [
    "from functools import reduce\n",
    "help(reduce)"
   ]
  },
  {
   "cell_type": "markdown",
   "metadata": {},
   "source": [
    "# 1.map"
   ]
  },
  {
   "cell_type": "code",
   "execution_count": 9,
   "metadata": {},
   "outputs": [
    {
     "name": "stdout",
     "output_type": "stream",
     "text": [
      "[0, 0, 0, 0, 0, 1]\n",
      "[1, 4, 9, 16, 25, 36]\n"
     ]
    }
   ],
   "source": [
    "def f1(x):\n",
    "    if x>5:\n",
    "        return 1\n",
    "    else:\n",
    "        return 0\n",
    "list1=[1,2,3,4,5,6]\n",
    "f2=lambda x:x**2\n",
    "list2=list(map(f1,list1))\n",
    "list3=list(map(f2,list1))\n",
    "print(list2)\n",
    "print(list3)"
   ]
  },
  {
   "cell_type": "code",
   "execution_count": 1,
   "metadata": {},
   "outputs": [
    {
     "name": "stdout",
     "output_type": "stream",
     "text": [
      "[0, 0, 0, 0, 0, 1]\n",
      "[1, 4, 9, 16, 25, 36]\n"
     ]
    }
   ],
   "source": [
    "def f1(x):\n",
    "    if x>5:\n",
    "        return 1\n",
    "    else:\n",
    "        return 0\n",
    "f2=lambda x:x**2\n",
    "list1=[1,2,3,4,5,6]\n",
    "list2=[f1(x) for x in list1]\n",
    "list3=[f2(x) for x in list1]\n",
    "print(list2)\n",
    "print(list3)"
   ]
  },
  {
   "cell_type": "markdown",
   "metadata": {},
   "source": [
    "# 2.reduce"
   ]
  },
  {
   "cell_type": "code",
   "execution_count": 13,
   "metadata": {},
   "outputs": [
    {
     "name": "stdout",
     "output_type": "stream",
     "text": [
      "21\n",
      "720\n"
     ]
    }
   ],
   "source": [
    "from functools import reduce\n",
    "def g1(x,y):\n",
    "    return x+y\n",
    "g2=lambda x,y:x*y\n",
    "list1=[1,2,3,4,5,6]\n",
    "sum_list1=reduce(g1,list1)\n",
    "prod_list1=reduce(g2,list1)\n",
    "print(sum_list1)\n",
    "print(prod_list1)"
   ]
  },
  {
   "cell_type": "code",
   "execution_count": 14,
   "metadata": {},
   "outputs": [
    {
     "name": "stdout",
     "output_type": "stream",
     "text": [
      "21\n"
     ]
    }
   ],
   "source": [
    "x=0\n",
    "def g1(x,y):\n",
    "    return x+y\n",
    "list1=[1,2,3,4,5,6]\n",
    "for y in list1:\n",
    "    x=g1(x,y)\n",
    "print(x)"
   ]
  },
  {
   "cell_type": "code",
   "execution_count": 16,
   "metadata": {},
   "outputs": [
    {
     "name": "stdout",
     "output_type": "stream",
     "text": [
      "720\n"
     ]
    }
   ],
   "source": [
    "x=1\n",
    "g2=lambda x,y:x*y\n",
    "list1=[1,2,3,4,5,6]\n",
    "for y in list1:\n",
    "    x=g2(x,y)\n",
    "print(x)"
   ]
  },
  {
   "cell_type": "code",
   "execution_count": 2,
   "metadata": {},
   "outputs": [
    {
     "name": "stdout",
     "output_type": "stream",
     "text": [
      "21\n"
     ]
    }
   ],
   "source": [
    "list1=[1,2,3,4,5,6]\n",
    "x=0\n",
    "for y in list1:\n",
    "    x=x+y\n",
    "print(x)"
   ]
  },
  {
   "cell_type": "code",
   "execution_count": 3,
   "metadata": {},
   "outputs": [
    {
     "name": "stdout",
     "output_type": "stream",
     "text": [
      "720\n"
     ]
    }
   ],
   "source": [
    "list1=[1,2,3,4,5,6]\n",
    "x=1\n",
    "for y in list1:\n",
    "    x=x*y\n",
    "print(x)"
   ]
  },
  {
   "cell_type": "markdown",
   "metadata": {},
   "source": [
    "# 3.Map-Reduce"
   ]
  },
  {
   "cell_type": "code",
   "execution_count": 19,
   "metadata": {},
   "outputs": [
    {
     "name": "stdout",
     "output_type": "stream",
     "text": [
      "91\n"
     ]
    }
   ],
   "source": [
    "list1=[1,2,3,4,5,6]\n",
    "f1=lambda x:x**2\n",
    "f2=lambda x,y:x+y\n",
    "v=reduce(f2,map(f1,list1)) #1*1+2*2+3*3+4*4+5*5+6*6\n",
    "print(v)"
   ]
  },
  {
   "cell_type": "code",
   "execution_count": 20,
   "metadata": {},
   "outputs": [
    {
     "name": "stdout",
     "output_type": "stream",
     "text": [
      "{'a': 9, 'b': 5, 'c': 2, 'd': 9, 'f': 10, 'e': 4, 's': 3, 'w': 3}\n"
     ]
    }
   ],
   "source": [
    "def letter_count(x):\n",
    "    count={}\n",
    "    for i in x:\n",
    "        if count.get(i):\n",
    "            count[i]+=1\n",
    "        else:\n",
    "            count[i]=1\n",
    "    return count\n",
    "def letter_sum(count_x,count_y):\n",
    "    sum_count={}\n",
    "    for key in count_x.keys():\n",
    "        sum_count[key]=count_x[key]\n",
    "    for key in count_y.keys():\n",
    "        if sum_count.get(key):\n",
    "            sum_count[key]+=count_y[key]\n",
    "        else:\n",
    "            sum_count[key]=count_y[key]\n",
    "    return sum_count\n",
    "lines=[\"abcdafdb\",\"efabcdfasd\",\"abdsfdfwe\",\"addfabefa\",\"dffafwews\"]\n",
    "v=reduce(letter_sum,map(letter_count,lines))\n",
    "print(v)"
   ]
  },
  {
   "cell_type": "code",
   "execution_count": null,
   "metadata": {},
   "outputs": [],
   "source": []
  }
 ],
 "metadata": {
  "kernelspec": {
   "display_name": "Python 3",
   "language": "python",
   "name": "python3"
  },
  "language_info": {
   "codemirror_mode": {
    "name": "ipython",
    "version": 3
   },
   "file_extension": ".py",
   "mimetype": "text/x-python",
   "name": "python",
   "nbconvert_exporter": "python",
   "pygments_lexer": "ipython3",
   "version": "3.6.5"
  }
 },
 "nbformat": 4,
 "nbformat_minor": 2
}
