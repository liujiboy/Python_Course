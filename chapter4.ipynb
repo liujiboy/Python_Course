{
 "cells": [
  {
   "cell_type": "markdown",
   "metadata": {},
   "source": [
    "# 第 4 章 操作列表\n",
    "在第3章，你学习了如何创建简单的列表，还学习了如何操作列表元素。在本章中，你将学习如何遍历 整个列表，这只需要几行代码，无论列表有多长。循环让你能 够对列表的每个元素都采取一个或一系列相同的措施，从而高效地处理任何长度的列表，包括包含数千乃至数百万个元素的列表。\n",
    "\n",
    "## 4.1 遍历整个列表 \n",
    "你经常需要遍历列表的所有元素，对每个元素执行相同的操作。例如，在游戏中，可能需要将每个界面元素平移相同的距离;对于包含数字的列表，可能需要对每个元素执行相同的统计运算;在网站中，可能需要显示文章列表中的每个标题。需要对列表中的每个元素都执行相同的操作时，可使用Python中的for 循环。\n",
    "\n",
    "假设我们有一个魔术师名单，需要将其中每个魔术师的名字都打印出来。为此，我们可以分别获取名单中的每个名字，但这种做法会导致多个问题。例如，如果名单很长，将包含大量重复的代码。另外，每当名单的长度发生变化时，都必须修改代码。通过使用for 循环，可让Python去处理这些问题。 \n",
    "\n",
    "下面使用for 循环来打印魔术师名单中的所有名字:\n",
    "\n",
    "**magicians.py**"
   ]
  },
  {
   "cell_type": "code",
   "execution_count": 1,
   "metadata": {},
   "outputs": [
    {
     "name": "stdout",
     "output_type": "stream",
     "text": [
      "alice\n",
      "david\n",
      "carolina\n"
     ]
    }
   ],
   "source": [
    "magicians = ['alice', 'david', 'carolina']#❶\n",
    "for magician in magicians:#❷\n",
    "    print(magician)#❸"
   ]
  },
  {
   "cell_type": "markdown",
   "metadata": {},
   "source": [
    "首先，我们像第3章那样定义了一个列表(见❶)。接下来，我们定义了一个for 循环(见❷);这行代码让Python从列表magicians 中取出一个名字，并将其存储在变 量magician 中。最后，我们让Python打印前面存储到变量magician 中的名字(见❸)。这样，对于列表中的每个名字，Python都将重复执行❷处和❸处的代码行。你可以这 样解读这些代码:对于列表magicians 中的每位魔术师，都将其名字打印出来。输出很简单，就是列表中所有的姓名。\n",
    "\n",
    "### 4.1.1   深入地研究循环 \n",
    "循环这种概念很重要，因为它是让计算机自动完成重复工作的常见方式之一。例如，在前面的magicians.py中使用的简单循环中，Python将首先读取其中的第一行代码:"
   ]
  },
  {
   "cell_type": "code",
   "execution_count": null,
   "metadata": {},
   "outputs": [],
   "source": [
    "for magician in magicians："
   ]
  },
  {
   "cell_type": "markdown",
   "metadata": {},
   "source": [
    "这行代码让Python获取列表magicians 中的第一个值('alice' )，并将其存储到变量magician 中。接下来，Python读取下一行代码:"
   ]
  },
  {
   "cell_type": "code",
   "execution_count": null,
   "metadata": {},
   "outputs": [],
   "source": [
    "    print(magician)"
   ]
  },
  {
   "cell_type": "markdown",
   "metadata": {},
   "source": [
    "它让Python打印magician 的值——依然是'alice' 。鉴于该列表还包含其他值，Python返回到循环的第一行:\n"
   ]
  },
  {
   "cell_type": "code",
   "execution_count": null,
   "metadata": {},
   "outputs": [],
   "source": [
    " for magician in magicians"
   ]
  },
  {
   "cell_type": "markdown",
   "metadata": {},
   "source": [
    "Python获取列表中的下一个名字——'david' ，并将其存储到变量magician 中，再执行下面这行代码:\n"
   ]
  },
  {
   "cell_type": "code",
   "execution_count": null,
   "metadata": {},
   "outputs": [],
   "source": [
    "   print(magician)"
   ]
  },
  {
   "cell_type": "markdown",
   "metadata": {},
   "source": [
    "Python再次打印变量magician 的值——当前为'david' 。接下来，Python再次执行整个循环，对列表中的最后一个值——'carolina' 进行处理。至此，列表中没有其他的值 了，因此Python接着执行程序的下一行代码。在这个示例中，for 循环后面没有其他的代码，因此程序就此结束。\n",
    "\n",
    "刚开始使用循环时请牢记，对列表中的每个元素，都将执行循环指定的步骤，而不管列表包含多少个元素。如果列表包含一百万个元素，Python就重复执行指定的步骤一百万次， 且通常速度非常快。\n",
    "\n",
    "另外，编写for 循环时，对于用于存储列表中每个值的临时变量，可指定任何名称。然而，选择描述单个列表元素的有意义的名称大有帮助。例如，对于小猫列表、小狗列表和 一般性列表，像下面这样编写for 循环的第一行代码是不错的选择:"
   ]
  },
  {
   "cell_type": "code",
   "execution_count": null,
   "metadata": {},
   "outputs": [],
   "source": [
    "for cat in cats:\n",
    "for dog in dogs:\n",
    "for item in list_of_items:"
   ]
  },
  {
   "cell_type": "markdown",
   "metadata": {},
   "source": [
    "这些命名约定有助于你明白for 循环中将对每个元素执行的操作。使用单数和复数式名称，可帮助你判断代码段处理的是单个列表元素还是整个列表。 \n",
    "\n",
    "### 4.1.2 在for 循环中执行更多的操作\n",
    "\n",
    "在for 循环中，可对每个元素执行任何操作。下面来扩展前面的示例，对于每位魔术师，都打印一条消息，指出他的表演太精彩了。"
   ]
  },
  {
   "cell_type": "code",
   "execution_count": 2,
   "metadata": {},
   "outputs": [
    {
     "name": "stdout",
     "output_type": "stream",
     "text": [
      "Alice, that was a great trick!\n",
      "David, that was a great trick!\n",
      "Carolina, that was a great trick!\n"
     ]
    }
   ],
   "source": [
    "magicians = ['alice', 'david', 'carolina']\n",
    "for magician in magicians:\n",
    "   print(magician.title() + \", that was a great trick!\")#❶"
   ]
  },
  {
   "cell_type": "markdown",
   "metadata": {},
   "source": [
    "相比于前一个示例，唯一的不同是对于每位魔术师，都打印了一条以其名字为抬头的消息(见❶)。这个循环第一次迭代时，变量magician 的值为'alice' ，因此Python打印 的第一条消息的抬头为'Alice' 。第二次迭代时，消息的抬头为'David' ，而第三次迭代时，抬头为'Carolina' 。\n",
    "\n",
    "上面的输出表明，对于列表中的每位魔术师，都打印了一条个性化消息。\n"
   ]
  },
  {
   "cell_type": "markdown",
   "metadata": {},
   "source": [
    "在for循环中，想包含多少行代码都可以。在代码行for magician in magicians后面，每个缩进的代码行都是循环的一部分，且将针对列表中的每个值都执行一次。因 此，可对列表中的每个值执行任意次数的操作。\n",
    "\n",
    "下面再添加一行代码，告诉每位魔术师，我们期待他的下一次表演:\n"
   ]
  },
  {
   "cell_type": "code",
   "execution_count": 8,
   "metadata": {},
   "outputs": [
    {
     "name": "stdout",
     "output_type": "stream",
     "text": [
      "Alice, that was a great trick!\n",
      "I can't wait to see your next trick, Alice\n",
      "\n",
      "David, that was a great trick!\n",
      "I can't wait to see your next trick, David\n",
      "\n",
      "Carolina, that was a great trick!\n",
      "I can't wait to see your next trick, Carolina\n",
      "\n"
     ]
    }
   ],
   "source": [
    "magicians = ['alice', 'david', 'carolina'] \n",
    "for magician in magicians:\n",
    "    print(magician.title() + \", that was a great trick!\")\n",
    "    print(\"I can't wait to see your next trick, \" + magician.title() + \".\\n\")#❶"
   ]
  },
  {
   "cell_type": "markdown",
   "metadata": {},
   "source": [
    "由于两条print 语句都缩进了，因此它们都将针对列表中的每位魔术师执行一次。第二条print 语句中的换行符\"\\n\" (见❶)在每次迭代结束后都插入一个空行，从而整洁地 将针对各位魔术师的消息编组。"
   ]
  },
  {
   "cell_type": "markdown",
   "metadata": {},
   "source": [
    "在for 循环中，想包含多少行代码都可以。实际上，你会发现使用for 循环对每个元素执行众多不同的操作很有用。 \n",
    "\n",
    "### 4.1.3 在for 循环结束后执行一些操作\n",
    "\n",
    "for 循环结束后再怎么做呢?通常，你需要提供总结性输出或接着执行程序必须完成的其他任务。\n",
    "\n",
    "在for 循环后面，没有缩进的代码都只执行一次，而不会重复执行。下面来打印一条向全体魔术师致谢的消息，感谢他们的精彩表演。想要在打印给各位魔术师的消息后面打印 一条给全体魔术师的致谢消息，需要将相应的代码放在for 循环后面，且不缩进:"
   ]
  },
  {
   "cell_type": "code",
   "execution_count": 9,
   "metadata": {},
   "outputs": [
    {
     "name": "stdout",
     "output_type": "stream",
     "text": [
      "Alice, that was a great trick!\n",
      "I can't wait to see your next trick, Alice.\n",
      "\n",
      "Thank you, everyone. That was a great magic show!\n",
      "David, that was a great trick!\n",
      "I can't wait to see your next trick, David.\n",
      "\n",
      "Thank you, everyone. That was a great magic show!\n",
      "Carolina, that was a great trick!\n",
      "I can't wait to see your next trick, Carolina.\n",
      "\n",
      "Thank you, everyone. That was a great magic show!\n"
     ]
    }
   ],
   "source": [
    "magicians = ['alice', 'david', 'carolina'] \n",
    "for magician in magicians:\n",
    "    print(magician.title() + \", that was a great trick!\")\n",
    "    print(\"I can't wait to see your next trick, \" + magician.title() + \".\\n\")\n",
    "    print(\"Thank you, everyone. That was a great magic show!\")#❶"
   ]
  },
  {
   "cell_type": "markdown",
   "metadata": {},
   "source": [
    "你在前面看到了，开头两条print 语句针对列表中每位魔术师重复执行。然而，由于第三条print 语句没有缩进，因此只执行一次.\n"
   ]
  },
  {
   "cell_type": "markdown",
   "metadata": {},
   "source": [
    "使用for 循环处理数据是一种对数据集执行整体操作的不错的方式。例如，你可能使用for 循环来初始化游戏——遍历角色列表，将每个角色都显示到屏幕上;再在循环后面添 加一个不缩进的代码块，在屏幕上绘制所有角色后显示一个Play Now按钮。\n",
    "\n",
    "## 4.2 避免缩进错误\n",
    "\n",
    "Python根据缩进来判断代码行与前一个代码行的关系。在前面的示例中，向各位魔术师显示消息的代码行是for 循环的一部分，因为它们缩进了。Python通过使用缩进让代码更易读;简单地说，它要求你使用缩进让代码整洁而结构清晰。在较长Python程序中，你将看到缩进程度各不相同的代码块，这让你对程序的组织结构有大致的认识。 \n",
    "\n",
    "当你开始编写必须正确缩进的代码时，需要注意一些常见的缩进错误 。例如，有时候，程序员会将不需要缩进的代码块缩进，而对于必须缩进的代码块却忘了缩进。通过查看这样的错误示例，有助于你以后避开它们，以及在它们出现在程序中时进行修复。 \n",
    "\n",
    "下面来看一些较为常见的缩进错误。\n",
    "\n",
    "### 4.2.1 忘记缩进\n",
    "\n",
    "对于位于for 语句后面且属于循环组成部分的代码行，一定要缩进。如果你忘记缩进，Python会提醒你: \n",
    "\n",
    "**magicians.py**\n"
   ]
  },
  {
   "cell_type": "code",
   "execution_count": null,
   "metadata": {},
   "outputs": [],
   "source": [
    "magicians = ['alice', 'david', 'carolina']\n",
    "for magician in magicians: \n",
    "print(magician)#❶"
   ]
  },
  {
   "cell_type": "markdown",
   "metadata": {},
   "source": [
    "print 语句(见❶)应缩进却没有缩进。Python没有找到期望缩进的代码块时，会让你知道哪行代码有问题。"
   ]
  },
  {
   "cell_type": "markdown",
   "metadata": {},
   "source": [
    "通常，将紧跟在for 语句后面的代码行缩进，可消除这种缩进错误。 \n",
    "\n",
    "### 4.2.2 忘记缩进额外的代码行\n",
    "\n",
    "有时候，循环能够运行而不会报告错误，但结果可能会出乎意料。试图在循环中执行多项任务，却忘记缩进其中的一些代码行时，就会出现这种情况。 \n",
    "\n",
    "例如，如果忘记缩进循环中的第2行代码(它告诉每位魔术师，我们期待他的下一次表演)，就会出现这种情况:"
   ]
  },
  {
   "cell_type": "code",
   "execution_count": null,
   "metadata": {},
   "outputs": [],
   "source": [
    "magicians = ['alice', 'david', 'carolina'] \n",
    "for magician in magicians:\n",
    "    print(magician.title() + \", that was a great trick!\")\n",
    "print(\"I can't wait to see your next trick, \" + magician.title() + \".\\n\")#❶"
   ]
  },
  {
   "cell_type": "markdown",
   "metadata": {},
   "source": [
    "第二条print 语句(见❶)原本需要缩进，但Python发现for 语句后面有一行代码是缩进的，因此它没有报告错误。最终的结果是，对于列表中的每位魔术师，都执行了第一 条print 语句，因为它缩进了;而第二条print 语句没有缩进，因此它只在循环结束后执行一次。由于变量magician 的终值为'carolina' ，因此只有她收到了消息“looking forward to the next trick”。"
   ]
  },
  {
   "cell_type": "markdown",
   "metadata": {},
   "source": [
    "这是一个**逻辑错误** 。从语法上看，这些Python代码是合法的，但由于存在逻辑错误，结果并不符合预期。如果你预期某项操作将针对每个列表元素都执行一次，但它却只执行了 一次，请确定是否需要将一行或多行代码缩进。\n",
    "\n",
    "### 4.2.3 不必要的缩进 \n",
    "\n",
    "如果你不小心缩进了无需缩进的代码行，Python将指出这一点: \n",
    "\n",
    "**hello_world.py**"
   ]
  },
  {
   "cell_type": "code",
   "execution_count": null,
   "metadata": {},
   "outputs": [],
   "source": [
    "message = \"Hello Python world!\"\n",
    "    print(message)#❶"
   ]
  },
  {
   "cell_type": "markdown",
   "metadata": {},
   "source": [
    "print 语句(见❶)无需缩进，因为它并不属于前一行代码，因此Python将指出这种错误。"
   ]
  },
  {
   "cell_type": "markdown",
   "metadata": {},
   "source": [
    "为避免意外缩进错误，请只缩进需要缩进的代码。在前面编写的程序中，只有要在for 循环中对每个元素执行的代码需要缩进。 \n",
    "\n",
    "### 4.2.4 循环后不必要的缩进\n",
    "\n",
    "如果你不小心缩进了应在循环结束后执行的代码，这些代码将针对每个列表元素重复执行。在有些情况下，这可能导致Python报告语法错误，但在大多数情况下，这只会导致逻辑 错误。\n",
    "\n",
    "例如，如果不小心缩进了感谢全体魔术师精彩表演的代码行，结果将如何呢?"
   ]
  },
  {
   "cell_type": "code",
   "execution_count": 10,
   "metadata": {},
   "outputs": [
    {
     "ename": "IndentationError",
     "evalue": "unexpected indent (<ipython-input-10-2b14e2bd9cb2>, line 5)",
     "output_type": "error",
     "traceback": [
      "\u001b[0;36m  File \u001b[0;32m\"<ipython-input-10-2b14e2bd9cb2>\"\u001b[0;36m, line \u001b[0;32m5\u001b[0m\n\u001b[0;31m    print(\"Thank you everyone, that was a great magic show!\")#❶\u001b[0m\n\u001b[0m    ^\u001b[0m\n\u001b[0;31mIndentationError\u001b[0m\u001b[0;31m:\u001b[0m unexpected indent\n"
     ]
    }
   ],
   "source": [
    "magicians = ['alice', 'david', 'carolina'] \n",
    "for magician in magicians:\n",
    "    print(magician.title() + \", that was a great trick!\")\n",
    "    print(\"I can't wait to see your next trick, \" + magician.title() + \".\\n\")  \n",
    "        print(\"Thank you everyone, that was a great magic show!\")#❶"
   ]
  },
  {
   "cell_type": "markdown",
   "metadata": {},
   "source": [
    "由于❶处的代码行被缩进，它将针对列表中的每位魔术师执行一次，如❷所示。"
   ]
  },
  {
   "cell_type": "markdown",
   "metadata": {},
   "source": [
    "这也是一个逻辑错误，与4.2.2节的错误类似。Python不知道你的本意，只要代码符合语法，它就会运行。如果原本只应执行一次的操作执行了多次，请确定你是否不应该缩进执行 该操作的代码。\n",
    "\n",
    "### 4.2.5 遗漏了冒号\n",
    "\n",
    "for 语句末尾的冒号告诉Python，下一行是循环的第一行。"
   ]
  },
  {
   "cell_type": "code",
   "execution_count": null,
   "metadata": {},
   "outputs": [],
   "source": [
    "magicians = ['alice', 'david', 'carolina'] \n",
    "for magician in magicians#❶\n",
    "    print(magician)"
   ]
  },
  {
   "cell_type": "markdown",
   "metadata": {},
   "source": [
    "如果你不小心遗漏了冒号，如❶所示，将导致语法错误，因为Python不知道你意欲何为。这种错误虽然易于消除，但并不那么容易发现。程序员为找出这样的单字符错误，花费的 时间多得令人惊讶。这样的错误之所以难以发现，是因为通常在我们的意料之外。\n",
    "\n",
    "  **动手试一试**\n",
    "\n",
    "  **4-1 比萨** :想出至少三种你喜欢的比萨，将其名称存储在一个列表中，再使用for 循环将每种比萨的名称都打印出来。\n",
    "\n",
    "   - 修改这个for 循环，使其打印包含比萨名称的句子，而不仅仅是比萨的名称。对于每种比萨，都显示一行输出，如“I like pepperoni pizza”。\n",
    "\n",
    "   - 在程序末尾添加一行代码，它不在for 循环中，指出你有多喜欢比萨。输出应包含针对每种比萨的消息，还有一个总结性句子，如“I really love pizza!”。 \n",
    "   \n",
    "   \n",
    "\n",
    "  **4-2 动物** :想出至少三种有共同特征的动物，将这些动物的名称存储在一个列表中，再使用for 循环将每种动物的名称都打印出来。\n",
    "   \n",
    "   - 修改这个程序，使其针对每种动物都打印一个句子，如“A dog would make a great pet”。 \n",
    "   \n",
    "   - 在程序末尾添加一行代码，指出这些动物的共同之处，如打印诸如“Any of these animals would make a great pet!”这样的句子。\n",
    "\n",
    "## 4.3 创建数值列表 \n",
    "\n",
    "需要存储一组数字的原因有很多，例如，在游戏中，需要跟踪每个角色的位置，还可能需要跟踪玩家的几个最高得分。在数据可视化中，处理的几乎都是由数字(如温度、距离、人口数量、经度和纬度等)组成的集合。\n",
    "\n",
    "列表非常适合用于存储数字集合，而Python提供了很多工具，可帮助你高效地处理数字列表。明白如何有效地使用这些工具后，即便列表包含数百万个元素，你编写的代码也能运 行得很好。\n",
    "\n",
    "### 4.3.1 使用函数range()\n",
    "\n",
    "Python函数range() 让你能够轻松地生成一系列的数字。例如，可以像下面这样使用函数range() 来打印一系列的数字: \n",
    "\n",
    "**numbers.py**"
   ]
  },
  {
   "cell_type": "code",
   "execution_count": 18,
   "metadata": {},
   "outputs": [
    {
     "name": "stdout",
     "output_type": "stream",
     "text": [
      "1\n",
      "3\n",
      "5\n",
      "7\n",
      "9\n"
     ]
    }
   ],
   "source": [
    "for value in range(1,10,2): \n",
    "    print(value)\n"
   ]
  },
  {
   "cell_type": "code",
   "execution_count": 14,
   "metadata": {},
   "outputs": [
    {
     "name": "stdout",
     "output_type": "stream",
     "text": [
      "<class 'range'>\n",
      "<class 'list'>\n",
      "<class 'int'>\n",
      "<class 'float'>\n",
      "<class 'str'>\n"
     ]
    }
   ],
   "source": [
    "a=range(1,5)\n",
    "print(type(a))\n",
    "b=[1,2,3,4]\n",
    "print(type(b))\n",
    "c=1\n",
    "print(type(c))\n",
    "d=1.1\n",
    "print(type(d))\n",
    "e=\"abcd\"\n",
    "print(type(e))"
   ]
  },
  {
   "cell_type": "code",
   "execution_count": 15,
   "metadata": {},
   "outputs": [
    {
     "name": "stdout",
     "output_type": "stream",
     "text": [
      "Help on class range in module builtins:\n",
      "\n",
      "class range(object)\n",
      " |  range(stop) -> range object\n",
      " |  range(start, stop[, step]) -> range object\n",
      " |  \n",
      " |  Return an object that produces a sequence of integers from start (inclusive)\n",
      " |  to stop (exclusive) by step.  range(i, j) produces i, i+1, i+2, ..., j-1.\n",
      " |  start defaults to 0, and stop is omitted!  range(4) produces 0, 1, 2, 3.\n",
      " |  These are exactly the valid indices for a list of 4 elements.\n",
      " |  When step is given, it specifies the increment (or decrement).\n",
      " |  \n",
      " |  Methods defined here:\n",
      " |  \n",
      " |  __bool__(self, /)\n",
      " |      self != 0\n",
      " |  \n",
      " |  __contains__(self, key, /)\n",
      " |      Return key in self.\n",
      " |  \n",
      " |  __eq__(self, value, /)\n",
      " |      Return self==value.\n",
      " |  \n",
      " |  __ge__(self, value, /)\n",
      " |      Return self>=value.\n",
      " |  \n",
      " |  __getattribute__(self, name, /)\n",
      " |      Return getattr(self, name).\n",
      " |  \n",
      " |  __getitem__(self, key, /)\n",
      " |      Return self[key].\n",
      " |  \n",
      " |  __gt__(self, value, /)\n",
      " |      Return self>value.\n",
      " |  \n",
      " |  __hash__(self, /)\n",
      " |      Return hash(self).\n",
      " |  \n",
      " |  __iter__(self, /)\n",
      " |      Implement iter(self).\n",
      " |  \n",
      " |  __le__(self, value, /)\n",
      " |      Return self<=value.\n",
      " |  \n",
      " |  __len__(self, /)\n",
      " |      Return len(self).\n",
      " |  \n",
      " |  __lt__(self, value, /)\n",
      " |      Return self<value.\n",
      " |  \n",
      " |  __ne__(self, value, /)\n",
      " |      Return self!=value.\n",
      " |  \n",
      " |  __new__(*args, **kwargs) from builtins.type\n",
      " |      Create and return a new object.  See help(type) for accurate signature.\n",
      " |  \n",
      " |  __reduce__(...)\n",
      " |      helper for pickle\n",
      " |  \n",
      " |  __repr__(self, /)\n",
      " |      Return repr(self).\n",
      " |  \n",
      " |  __reversed__(...)\n",
      " |      Return a reverse iterator.\n",
      " |  \n",
      " |  count(...)\n",
      " |      rangeobject.count(value) -> integer -- return number of occurrences of value\n",
      " |  \n",
      " |  index(...)\n",
      " |      rangeobject.index(value, [start, [stop]]) -> integer -- return index of value.\n",
      " |      Raise ValueError if the value is not present.\n",
      " |  \n",
      " |  ----------------------------------------------------------------------\n",
      " |  Data descriptors defined here:\n",
      " |  \n",
      " |  start\n",
      " |  \n",
      " |  step\n",
      " |  \n",
      " |  stop\n",
      "\n"
     ]
    }
   ],
   "source": [
    "help(range)"
   ]
  },
  {
   "cell_type": "markdown",
   "metadata": {},
   "source": [
    "上述代码好像应该打印数字1~5，但实际上它不会打印数字5。"
   ]
  },
  {
   "cell_type": "markdown",
   "metadata": {},
   "source": [
    "在这个示例中，range() 只是打印数字1~4，这是你在编程语言中经常看到的差一行为的结果。函数range() 让Python从你指定的第一个值开始数，并在到达你指定的第二个值 后停止，因此输出不包含第二个值(这里为5)。\n",
    "\n",
    "要打印数字1~5，需要使用range(1,6) :"
   ]
  },
  {
   "cell_type": "code",
   "execution_count": null,
   "metadata": {},
   "outputs": [],
   "source": [
    "for value in range(1,6): \n",
    "    print(value)"
   ]
  },
  {
   "cell_type": "markdown",
   "metadata": {},
   "source": [
    "这样，输出将从1开始，到5结束。\n"
   ]
  },
  {
   "cell_type": "markdown",
   "metadata": {},
   "source": [
    "使用range() 时，如果输出不符合预期，请尝试将指定的值加1或减1。 \n",
    "\n",
    "### 4.3.2 使用range() 创建数字列表\n",
    "\n",
    "要创建数字列表，可使用函数list() 将range() 的结果直接转换为列表。如果将range() 作为list() 的参数，输出将为一个数字列表。 \n",
    "\n",
    "在前一节的示例中，我们打印了一系列数字。要将这些数字转换为一个列表，可使用list() :"
   ]
  },
  {
   "cell_type": "code",
   "execution_count": 20,
   "metadata": {},
   "outputs": [
    {
     "name": "stdout",
     "output_type": "stream",
     "text": [
      "[1, 2, 3, 4, 5]\n"
     ]
    }
   ],
   "source": [
    "numbers = list(range(1,6)) \n",
    "print(numbers)"
   ]
  },
  {
   "cell_type": "code",
   "execution_count": 24,
   "metadata": {},
   "outputs": [
    {
     "name": "stdout",
     "output_type": "stream",
     "text": [
      "[1, 2, 3]\n",
      "['a', 'b', 'c', 'd', 'e']\n",
      "[1, 2, 3, 'a', 'b']\n"
     ]
    }
   ],
   "source": [
    "list1=list([1,2,3])\n",
    "print(list1)\n",
    "list2=list(\"abcde\")\n",
    "print(list2)\n",
    "list3=list((1,2,3,'a','b'))\n",
    "print(list3)"
   ]
  },
  {
   "cell_type": "code",
   "execution_count": 19,
   "metadata": {},
   "outputs": [
    {
     "name": "stdout",
     "output_type": "stream",
     "text": [
      "Help on class list in module builtins:\n",
      "\n",
      "class list(object)\n",
      " |  list() -> new empty list\n",
      " |  list(iterable) -> new list initialized from iterable's items\n",
      " |  \n",
      " |  Methods defined here:\n",
      " |  \n",
      " |  __add__(self, value, /)\n",
      " |      Return self+value.\n",
      " |  \n",
      " |  __contains__(self, key, /)\n",
      " |      Return key in self.\n",
      " |  \n",
      " |  __delitem__(self, key, /)\n",
      " |      Delete self[key].\n",
      " |  \n",
      " |  __eq__(self, value, /)\n",
      " |      Return self==value.\n",
      " |  \n",
      " |  __ge__(self, value, /)\n",
      " |      Return self>=value.\n",
      " |  \n",
      " |  __getattribute__(self, name, /)\n",
      " |      Return getattr(self, name).\n",
      " |  \n",
      " |  __getitem__(...)\n",
      " |      x.__getitem__(y) <==> x[y]\n",
      " |  \n",
      " |  __gt__(self, value, /)\n",
      " |      Return self>value.\n",
      " |  \n",
      " |  __iadd__(self, value, /)\n",
      " |      Implement self+=value.\n",
      " |  \n",
      " |  __imul__(self, value, /)\n",
      " |      Implement self*=value.\n",
      " |  \n",
      " |  __init__(self, /, *args, **kwargs)\n",
      " |      Initialize self.  See help(type(self)) for accurate signature.\n",
      " |  \n",
      " |  __iter__(self, /)\n",
      " |      Implement iter(self).\n",
      " |  \n",
      " |  __le__(self, value, /)\n",
      " |      Return self<=value.\n",
      " |  \n",
      " |  __len__(self, /)\n",
      " |      Return len(self).\n",
      " |  \n",
      " |  __lt__(self, value, /)\n",
      " |      Return self<value.\n",
      " |  \n",
      " |  __mul__(self, value, /)\n",
      " |      Return self*value.n\n",
      " |  \n",
      " |  __ne__(self, value, /)\n",
      " |      Return self!=value.\n",
      " |  \n",
      " |  __new__(*args, **kwargs) from builtins.type\n",
      " |      Create and return a new object.  See help(type) for accurate signature.\n",
      " |  \n",
      " |  __repr__(self, /)\n",
      " |      Return repr(self).\n",
      " |  \n",
      " |  __reversed__(...)\n",
      " |      L.__reversed__() -- return a reverse iterator over the list\n",
      " |  \n",
      " |  __rmul__(self, value, /)\n",
      " |      Return self*value.\n",
      " |  \n",
      " |  __setitem__(self, key, value, /)\n",
      " |      Set self[key] to value.\n",
      " |  \n",
      " |  __sizeof__(...)\n",
      " |      L.__sizeof__() -- size of L in memory, in bytes\n",
      " |  \n",
      " |  append(...)\n",
      " |      L.append(object) -> None -- append object to end\n",
      " |  \n",
      " |  clear(...)\n",
      " |      L.clear() -> None -- remove all items from L\n",
      " |  \n",
      " |  copy(...)\n",
      " |      L.copy() -> list -- a shallow copy of L\n",
      " |  \n",
      " |  count(...)\n",
      " |      L.count(value) -> integer -- return number of occurrences of value\n",
      " |  \n",
      " |  extend(...)\n",
      " |      L.extend(iterable) -> None -- extend list by appending elements from the iterable\n",
      " |  \n",
      " |  index(...)\n",
      " |      L.index(value, [start, [stop]]) -> integer -- return first index of value.\n",
      " |      Raises ValueError if the value is not present.\n",
      " |  \n",
      " |  insert(...)\n",
      " |      L.insert(index, object) -- insert object before index\n",
      " |  \n",
      " |  pop(...)\n",
      " |      L.pop([index]) -> item -- remove and return item at index (default last).\n",
      " |      Raises IndexError if list is empty or index is out of range.\n",
      " |  \n",
      " |  remove(...)\n",
      " |      L.remove(value) -> None -- remove first occurrence of value.\n",
      " |      Raises ValueError if the value is not present.\n",
      " |  \n",
      " |  reverse(...)\n",
      " |      L.reverse() -- reverse *IN PLACE*\n",
      " |  \n",
      " |  sort(...)\n",
      " |      L.sort(key=None, reverse=False) -> None -- stable sort *IN PLACE*\n",
      " |  \n",
      " |  ----------------------------------------------------------------------\n",
      " |  Data and other attributes defined here:\n",
      " |  \n",
      " |  __hash__ = None\n",
      "\n"
     ]
    }
   ],
   "source": [
    "help(list)"
   ]
  },
  {
   "cell_type": "markdown",
   "metadata": {},
   "source": [
    "结果如上。"
   ]
  },
  {
   "cell_type": "markdown",
   "metadata": {},
   "source": [
    "使用函数range() 时，还可指定步长。例如，下面的代码打印1~10内的偶数: \n",
    "\n",
    "**even_numbers.py**"
   ]
  },
  {
   "cell_type": "code",
   "execution_count": 25,
   "metadata": {},
   "outputs": [
    {
     "name": "stdout",
     "output_type": "stream",
     "text": [
      "[2, 4, 6, 8, 10]\n"
     ]
    }
   ],
   "source": [
    "even_numbers = list(range(2,11,2)) \n",
    "print(even_numbers)"
   ]
  },
  {
   "cell_type": "markdown",
   "metadata": {},
   "source": [
    "在这个示例中，函数range() 从2开始数，然后不断地加2，直到达到或超过终值(11)，因此输出如上。"
   ]
  },
  {
   "cell_type": "markdown",
   "metadata": {},
   "source": [
    "使用函数range() 几乎能够创建任何需要的数字集，例如，如何创建一个列表，其中包含前10个整数(即1~10)的平方呢?在Python中，两个星号(** )表示乘方运算。下面 的代码演示了如何将前10个整数的平方加入到一个列表中:\n",
    "\n",
    "**squares.py**"
   ]
  },
  {
   "cell_type": "code",
   "execution_count": 29,
   "metadata": {},
   "outputs": [
    {
     "name": "stdout",
     "output_type": "stream",
     "text": [
      "[1]\n",
      "[1, 4]\n",
      "[1, 4, 9]\n",
      "[1, 4, 9, 16]\n",
      "[1, 4, 9, 16, 25]\n",
      "[1, 4, 9, 16, 25, 36]\n",
      "[1, 4, 9, 16, 25, 36, 49]\n",
      "[1, 4, 9, 16, 25, 36, 49, 64]\n",
      "[1, 4, 9, 16, 25, 36, 49, 64, 81]\n",
      "[1, 4, 9, 16, 25, 36, 49, 64, 81, 100]\n"
     ]
    }
   ],
   "source": [
    "squares = []#❶\n",
    "for value in range(1,11):#❷\n",
    "    square = value**2#❸\n",
    "    squares.append(square)#❹     \n",
    "    print(squares)#❺"
   ]
  },
  {
   "cell_type": "code",
   "execution_count": 28,
   "metadata": {},
   "outputs": [
    {
     "name": "stdout",
     "output_type": "stream",
     "text": [
      "[1, 4, 9, 16, 25, 36, 49, 64, 81, 100]\n"
     ]
    }
   ],
   "source": [
    "squares=[value**2 for value in range(1,11)]\n",
    "print(squares)"
   ]
  },
  {
   "cell_type": "markdown",
   "metadata": {},
   "source": [
    "首先，我们创建了一个空列表(见❶);接下来，使用函数range() 让Python遍历1~10的值(见❷)。在循环中，计算当前值的平方，并将结果存储到变量square 中(见 ❸)。然后，将新计算得到的平方值附加到列表squares 末尾(见❹)。最后，循环结束后，打印列表squares (见❺):"
   ]
  },
  {
   "cell_type": "markdown",
   "metadata": {},
   "source": [
    "为让这些代码更简洁，可不使用临时变量square ，而直接将每个计算得到的值附加到列表末尾:"
   ]
  },
  {
   "cell_type": "code",
   "execution_count": 30,
   "metadata": {},
   "outputs": [
    {
     "name": "stdout",
     "output_type": "stream",
     "text": [
      "[1, 4, 9, 16, 25, 36, 49, 64, 81, 100]\n"
     ]
    }
   ],
   "source": [
    "squares = []\n",
    "for value in range(1,11):\n",
    "    squares.append(value**2)#❶\n",
    "print(squares)"
   ]
  },
  {
   "cell_type": "markdown",
   "metadata": {},
   "source": [
    "❶处的代码与squares.py中❸处和❹处的代码等效。在循环中，计算每个值的平方，并立即将结果附加到列表squares 的末尾。 \n",
    "\n",
    "创建更复杂的列表时，可使用上述两种方法中的任何一种。有时候，使用临时变量会让代码更易读;而在其他情况下，这样做只会让代码无谓地变长。你首先应该考虑的是，编写清晰易懂且能完成所需功能的代码;等到审核代码时，再考虑采用更高效的方法。 \n",
    "\n",
    "### 4.3.3 对数字列表执行简单的统计计算 \n",
    "\n",
    "有几个专门用于处理数字列表的Python函数。例如，你可以轻松地找出数字列表的最大值、最小值和总和:"
   ]
  },
  {
   "cell_type": "code",
   "execution_count": 31,
   "metadata": {},
   "outputs": [
    {
     "data": {
      "text/plain": [
       "0"
      ]
     },
     "execution_count": 31,
     "metadata": {},
     "output_type": "execute_result"
    }
   ],
   "source": [
    "digits = [1, 2, 3, 4, 5, 6, 7, 8, 9, 0] \n",
    "min(digits)"
   ]
  },
  {
   "cell_type": "code",
   "execution_count": 32,
   "metadata": {},
   "outputs": [
    {
     "data": {
      "text/plain": [
       "9"
      ]
     },
     "execution_count": 32,
     "metadata": {},
     "output_type": "execute_result"
    }
   ],
   "source": [
    "digits = [1, 2, 3, 4, 5, 6, 7, 8, 9, 0] \n",
    "max(digits)"
   ]
  },
  {
   "cell_type": "code",
   "execution_count": 33,
   "metadata": {},
   "outputs": [
    {
     "data": {
      "text/plain": [
       "45"
      ]
     },
     "execution_count": 33,
     "metadata": {},
     "output_type": "execute_result"
    }
   ],
   "source": [
    "digits = [1, 2, 3, 4, 5, 6, 7, 8, 9, 0] \n",
    "sum(digits)"
   ]
  },
  {
   "cell_type": "code",
   "execution_count": 34,
   "metadata": {},
   "outputs": [
    {
     "name": "stdout",
     "output_type": "stream",
     "text": [
      "45\n"
     ]
    }
   ],
   "source": [
    "result=0\n",
    "for i in digits:\n",
    "    result=result+i\n",
    "print(result)"
   ]
  },
  {
   "cell_type": "markdown",
   "metadata": {},
   "source": [
    "   **注意**  出于版面考虑，本节使用的数字列表都很短，但这里介绍的知识也适用于包含数百万个数字的列表。 \n",
    "    \n",
    "### 4.3.4 列表解析\n",
    "    \n",
    "前面介绍的生成列表squares 的方式包含三四行代码，而列表解析让你只需编写一行代码就能生成这样的列表。**列表解析** 将for 循环和创建新元素的代码合并成一行，并自动 附加新元素。面向初学者的书籍并非都会介绍列表解析，这里之所以介绍列表解析，是因为等你开始阅读他人编写的代码时，很可能会遇到它们。\n",
    "\n",
    "下面的示例使用列表解析创建你在前面看到的平方数列表:\n",
    "\n",
    "**squares.py**"
   ]
  },
  {
   "cell_type": "code",
   "execution_count": null,
   "metadata": {},
   "outputs": [],
   "source": [
    "squares = [value**2 for value in range(1,11)] \n",
    "print(squares)"
   ]
  },
  {
   "cell_type": "markdown",
   "metadata": {},
   "source": [
    "要使用这种语法，首先指定一个描述性的列表名，如squares ;然后，指定一个左方括号，并定义一个表达式，用于生成你要存储到列表中的值。在这个示例中，表达式 为value** 2，它计算平方值。接下来，编写一个for循环，用于给表达式提供值，再加上右方括号。在这个示例中，for循环为for value in range(1,11)，它将值 1~10提供给表达式value** 2 。请注意，这里的for 语句末尾没有冒号。\n",
    "\n",
    "结果与你在前面看到的平方数列表相同。"
   ]
  },
  {
   "cell_type": "markdown",
   "metadata": {},
   "source": [
    "要创建自己的列表解析，需要经过一定的练习，但能够熟练地创建常规列表后，你会发现这样做是完全值得的。当你觉得编写三四行代码来生成列表有点繁复时，就应考虑创建 列表解析了。\n",
    "   \n",
    "   **动手试一试**\n",
    "   \n",
    "   **4-3 数到20 :**  使用一个for 循环打印数字1~20(含)。\n",
    "   \n",
    "   **4-4 一百万 :**  创建一个列表，其中包含数字1~1 000 000，再使用一个for 循环将这些数字打印出来(如果输出的时间太长，按Ctrl + C停止输出，或关闭输出窗口)。\n",
    "   \n",
    "   **4-5 计算1~1 000 000的总和 :**  创建一个列表，其中包含数字1~1 000 000，再使用min() 和max() 核实该列表确实是从1开始，到1 000 000结束的。另外，对这个列表 调用函数sum() ，看看Python将一百万个数字相加需要多长时间。\n",
    "    \n",
    "   **4-6 奇数 :**  通过给函数range() 指定第三个参数来创建一个列表，其中包含1~20的奇数;再使用一个for 循环将这些数字都打印出来。 4-7 3的倍数 :创建一个列表，其中包含3~30内能被3整除的数字;再使用一个for 循环将这个列表中的数字都打印出来。\n",
    "   \n",
    "   **4-7 3的倍数 :**  创建一个列表，其中包含3~30内能被3整除的数字;再使用一个for 循环将这个列表中的数字都打印出来。\n",
    "   \n",
    "   **4-8 立方 :**  将同一个数字乘三次称为立方。例如，在Python中，2的立方用2**3 表示。请创建一个列表，其中包含前10个整数(即1~10)的立方，再使用一个for 循 环将这些立方数都打印出来。\n",
    "   \n",
    "   \n",
    "   **4-9 立方解析 :**  使用列表解析生成一个列表，其中包含前10个整数的立方。\n",
    "\n",
    "## 4.4 使用列表的一部分\n",
    "\n",
    "在第3章中，你学习了如何访问单个列表元素。在本章中，你一直在学习如何处理列表的所有元素。你还可以处理列表的部分元素——Python称之为切片 。\n",
    "\n",
    "### 4.4.1 切片\n",
    "\n",
    "要创建切片，可指定要使用的第一个元素和最后一个元素的索引。与函数range() 一样，Python在到达你指定的第二个索引前面的元素后停止。要输出列表中的前三个元素，需 要指定索引0~3，这将输出分别为0 、1 和2 的元素。\n",
    "\n",
    "下面的示例处理的是一个运动队成员列表:\n",
    "\n",
    "**players.py**"
   ]
  },
  {
   "cell_type": "code",
   "execution_count": 35,
   "metadata": {},
   "outputs": [
    {
     "name": "stdout",
     "output_type": "stream",
     "text": [
      "['charles', 'martina', 'michael']\n"
     ]
    }
   ],
   "source": [
    "players = ['charles', 'martina', 'michael', 'florence', 'eli'] \n",
    "print(players[0:3])#❶"
   ]
  },
  {
   "cell_type": "markdown",
   "metadata": {},
   "source": [
    "❶处的代码打印该列表的一个切片，其中只包含三名队员。输出也是一个列表，其中包含前三名队员。\n",
    "\n",
    "你可以生成列表的任何子集，例如，如果你要提取列表的第2~4个元素，可将起始索引指定为1，并将终止索引指定为4 :"
   ]
  },
  {
   "cell_type": "code",
   "execution_count": null,
   "metadata": {},
   "outputs": [],
   "source": [
    "players = ['charles', 'martina', 'michael', 'florence', 'eli'] \n",
    "print(players[1:4])"
   ]
  },
  {
   "cell_type": "markdown",
   "metadata": {},
   "source": [
    "这一次，切片始于'marita' ，终于'florence'。\n",
    "\n"
   ]
  },
  {
   "cell_type": "markdown",
   "metadata": {},
   "source": [
    "如果你没有指定第一个索引，Python将自动从列表开头开始:\n"
   ]
  },
  {
   "cell_type": "code",
   "execution_count": null,
   "metadata": {},
   "outputs": [],
   "source": [
    "players = ['charles', 'martina', 'michael', 'florence', 'eli'] \n",
    "print(players[:4])"
   ]
  },
  {
   "cell_type": "markdown",
   "metadata": {},
   "source": [
    "由于没有指定起始索引，Python从列表开头开始提取。"
   ]
  },
  {
   "cell_type": "markdown",
   "metadata": {},
   "source": [
    "要让切片终止于列表末尾，也可使用类似的语法。例如，如果要提取从第3个元素到列表末尾的所有元素，可将起始索引指定为2 ，并省略终止索引:\n"
   ]
  },
  {
   "cell_type": "code",
   "execution_count": null,
   "metadata": {},
   "outputs": [],
   "source": [
    "players = ['charles', 'martina', 'michael', 'florence', 'eli'] \n",
    "print(players[2:])"
   ]
  },
  {
   "cell_type": "markdown",
   "metadata": {},
   "source": [
    "Python将返回从第3个元素到列表末尾的所有元素。"
   ]
  },
  {
   "cell_type": "markdown",
   "metadata": {},
   "source": [
    "无论列表多长，这种语法都能够让你输出从特定位置到列表末尾的所有元素。本书前面说过，负数索引返回离列表末尾相应距离的元素，因此你可以输出列表末尾的任何切片。 例如，如果你要输出名单上的最后三名队员，可使用切片players[-3:] :"
   ]
  },
  {
   "cell_type": "code",
   "execution_count": null,
   "metadata": {},
   "outputs": [],
   "source": [
    "players = ['charles', 'martina', 'michael', 'florence', 'eli'] \n",
    "print(players[-3:])"
   ]
  },
  {
   "cell_type": "markdown",
   "metadata": {},
   "source": [
    "上述代码打印最后三名队员的名字，即便队员名单的长度发生变化，也依然如此。\n",
    "\n",
    "### 4.4.2 遍历切片\n",
    "\n",
    "如果要遍历列表的部分元素，可在for 循环中使用切片。在下面的示例中，我们遍历前三名队员，并打印他们的名字:"
   ]
  },
  {
   "cell_type": "code",
   "execution_count": null,
   "metadata": {},
   "outputs": [],
   "source": [
    "players = ['charles', 'martina', 'michael', 'florence', 'eli']\n",
    "\n",
    "print(\"Here are the first three players on my team:\")\n",
    "for player in players[:3]:#❶\n",
    "      print(player.title())"
   ]
  },
  {
   "cell_type": "markdown",
   "metadata": {},
   "source": [
    "❶处的代码没有遍历整个队员列表，而只遍历前三名队员。"
   ]
  },
  {
   "cell_type": "markdown",
   "metadata": {},
   "source": [
    "在很多情况下，切片都很有用。例如，编写游戏时，你可以在玩家退出游戏时将其最终得分加入到一个列表中。然后，为获取该玩家的三个最高得分，你可以将该列表按降序排 列，再创建一个只包含前三个得分的切片。处理数据时，可使用切片来进行批量处理;编写Web应用程序时，可使用切片来分页显示信息，并在每页显示数量合适的信息。\n",
    "\n",
    "### 4.4.3 复制列表 \n",
    "\n",
    "你经常需要根据既有列表创建全新的列表。下面来介绍复制列表的工作原理，以及复制列表可提供极大帮助的一种情形。\n",
    "\n",
    "要复制列表，可创建一个包含整个列表的切片，方法是同时省略起始索引和终止索引([:] )。这让Python创建一个始于第一个元素，终止于最后一个元素的切片，即复制整个 列表。\n",
    "\n",
    "例如，假设有一个列表，其中包含你最喜欢的四种食品，而你还想创建另一个列表，在其中包含一位朋友喜欢的所有食品。不过，你喜欢的食品，这位朋友都喜欢，因此你可以 通过复制来创建这个列表:\n",
    "\n",
    "**foods.py**"
   ]
  },
  {
   "cell_type": "code",
   "execution_count": null,
   "metadata": {},
   "outputs": [],
   "source": [
    "my_foods = ['pizza', 'falafel', 'carrot cake']#❶\n",
    "friend_foods = my_foods[:]#❷\n",
    "\n",
    "print(\"My favorite foods are:\") \n",
    "print(my_foods)\n",
    "\n",
    "print(\"\\nMy friend's favorite foods are:\") \n",
    "print(friend_foods)"
   ]
  },
  {
   "cell_type": "markdown",
   "metadata": {},
   "source": [
    "我们首先创建了一个名为my_foods 的食品列表(见❶)，然后创建了一个名为friend_foods 的新列表(见❷)。我们在不指定任何索引的情况下从列表my_foods 中提取 一个切片，从而创建了这个列表的副本，再将该副本存储到变量friend_foods 中。打印每个列表后，我们发现它们包含的食品相同。"
   ]
  },
  {
   "cell_type": "markdown",
   "metadata": {},
   "source": [
    "为核实我们确实有两个列表，下面在每个列表中都添加一种食品，并核实每个列表都记录了相应人员喜欢的食品:"
   ]
  },
  {
   "cell_type": "code",
   "execution_count": null,
   "metadata": {},
   "outputs": [],
   "source": [
    "my_foods = ['pizza', 'falafel', 'carrot cake'] \n",
    "friend_foods = my_foods[:]#❶\n",
    "\n",
    "\n",
    "my_foods.append('cannoli')#❷ \n",
    "friend_foods.append('ice cream')#❸\n",
    "    \n",
    "print(\"My favorite foods are:\") \n",
    "print(my_foods)\n",
    "    \n",
    "print(\"\\nMy friend's favorite foods are:\") \n",
    "print(friend_foods)"
   ]
  },
  {
   "cell_type": "markdown",
   "metadata": {},
   "source": [
    "与前一个示例一样，我们首先将my_foods 的元素复制到新列表friend_foods 中(见❶)。接下来，在每个列表中都添加一种食品:在列表my_foods 中添加'cannoli' (见❷)，而在friend_foods中添加'ice cream'(见❸)。最后，打印这两个列表，核实这两种食品包含在正确的列表中。\n"
   ]
  },
  {
   "cell_type": "markdown",
   "metadata": {},
   "source": [
    "❹处的输出表明，'cannoli'包含在你喜欢的食品列表中，而'ice cream'没有。❺处的输出表明，'ice cream'包含在你朋友喜欢的食品列表中，而'cannoli'没 有。倘若我们只是简单地将my_foods 赋给friend_foods ，就不能得到两个列表。例如，下例演示了在不使用切片的情况下复制列表的情况:"
   ]
  },
  {
   "cell_type": "code",
   "execution_count": null,
   "metadata": {},
   "outputs": [],
   "source": [
    "my_foods = ['pizza', 'falafel', 'carrot cake'] \n",
    "\n",
    "#这行不通\n",
    "friend_foods = my_foods#❶\n",
    "\n",
    "my_foods.append('cannoli')\n",
    "friend_foods.append('ice cream')\n",
    "\n",
    "print(\"My favorite foods are:\") \n",
    "print(my_foods)\n",
    "\n",
    "print(\"\\nMy friend's favorite foods are:\") \n",
    "print(friend_foods)"
   ]
  },
  {
   "cell_type": "markdown",
   "metadata": {},
   "source": [
    "这里将my_foods 赋给friend_foods ，而不是将my_foods 的副本存储到friend_foods (见❶)。这种语法实际上是让Python将新变量friend_foods 关联到包含 在my_foods 中的列表，因此这两个变量都指向同一个列表。鉴于此，当我们将'cannoli' 添加到my_foods 中时，它也将出现在friend_foods 中;同样，虽然'ice cream' 好像只被加入到了friend_foods 中，但它也将出现在这两个列表中。\n",
    "\n",
    "输出表明，两个列表是相同的，这并非我们想要的结果。"
   ]
  },
  {
   "cell_type": "markdown",
   "metadata": {},
   "source": [
    "**注意**  现在暂时不要考虑这个示例中的细节。基本上，当你试图使用列表的副本时，如果结果出乎意料，请确认你像第一个示例那样使用切片复制了列表。  \n",
    "\n",
    "**动手试一试**\n",
    "\n",
    "**4-10 切片 :** 选择你在本章编写的一个程序，在末尾添加几行代码，以完成如下任务。\n",
    "   \n",
    "   - 打印消息“The first three items in the list are:”，再使用切片来打印列表的前三个元素。 \n",
    "    \n",
    "   - 打印消息“Three items from the middle of the list are:”，再使用切片来打印列表中间的三个元素。 \n",
    "    \n",
    "   - 打印消息“The last three items in the list are:”，再使用切片来打印列表末尾的三个元素。\n",
    "\n",
    "\n",
    "**4-11 你的比萨和我的比萨 :** 在你为完成练习4-1而编写的程序中，创建比萨列表的副本，并将其存储到变量friend_pizzas 中，再完成如下任务。\n",
    "   \n",
    "   - 在原来的比萨列表中添加一种比萨。 在列表friend_pizzas 中添加另一种比萨。\n",
    "   \n",
    "   \n",
    "   - 核实你有两个不同的列表。为此，打印消息“My favorite pizzas are:”，再使用一个for 循环来打印第一个列表;打印消息“My friend's favorite pizzas are:”，再使用一 个for 循环来打印第二个列表。核实新增的比萨被添加到了正确的列表中。\n",
    "\n",
    "**4-12 使用多个循环 :**  在本节中，为节省篇幅，程序foods.py的每个版本都没有使用for 循环来打印列表。请选择一个版本的foods.py，在其中编写两个for 循环，将各 个食品列表都打印出来。\n",
    "\n",
    "## 4.5 元组 \n",
    "\n",
    "列表非常适合用于存储在程序运行期间可能变化的数据集。列表是可以修改的，这对处理网站的用户列表或游戏中的角色列表至关重要。然而，有时候你需要创建一系列不可修\n",
    "改的元素，元组可以满足这种需求。Python将不能修改的值称为不可变的 ，而不可变的列表被称为元组 。 \n",
    "\n",
    "### 4.5.1 定义元组\n",
    "\n",
    "元组看起来犹如列表，但使用圆括号而不是方括号来标识。定义元组后，就可以使用索引来访问其元素，就像访问列表元素一样。 例如，如果有一个大小不应改变的矩形，可将其长度和宽度存储在一个元组中，从而确保它们是不能修改的:\n",
    "\n",
    "**dimensions.py**\n",
    "   "
   ]
  },
  {
   "cell_type": "code",
   "execution_count": 36,
   "metadata": {},
   "outputs": [
    {
     "name": "stdout",
     "output_type": "stream",
     "text": [
      "200\n",
      "50\n"
     ]
    }
   ],
   "source": [
    "dimensions = (200, 50)# ❶\n",
    "print(dimensions[0])#❷\n",
    "print(dimensions[1])"
   ]
  },
  {
   "cell_type": "code",
   "execution_count": 43,
   "metadata": {},
   "outputs": [
    {
     "name": "stdout",
     "output_type": "stream",
     "text": [
      "(1, 2, 5, 4, 3)\n",
      "(2, 5)\n",
      "5\n",
      "1\n",
      "5\n",
      "15\n",
      "[1, 2, 3, 4, 5]\n"
     ]
    }
   ],
   "source": [
    "t=(1,2,5,4,3)\n",
    "print(t)\n",
    "print(t[1:3])\n",
    "print(len(t))\n",
    "print(min(t))\n",
    "print(max(t))\n",
    "print(sum(t))\n",
    "print(sorted(t))"
   ]
  },
  {
   "cell_type": "markdown",
   "metadata": {},
   "source": [
    "我们首先定义了元组dimensions (见❶)，为此我们使用了圆括号而不是方括号。接下来，我们分别打印该元组的各个元素，使用的语法与访问列表元素时使用的语法相同 (见❷).\n",
    "\n",
    "下面来尝试修改元组dimensions 中的一个元素，看看结果如何:"
   ]
  },
  {
   "cell_type": "code",
   "execution_count": 37,
   "metadata": {},
   "outputs": [
    {
     "ename": "TypeError",
     "evalue": "'tuple' object does not support item assignment",
     "output_type": "error",
     "traceback": [
      "\u001b[0;31m---------------------------------------------------------------------------\u001b[0m",
      "\u001b[0;31mTypeError\u001b[0m                                 Traceback (most recent call last)",
      "\u001b[0;32m<ipython-input-37-104b17992ae3>\u001b[0m in \u001b[0;36m<module>\u001b[0;34m()\u001b[0m\n\u001b[1;32m      1\u001b[0m \u001b[0mdimensions\u001b[0m \u001b[0;34m=\u001b[0m \u001b[0;34m(\u001b[0m\u001b[0;36m200\u001b[0m\u001b[0;34m,\u001b[0m \u001b[0;36m50\u001b[0m\u001b[0;34m)\u001b[0m\u001b[0;34m\u001b[0m\u001b[0m\n\u001b[0;32m----> 2\u001b[0;31m \u001b[0mdimensions\u001b[0m\u001b[0;34m[\u001b[0m\u001b[0;36m0\u001b[0m\u001b[0;34m]\u001b[0m \u001b[0;34m=\u001b[0m \u001b[0;36m250\u001b[0m\u001b[0;31m#❶\u001b[0m\u001b[0;34m\u001b[0m\u001b[0m\n\u001b[0m",
      "\u001b[0;31mTypeError\u001b[0m: 'tuple' object does not support item assignment"
     ]
    }
   ],
   "source": [
    "dimensions = (200, 50) \n",
    "dimensions[0] = 250#❶"
   ]
  },
  {
   "cell_type": "code",
   "execution_count": 46,
   "metadata": {},
   "outputs": [
    {
     "name": "stdout",
     "output_type": "stream",
     "text": [
      "3 2 5\n"
     ]
    }
   ],
   "source": [
    "t=(3,2,5)\n",
    "a,b,c=t\n",
    "print(a,b,c)"
   ]
  },
  {
   "cell_type": "markdown",
   "metadata": {},
   "source": [
    "❶处的代码试图修改第一个元素的值，导致Python返回类型错误消息。由于试图修改元组的操作是被禁止的，因此Python指出不能给元组的元素赋值。"
   ]
  },
  {
   "cell_type": "markdown",
   "metadata": {},
   "source": [
    "代码试图修改矩形的尺寸时，Python报告错误，这很好，因为这正是我们希望的。 \n",
    "\n",
    "### 4.5.2 遍历元组中的所有值\n",
    "\n",
    "像列表一样，也可以使用for 循环来遍历元组中的所有值:"
   ]
  },
  {
   "cell_type": "code",
   "execution_count": null,
   "metadata": {},
   "outputs": [],
   "source": [
    "dimensions = (200, 50)\n",
    "for dimension in dimensions:\n",
    "    print(dimension)"
   ]
  },
  {
   "cell_type": "markdown",
   "metadata": {},
   "source": [
    "就像遍历列表时一样，Python返回元组中所有的元素。"
   ]
  },
  {
   "cell_type": "markdown",
   "metadata": {},
   "source": [
    "### 4.5.3 修改元组变量 \n",
    "\n",
    "虽然不能修改元组的元素，但可以给存储元组的变量赋值。因此，如果要修改前述矩形的尺寸，可重新定义整个元组:"
   ]
  },
  {
   "cell_type": "code",
   "execution_count": null,
   "metadata": {},
   "outputs": [],
   "source": [
    "dimensions = (200, 50)#❶ \n",
    "print(\"Original dimensions:\") \n",
    "for dimension in dimensions:\n",
    "    print(dimension)\n",
    "\n",
    "dimensions = (400, 100)#❷\n",
    "print(\"\\nModified dimensions:\")#❸\n",
    "for dimension in dimensions: \n",
    "    print(dimension)"
   ]
  },
  {
   "cell_type": "markdown",
   "metadata": {},
   "source": [
    "我们首先定义了一个元组，并将其存储的尺寸打印了出来(见❶);接下来，将一个新元组存储到变量dimensions 中(见❷);然后，打印新的尺寸(见❸)。这次，Python 不会报告任何错误，因为给元组变量赋值是合法的。"
   ]
  },
  {
   "cell_type": "markdown",
   "metadata": {},
   "source": [
    "相比于列表，元组是更简单的数据结构。如果需要存储的一组值在程序的整个生命周期内都不变，可使用元组。 \n",
    "\n",
    "   **动手试一试**\n",
    "\n",
    "   **4-13 自助餐 :** 有一家自助式餐馆，只提供五种简单的食品。请想出五种简单的食品，并将其存储在一个元组中。\n",
    "   - 使用一个for 循环将该餐馆提供的五种食品都打印出来。\n",
    "    \n",
    "   - 尝试修改其中的一个元素，核实Python确实会拒绝你这样做。 \n",
    "    \n",
    "   - 餐馆调整了菜单，替换了它提供的其中两种食品。请编写一个这样的代码块:给元组变量赋值，并使用一个for 循环将新元组的每个元素都打印出来。\n",
    "\n",
    "## 4.6 设置代码格式\n",
    "\n",
    "随着你编写的程序越来越长，有必要了解一些代码格式设置约定。请花时间让你的代码尽可能易于阅读;让代码易于阅读有助于你掌握程序是做什么的，也可以帮助他人理解你编写的代码。\n",
    "\n",
    "为确保所有人编写的代码的结构都大致一致，Python程序员都遵循一些格式设置约定。学会编写整洁的Python后，就能明白他人编写的Python代码的整体结构——只要他们和你遵 循相同的指南。要成为专业程序员，应从现在开始就遵循这些指南，以养成良好的习惯。\n",
    "\n",
    "### 4.6.1 格式设置指南\n",
    "\n",
    "若要提出Python语言修改建议，需要编写Python改进提案 (PythonEnhancement Proposal，PEP)。PEP 8是最古老的PEP之一，它向Python程序员提供了代码格式设置指南。PEP 8的篇幅很长，但大都与复杂的编码结构相关。\n",
    "\n",
    "Python格式设置指南的编写者深知，代码被阅读的次数比编写的次数多。代码编写出来后，调试时你需要阅读它;给程序添加新功能时，需要花很长的时间阅读代码;与其他程序 员分享代码时，这些程序员也将阅读它们。\n",
    "\n",
    "如果一定要在让代码易于编写和易于阅读之间做出选择，Python程序员几乎总是会选择后者。下面的指南可帮助你从一开始就编写出清晰的代码。 \n",
    "\n",
    "### 4.6.2 缩进\n",
    "\n",
    "PEP 8建议每级缩进都使用四个空格，这既可提高可读性，又留下了足够的多级缩进空间。 \n",
    "\n",
    "在字处理文档中，大家常常使用制表符而不是空格来缩进。对于字处理文档来说，这样做的效果很好，但混合使用制表符和空格会让Python解释器感到迷惑。每款文本编辑器都提供了一种设置，可将输入的制表符转换为指定数量的空格。你在编写代码时应该使用制表符键，但一定要对编辑器进行设置，使其在文档中插入空格而不是制表符。 \n",
    "\n",
    "在程序中混合使用制表符和空格可能导致极难解决的问题。如果你混合使用了制表符和空格，可将文件中所有的制表符转换为空格，大多数编辑器都提供了这样的功能。 \n",
    "\n",
    "### 4.6.3 行长\n",
    "\n",
    "很多Python程序员都建议每行不超过80字符。最初制定这样的指南时，在大多数计算机中，终端窗口每行只能容纳79字符;当前，计算机屏幕每行可容纳的字符数多得多，为何还 要使用79字符的标准行长呢?这里有别的原因。专业程序员通常会在同一个屏幕上打开多个文件，使用标准行长可以让他们在屏幕上并排打开两三个文件时能同时看到各个文件 的完整行。PEP 8还建议注释的行长都不超过72字符，因为有些工具为大型项目自动生成文档时，会在每行注释开头添加格式化字符。\n",
    "\n",
    "PEP 8中有关行长的指南并非不可逾越的红线，有些小组将最大行长设置为99字符。在学习期间，你不用过多地考虑代码的行长，但别忘了，协作编写程序时，大家几乎都遵守 PEP 8指南。在大多数编辑器中，都可设置一个视觉标志——通常是一条竖线，让你知道不能越过的界线在什么地方。\n",
    "    \n",
    "   **注意**  附录B介绍了如何配置文本编辑器，以使其:在你按制表符键时插入四个空格;显示一条垂直参考线，帮助你遵守行长不能超过79字符的约定。 \n",
    "\n",
    "### 4.6.4 空行\n",
    "\n",
    "要将程序的不同部分分开，可使用空行。你应该使用空行来组织程序文件，但也不能滥用;只要按本书的示例展示的那样做，就能掌握其中的平衡。例如，如果你有5行创建列表 的代码，还有3行处理该列表的代码，那么用一个空行将这两部分隔开是合适的。然而，你不应使用三四个空行将它们隔开。\n",
    "\n",
    "空行不会影响代码的运行，但会影响代码的可读性。Python解释器根据水平缩进情况来解读代码，但不关心垂直间距。\n",
    "\n",
    "### 4.6.5 其他格式设置指南\n",
    "\n",
    "PEP 8还有很多其他的格式设置建议，但这些指南针对的程序大都比目前为止本书提到的程序复杂。等介绍更复杂的Python结构时，我们再来分享相关的PEP 8指南。\n",
    "\n",
    "   **动手试一试**\n",
    "\n",
    "   **4-14 PEP 8 :** 访问https://python.org/dev/peps/pep-0008/ ，阅读PEP 8格式设置指南。当前，这些指南适用的不多，但你可以大致浏览一下。 \n",
    "   \n",
    "   **4-15 代码审核 :** 从本章编写的程序中选择三个，根据PEP 8指南对它们进行修改。\n",
    "    \n",
    "   - 每级缩进都使用四个空格。对你使用的文本编辑器进行设置，使其在你按Tab键时都插入四个空格;如果你还没有这样做，现在就去做吧(有关如何设置，请参 阅附录B)。\n",
    "    \n",
    "   - 每行都不要超过80字符。对你使用的编辑器进行设置，使其在第80个字符处显示一条垂直参考线。 \n",
    "    \n",
    "   - 不要在程序文件中过多地使用空行。\n",
    "\n",
    "## 4.7 小结\n",
    "\n",
    "在本章中，你学习了:如何高效地处理列表中的元素;如何使用for 循环遍历列表，Python如何根据缩进来确定程序的结构以及如何避免一些常见的缩进错误;如何创建简单的 数字列表，以及可对数字列表执行的一些操作;如何通过切片来使用列表\n",
    "的一部分和复制列表。你还学习了元组(它对不应变化的值提供了一定程度的保护)，以及在代码变得 越来越复杂时如何设置格式，使其易于阅读。\n",
    "\n",
    "在第5章中，你将学习如何使用if 语句在不同的条件下采取不同的措施;学习如何将一组较复杂的条件测试组合起来，并在满足特定条件时采取相应的措施。你还将学习如何在 遍历列表时，通过使用if 语句对特定元素采取特定的措施。"
   ]
  },
  {
   "cell_type": "code",
   "execution_count": null,
   "metadata": {},
   "outputs": [],
   "source": []
  }
 ],
 "metadata": {
  "kernelspec": {
   "display_name": "Python 3",
   "language": "python",
   "name": "python3"
  },
  "language_info": {
   "codemirror_mode": {
    "name": "ipython",
    "version": 3
   },
   "file_extension": ".py",
   "mimetype": "text/x-python",
   "name": "python",
   "nbconvert_exporter": "python",
   "pygments_lexer": "ipython3",
   "version": "3.6.5"
  }
 },
 "nbformat": 4,
 "nbformat_minor": 2
}
