{
 "cells": [
  {
   "cell_type": "markdown",
   "metadata": {},
   "source": [
    "# 第 3 章 列表简介\n",
    "在本章和下一章中，你将学习列表是什么以及如何使用列表元素。列表让你能够在一个地方存储成组的信息，其中可以只包含几个元素，也可以包含数百万个元素。 列表是新手可直接使用的最强大的Python功能之一，它融合了众多重要的编程概念。\n",
    "## 3.1 列表是什么\n",
    "**列表** 由一系列按特定顺序排列的元素组成。你可以创建包含字母表中所有字母、数字0~9或所有家庭成员姓名的列表;也可以将任何东西加入列表中，其中的元素之间可以没有\n",
    "任何关系。鉴于列表通常包含多个元素，给列表指定一个表示复数的名称(如letters 、digits 或names )是个不错的主意。\n",
    "\n",
    "在Python中，用方括号([] )来表示列表，并用逗号来分隔其中的元素。下面是一个简单的列表示例，这个列表包含几种自行车: \n",
    "\n",
    "**bicycles.py**"
   ]
  },
  {
   "cell_type": "code",
   "execution_count": 1,
   "metadata": {},
   "outputs": [
    {
     "name": "stdout",
     "output_type": "stream",
     "text": [
      "['trek', 'cannondale', 'redline', 'specialized']\n"
     ]
    }
   ],
   "source": [
    "bicycles = ['trek', 'cannondale', 'redline', 'specialized'] \n",
    "print(bicycles)"
   ]
  },
  {
   "cell_type": "code",
   "execution_count": 2,
   "metadata": {},
   "outputs": [
    {
     "data": {
      "text/plain": [
       "[1,\n",
       " 2,\n",
       " 3,\n",
       " 4,\n",
       " 'trek',\n",
       " 'cannondale',\n",
       " ['trek', 'cannondale', 'redline', 'specialized']]"
      ]
     },
     "execution_count": 2,
     "metadata": {},
     "output_type": "execute_result"
    }
   ],
   "source": [
    "c=[1,2,3,4,\"trek\",\"cannondale\",bicycles]\n",
    "c"
   ]
  },
  {
   "cell_type": "markdown",
   "metadata": {},
   "source": [
    "如果你让Python将列表打印出来，Python将打印列表的内部表示，包括方括号。\n",
    "\n",
    "鉴于这不是你要让用户看到的输出，下面来学习如何访问列表元素。\n",
    "\n",
    "### 3.1.1 访问列表元素\n",
    "列表是有序集合，因此要访问列表的任何元素，只需将该元素的位置或索引告诉Python即可。要访问列表元素，可指出列表的名称，再指出元素的索引，并将其放在方括号内。 \n",
    "\n",
    "例如，下面的代码从列表bicycles 中提取第一款自行车:"
   ]
  },
  {
   "cell_type": "code",
   "execution_count": 3,
   "metadata": {},
   "outputs": [
    {
     "name": "stdout",
     "output_type": "stream",
     "text": [
      "trek\n"
     ]
    }
   ],
   "source": [
    "bicycles = ['trek', 'cannondale', 'redline', 'specialized'] \n",
    "print(bicycles[0]) #❶"
   ]
  },
  {
   "cell_type": "code",
   "execution_count": 5,
   "metadata": {},
   "outputs": [
    {
     "data": {
      "text/plain": [
       "'redline'"
      ]
     },
     "execution_count": 5,
     "metadata": {},
     "output_type": "execute_result"
    }
   ],
   "source": [
    "c[6][2]"
   ]
  },
  {
   "cell_type": "markdown",
   "metadata": {},
   "source": [
    "❶处演示了访问列表元素的语法。当你请求获取列表元素时，Python只返回该元素，而不包括方括号和引号。\n",
    "\n",
    "这正是你要让用户看到的结果——整洁、干净的输出。\n",
    "\n",
    "你还可以对任何列表元素调用第2章介绍的字符串方法。例如，可使用方法title() 让元素'trek' 的格式更整洁:"
   ]
  },
  {
   "cell_type": "code",
   "execution_count": 6,
   "metadata": {},
   "outputs": [
    {
     "name": "stdout",
     "output_type": "stream",
     "text": [
      "Trek\n"
     ]
    }
   ],
   "source": [
    "bicycles = ['trek', 'cannondale', 'redline', 'specialized'] \n",
    "print(bicycles[0].title())"
   ]
  },
  {
   "cell_type": "code",
   "execution_count": 6,
   "metadata": {},
   "outputs": [
    {
     "name": "stdout",
     "output_type": "stream",
     "text": [
      "Trek\n",
      "Cannondale\n",
      "Redline\n",
      "Specialized\n"
     ]
    }
   ],
   "source": [
    "for i in bicycles:\n",
    "    print(i.title())"
   ]
  },
  {
   "cell_type": "code",
   "execution_count": 7,
   "metadata": {},
   "outputs": [
    {
     "ename": "AttributeError",
     "evalue": "'int' object has no attribute 'title'",
     "output_type": "error",
     "traceback": [
      "\u001b[0;31m---------------------------------------------------------------------------\u001b[0m",
      "\u001b[0;31mAttributeError\u001b[0m                            Traceback (most recent call last)",
      "\u001b[0;32m<ipython-input-7-7de7bc3e6625>\u001b[0m in \u001b[0;36m<module>\u001b[0;34m()\u001b[0m\n\u001b[1;32m      1\u001b[0m \u001b[0;32mfor\u001b[0m \u001b[0mi\u001b[0m \u001b[0;32min\u001b[0m \u001b[0mc\u001b[0m\u001b[0;34m:\u001b[0m\u001b[0;34m\u001b[0m\u001b[0m\n\u001b[0;32m----> 2\u001b[0;31m     \u001b[0mprint\u001b[0m\u001b[0;34m(\u001b[0m\u001b[0mi\u001b[0m\u001b[0;34m.\u001b[0m\u001b[0mtitle\u001b[0m\u001b[0;34m(\u001b[0m\u001b[0;34m)\u001b[0m\u001b[0;34m)\u001b[0m\u001b[0;34m\u001b[0m\u001b[0m\n\u001b[0m",
      "\u001b[0;31mAttributeError\u001b[0m: 'int' object has no attribute 'title'"
     ]
    }
   ],
   "source": [
    "for i in c:\n",
    "    print(i.title())"
   ]
  },
  {
   "cell_type": "code",
   "execution_count": 8,
   "metadata": {},
   "outputs": [
    {
     "name": "stdout",
     "output_type": "stream",
     "text": [
      "Trek\n",
      "Cannondale\n",
      "Redline\n",
      "Specialized\n"
     ]
    }
   ],
   "source": [
    "for i in c[6]:\n",
    "    print(i.title())"
   ]
  },
  {
   "cell_type": "code",
   "execution_count": 9,
   "metadata": {},
   "outputs": [
    {
     "name": "stdout",
     "output_type": "stream",
     "text": [
      "R\n",
      "E\n",
      "D\n",
      "L\n",
      "I\n",
      "N\n",
      "E\n"
     ]
    }
   ],
   "source": [
    "for i in c[6][2]:\n",
    "    print(i.title())"
   ]
  },
  {
   "cell_type": "code",
   "execution_count": 11,
   "metadata": {},
   "outputs": [
    {
     "data": {
      "text/plain": [
       "['C', '[', '6', ']', '[', '2', ']']"
      ]
     },
     "execution_count": 11,
     "metadata": {},
     "output_type": "execute_result"
    }
   ],
   "source": [
    "mylist=[i.title() for i in \"c[6][2]\"]\n",
    "mylist"
   ]
  },
  {
   "cell_type": "code",
   "execution_count": 12,
   "metadata": {},
   "outputs": [
    {
     "data": {
      "text/plain": [
       "[0, 2, 4, 6, 8, 10, 12, 14, 16, 18]"
      ]
     },
     "execution_count": 12,
     "metadata": {},
     "output_type": "execute_result"
    }
   ],
   "source": [
    "mylist=[i*2 for i in range(10)]\n",
    "mylist"
   ]
  },
  {
   "cell_type": "markdown",
   "metadata": {},
   "source": [
    "这个示例的输出与前一个示例相同，只是首字母T是大写的。\n",
    "\n",
    "### 3.1.2   索引从0而不是1开始\n",
    "在Python中，第一个列表元素的索引为0，而不是1。在大多数编程语言中都是如此，这与列表操作的底层实现相关。如果结果出乎意料，请看看你是否犯了简单的差一错误。 \n",
    "\n",
    "第二个列表元素的索引为1。根据这种简单的计数方式，要访问列表的任何元素，都可将其位置减1，并将结果作为索引。例如，要访问第四个列表元素，可使用索引3。 \n",
    "\n",
    "下面的代码访问索引1 和3 处的自行车:"
   ]
  },
  {
   "cell_type": "code",
   "execution_count": 7,
   "metadata": {},
   "outputs": [
    {
     "name": "stdout",
     "output_type": "stream",
     "text": [
      "cannondale\n",
      "specialized\n"
     ]
    }
   ],
   "source": [
    "bicycles = ['trek', 'cannondale', 'redline', 'specialized'] \n",
    "print(bicycles[1])\n",
    "print(bicycles[3])"
   ]
  },
  {
   "cell_type": "markdown",
   "metadata": {},
   "source": [
    "这些代码返回列表中的第二个和第四个元素。\n",
    "\n",
    "Python为访问最后一个列表元素提供了一种特殊语法。通过将索引指定为-1 ，可让Python返回最后一个列表元素:"
   ]
  },
  {
   "cell_type": "code",
   "execution_count": 13,
   "metadata": {},
   "outputs": [
    {
     "name": "stdout",
     "output_type": "stream",
     "text": [
      "specialized\n"
     ]
    }
   ],
   "source": [
    "bicycles = ['trek', 'cannondale', 'redline', 'specialized'] \n",
    "print(bicycles[-1])"
   ]
  },
  {
   "cell_type": "code",
   "execution_count": 14,
   "metadata": {},
   "outputs": [
    {
     "data": {
      "text/plain": [
       "['trek', 'cannondale']"
      ]
     },
     "execution_count": 14,
     "metadata": {},
     "output_type": "execute_result"
    }
   ],
   "source": [
    "bicycles[0:2]\n"
   ]
  },
  {
   "cell_type": "code",
   "execution_count": 15,
   "metadata": {},
   "outputs": [
    {
     "data": {
      "text/plain": [
       "['cannondale']"
      ]
     },
     "execution_count": 15,
     "metadata": {},
     "output_type": "execute_result"
    }
   ],
   "source": [
    "bicycles[1:2]"
   ]
  },
  {
   "cell_type": "code",
   "execution_count": 16,
   "metadata": {},
   "outputs": [
    {
     "data": {
      "text/plain": [
       "['trek', 'cannondale', 'redline']"
      ]
     },
     "execution_count": 16,
     "metadata": {},
     "output_type": "execute_result"
    }
   ],
   "source": [
    "bicycles[:3]"
   ]
  },
  {
   "cell_type": "code",
   "execution_count": 17,
   "metadata": {},
   "outputs": [
    {
     "data": {
      "text/plain": [
       "['redline', 'specialized']"
      ]
     },
     "execution_count": 17,
     "metadata": {},
     "output_type": "execute_result"
    }
   ],
   "source": [
    "bicycles[2:]"
   ]
  },
  {
   "cell_type": "code",
   "execution_count": 18,
   "metadata": {},
   "outputs": [
    {
     "data": {
      "text/plain": [
       "['cannondale', 'redline']"
      ]
     },
     "execution_count": 18,
     "metadata": {},
     "output_type": "execute_result"
    }
   ],
   "source": [
    "bicycles[1:-1]"
   ]
  },
  {
   "cell_type": "code",
   "execution_count": 20,
   "metadata": {},
   "outputs": [
    {
     "data": {
      "text/plain": [
       "['cannondale', 'redline']"
      ]
     },
     "execution_count": 20,
     "metadata": {},
     "output_type": "execute_result"
    }
   ],
   "source": [
    "bicycles[-3:3]\n"
   ]
  },
  {
   "cell_type": "code",
   "execution_count": 31,
   "metadata": {},
   "outputs": [
    {
     "data": {
      "text/plain": [
       "['cannondale', 'specialized']"
      ]
     },
     "execution_count": 31,
     "metadata": {},
     "output_type": "execute_result"
    }
   ],
   "source": [
    "[bicycles[1],bicycles[3]]"
   ]
  },
  {
   "cell_type": "code",
   "execution_count": 36,
   "metadata": {},
   "outputs": [
    {
     "data": {
      "text/plain": [
       "['specialized', 'redline', 'cannondale', 'trek']"
      ]
     },
     "execution_count": 36,
     "metadata": {},
     "output_type": "execute_result"
    }
   ],
   "source": [
    "bicycles[::-1]"
   ]
  },
  {
   "cell_type": "code",
   "execution_count": 37,
   "metadata": {},
   "outputs": [
    {
     "data": {
      "text/plain": [
       "['trek', 'redline']"
      ]
     },
     "execution_count": 37,
     "metadata": {},
     "output_type": "execute_result"
    }
   ],
   "source": [
    "bicycles[::2]"
   ]
  },
  {
   "cell_type": "code",
   "execution_count": 40,
   "metadata": {},
   "outputs": [
    {
     "data": {
      "text/plain": [
       "['trek', 'cannondale', 'redline', 'specialized']"
      ]
     },
     "execution_count": 40,
     "metadata": {},
     "output_type": "execute_result"
    }
   ],
   "source": [
    "fr=0\n",
    "to=4\n",
    "step=1\n",
    "bicycles[fr:to:step]"
   ]
  },
  {
   "cell_type": "code",
   "execution_count": 41,
   "metadata": {},
   "outputs": [
    {
     "name": "stdout",
     "output_type": "stream",
     "text": [
      "[0, 1, 2, 3, 4, 5, 6, 7, 8, 9, 10, 11, 12, 13, 14, 15, 16, 17, 18, 19]\n",
      "[0, 2, 4, 6, 8, 10, 12, 14, 16, 18]\n",
      "[0, 3, 6, 9, 12, 15, 18]\n"
     ]
    }
   ],
   "source": [
    "num=[i for i in range(20)]\n",
    "print(num[::1])\n",
    "print(num[::2])\n",
    "print(num[::3])"
   ]
  },
  {
   "cell_type": "code",
   "execution_count": 42,
   "metadata": {},
   "outputs": [
    {
     "data": {
      "text/plain": [
       "'hgfedcba'"
      ]
     },
     "execution_count": 42,
     "metadata": {},
     "output_type": "execute_result"
    }
   ],
   "source": [
    "str=\"abcdefgh\"\n",
    "str[::-1]"
   ]
  },
  {
   "cell_type": "markdown",
   "metadata": {},
   "source": [
    "这些代码返回'specialized' 。这种语法很有用，因为你经常需要在不知道列表长度的情况下访问最后的元素。这种约定也适用于其他负数索引，例如，索引-2 返回倒数第 二个列表元素，索引-3 返回倒数第三个列表元素，以此类推。\n",
    "\n",
    "### 3.1.3   使用列表中的各个值 \n",
    "可像使用其他变量一样使用列表中的各个值。例如，你可以使用拼接根据列表中的值来创建消息。 \n",
    "\n",
    "下面来尝试从列表中提取第一款自行车，并使用这个值来创建一条消息:"
   ]
  },
  {
   "cell_type": "code",
   "execution_count": 2,
   "metadata": {},
   "outputs": [
    {
     "name": "stdout",
     "output_type": "stream",
     "text": [
      "My first bicycle was a Trek.\n"
     ]
    }
   ],
   "source": [
    "bicycles = ['trek', 'cannondale', 'redline', 'specialized']\n",
    "message = \"My first bicycle was a \" + bicycles[0].title() + \".\"#❶ \n",
    "print(message)"
   ]
  },
  {
   "cell_type": "markdown",
   "metadata": {},
   "source": [
    "我们使用bicycles[0] 的值生成了一个句子，并将其存储在变量message 中(见❶)。输出是一个简单的句子，其中包含列表中的第一款自行车。\n",
    "\n",
    "**动手试一试**\n",
    "\n",
    "请尝试编写一些简短的程序来完成下面的练习，以获得一些使用Python列表的第一手经验。你可能需要为每章的练习创建一个文件夹，以整洁有序的方式存储为完成各 章的练习而编写的程序。\n",
    "\n",
    "**3-1 姓名:** 将一些朋友的姓名存储在一个列表中，并将其命名为names 。依次访问该列表中的每个元素，从而将每个朋友的姓名都打印出来。\n",
    "\n",
    "**3-2 问候语:** 继续使用练习3-1中的列表，但不打印每个朋友的姓名，而为每人打印一条消息。每条消息都包含相同的问候语，但抬头为相应朋友的姓名。\n",
    "\n",
    "**3-3 自己的列表:** 想想你喜欢的通勤方式，如骑摩托车或开汽车，并创建一个包含多种通勤方式的列表。根据该列表打印一系列有关这些通勤方式的宣言，如“I would like to own a Honda motorcycle”。\n",
    "\n",
    "## 3.2   修改、添加和删除元素\n",
    "你创建的大多数列表都将是动态的，这意味着列表创建后，将随着程序的运行增删元素。例如，你创建一个游戏，要求玩家射杀从天而降的外星人;为此，可在开始时将一些外星人存储在列表中，然后每当有外星人被射杀时，都将其从列表中删除，而每次有新的外星人出现在屏幕上时，都将其添加到列表中。在整个游戏运行期间，外星人列表的长度 将不断变化。\n",
    "\n",
    "### 3.2.1   修改列表元素 \n",
    "修改列表元素的语法与访问列表元素的语法类似。要修改列表元素，可指定列表名和要修改的元素的索引，再指定该元素的新值。 \n",
    "\n",
    "例如，假设有一个摩托车列表，其中的第一个元素为'honda' ，如何修改它的值呢?\n",
    "\n",
    "**motorcycles.py**"
   ]
  },
  {
   "cell_type": "code",
   "execution_count": 3,
   "metadata": {},
   "outputs": [
    {
     "name": "stdout",
     "output_type": "stream",
     "text": [
      "['honda', 'yamaha', 'suzuki']\n",
      "['ducati', 'yamaha', 'suzuki']\n"
     ]
    }
   ],
   "source": [
    "motorcycles = ['honda', 'yamaha', 'suzuki'] #❶\n",
    "print(motorcycles)\n",
    "motorcycles[0] = 'ducati' #❷\n",
    "print(motorcycles)"
   ]
  },
  {
   "cell_type": "code",
   "execution_count": 43,
   "metadata": {},
   "outputs": [
    {
     "name": "stdout",
     "output_type": "stream",
     "text": [
      "['honda', 'yamaha', 'suzuki']\n",
      "[1, 2, ['honda', 'yamaha', 'suzuki']]\n",
      "['ducati', 'yamaha', 'suzuki']\n",
      "[1, 2, ['ducati', 'yamaha', 'suzuki']]\n"
     ]
    }
   ],
   "source": [
    "motorcycles = ['honda', 'yamaha', 'suzuki']\n",
    "mylist=[1,2,motorcycles]\n",
    "print(motorcycles)\n",
    "print(mylist)\n",
    "motorcycles[0] = 'ducati'\n",
    "print(motorcycles)\n",
    "print(mylist)"
   ]
  },
  {
   "cell_type": "code",
   "execution_count": 44,
   "metadata": {},
   "outputs": [
    {
     "name": "stdout",
     "output_type": "stream",
     "text": [
      "['honda', 'yamaha', 'suzuki']\n",
      "[1, 2, ['honda', 'yamaha', 'suzuki']]\n",
      "['ducati', 'yamaha', 'suzuki']\n",
      "[1, 2, ['honda', 'yamaha', 'suzuki']]\n"
     ]
    }
   ],
   "source": [
    "motorcycles = ['honda', 'yamaha', 'suzuki']\n",
    "mylist=[1,2,[motorcycles[0],motorcycles[1],motorcycles[2]]]\n",
    "print(motorcycles)\n",
    "print(mylist)\n",
    "motorcycles[0] = 'ducati'\n",
    "print(motorcycles)\n",
    "print(mylist)"
   ]
  },
  {
   "cell_type": "markdown",
   "metadata": {},
   "source": [
    "我们首先定义一个摩托车列表，其中的第一个元素为'honda' (见❶)。接下来，我们将第一个元素的值改为'ducati' (见❷)。输出表明，第一个元素的值确实变了，但其他列表元素的值没变。\n",
    "\n",
    "你可以修改任何列表元素的值，而不仅仅是第一个元素的值。\n",
    "\n",
    "### 3.2.2   在列表中添加元素\n",
    "\n",
    "你可能出于众多原因要在列表中添加新元素，例如，你可能希望游戏中出现新的外星人、添加可视化数据或给网站添加新注册的用户。Python提供了多种在既有列表中添加新数据 的方式。\n",
    "\n",
    "**1. 在列表末尾添加元素**\n",
    "\n",
    "在列表中添加新元素时，最简单的方式是将元素附加到列表末尾。给列表附加元素时，它将添加到列表末尾。继续使用前一个示例中的列表，在其末尾添加新元素'ducati' :"
   ]
  },
  {
   "cell_type": "code",
   "execution_count": 11,
   "metadata": {},
   "outputs": [
    {
     "name": "stdout",
     "output_type": "stream",
     "text": [
      "['honda', 'yamaha', 'suzuki']\n",
      "['honda', 'yamaha', 'suzuki', 'ducati']\n"
     ]
    }
   ],
   "source": [
    "motorcycles = ['honda', 'yamaha', 'suzuki'] \n",
    "print(motorcycles)\n",
    "motorcycles.append('ducati') #❶\n",
    "print(motorcycles)"
   ]
  },
  {
   "cell_type": "code",
   "execution_count": 46,
   "metadata": {},
   "outputs": [
    {
     "name": "stdout",
     "output_type": "stream",
     "text": [
      "Help on built-in function insert:\n",
      "\n",
      "insert(...) method of builtins.list instance\n",
      "    L.insert(index, object) -- insert object before index\n",
      "\n"
     ]
    }
   ],
   "source": [
    "help(motorcycles.insert)"
   ]
  },
  {
   "cell_type": "markdown",
   "metadata": {},
   "source": [
    "方法append() 将元素'ducati' 添加到了列表末尾(见❶ )，而不影响列表中的其他所有元素。\n",
    "\n",
    "方法append() 将元素'ducati' 添加到了列表末尾(见❶ )，而不影响列表中的其他所有元素:"
   ]
  },
  {
   "cell_type": "code",
   "execution_count": 12,
   "metadata": {},
   "outputs": [
    {
     "name": "stdout",
     "output_type": "stream",
     "text": [
      "['honda', 'yamaha', 'suzuki']\n"
     ]
    }
   ],
   "source": [
    "motorcycles = []\n",
    "motorcycles.append('honda') \n",
    "motorcycles.append('yamaha') \n",
    "motorcycles.append('suzuki')\n",
    "print(motorcycles)"
   ]
  },
  {
   "cell_type": "markdown",
   "metadata": {},
   "source": [
    "最终的列表与前述示例中的列表完全相同。\n",
    "\n",
    "这种创建列表的方式极其常见，因为经常要等程序运行后，你才知道用户要在程序中存储哪些数据。为控制用户，可首先创建一个空列表，用于存储用户将要输入的值，然后将 用户提供的每个新值附加到列表中。\n",
    "\n",
    "**2. 在列表中插入元素**\n",
    "\n",
    "使用方法insert() 可在列表的任何位置添加新元素。为此，你需要指定新元素的索引和值。"
   ]
  },
  {
   "cell_type": "code",
   "execution_count": 13,
   "metadata": {},
   "outputs": [
    {
     "name": "stdout",
     "output_type": "stream",
     "text": [
      "['ducati', 'honda', 'yamaha', 'suzuki']\n"
     ]
    }
   ],
   "source": [
    "motorcycles = ['honda', 'yamaha', 'suzuki']\n",
    "motorcycles.insert(0, 'ducati') #❶\n",
    "print(motorcycles)"
   ]
  },
  {
   "cell_type": "markdown",
   "metadata": {},
   "source": [
    "在这个示例中，值'ducati' 被插入到了列表开头(见❶);方法insert() 在索引0 处添加空间，并将值'ducati' 存储到这个地方。这种操作将列表中既有的每个元素都右 移一个位置。\n",
    "\n",
    "### 3.2.3   从列表中删除元素 \n",
    "你经常需要从列表中删除一个或多个元素。例如，玩家将空中的一个外星人射杀后，你很可能要将其从存活的外星人列表中删除;当用户在你创建的Web应用中注销其账户时，\n",
    "你需要将该用户从活跃用户列表中删除。你可以根据位置或值来删除列表中的元素。 \n",
    "\n",
    "**1. 使用del 语句删除元素**\n",
    "\n",
    "如果知道要删除的元素在列表中的位置，可使用del 语句。"
   ]
  },
  {
   "cell_type": "code",
   "execution_count": 14,
   "metadata": {},
   "outputs": [
    {
     "name": "stdout",
     "output_type": "stream",
     "text": [
      "['honda', 'yamaha', 'suzuki']\n",
      "['yamaha', 'suzuki']\n"
     ]
    }
   ],
   "source": [
    "motorcycles = ['honda', 'yamaha', 'suzuki'] \n",
    "print(motorcycles)\n",
    "del motorcycles[0] #❶\n",
    "print(motorcycles)"
   ]
  },
  {
   "cell_type": "markdown",
   "metadata": {},
   "source": [
    "❶ 处的代码使用del 删除了列表motorcycles 中的第一个元素——'honda' 。\n",
    "\n",
    "使用del 可删除任何位置处的列表元素，条件是知道其索引。下例演示了如何删除前述列表中的第二个元素——'yamaha' :"
   ]
  },
  {
   "cell_type": "code",
   "execution_count": 48,
   "metadata": {},
   "outputs": [
    {
     "name": "stdout",
     "output_type": "stream",
     "text": [
      "1\n"
     ]
    }
   ],
   "source": [
    "motorcycles = ['honda', 'yamaha', 'suzuki'] \n",
    "index=-1\n",
    "for i in range(len(motorcycles)):\n",
    "    if motorcycles[i]=='yamaha':\n",
    "        index=i\n",
    "if index!=-1:\n",
    "    del motorcycles[index]"
   ]
  },
  {
   "cell_type": "code",
   "execution_count": 15,
   "metadata": {},
   "outputs": [
    {
     "name": "stdout",
     "output_type": "stream",
     "text": [
      "['honda', 'yamaha', 'suzuki']\n",
      "['honda', 'suzuki']\n"
     ]
    }
   ],
   "source": [
    "motorcycles = ['honda', 'yamaha', 'suzuki'] \n",
    "print(motorcycles)\n",
    "del motorcycles[1] \n",
    "print(motorcycles)"
   ]
  },
  {
   "cell_type": "markdown",
   "metadata": {},
   "source": [
    "上面的输出表明，已经将第二款摩托车从列表中删除了。\n",
    "\n",
    "在这两个示例中，使用del 语句将值从列表中删除后，你就无法再访问它了。 \n",
    "\n",
    "**2. 使用方法pop() 删除元素**\n",
    "\n",
    "有时候，你要将元素从列表中删除，并接着使用它的值。例如，你可能需要获取刚被射杀的外星人的 x 和 y 坐标，以便在相应的位置显示爆炸效果;在Web应用程序中，你可能 要将用户从活跃成员列表中删除，并将其加入到非活跃成员列表中。\n",
    "\n",
    "方法pop() 可删除列表末尾的元素，并让你能够接着使用它。术语弹出 (pop)源自这样的类比:列表就像一个栈，而删除列表末尾的元素相当于弹出栈顶元素。\n",
    "\n",
    "下面从列表motorcycles 中弹出一款摩托车:"
   ]
  },
  {
   "cell_type": "code",
   "execution_count": 4,
   "metadata": {},
   "outputs": [
    {
     "name": "stdout",
     "output_type": "stream",
     "text": [
      "['honda', 'yamaha', 'suzuki']\n",
      "['honda', 'yamaha']\n",
      "suzuki\n"
     ]
    }
   ],
   "source": [
    "motorcycles = ['honda', 'yamaha', 'suzuki'] #❶\n",
    "print(motorcycles)\n",
    "popped_motorcycle = motorcycles.pop() #❷\n",
    "print(motorcycles)#❸\n",
    "print(popped_motorcycle)#❹"
   ]
  },
  {
   "cell_type": "markdown",
   "metadata": {},
   "source": [
    "我们首先定义并打印了列表motorcycles (见❶)。接下来，我们从这个列表中弹出一个值，并将其存储到变量popped_motorcycle 中(见❷)。然后我们打印这个列 表，以核实从其中删除了一个值(见❸)。最后，我们打印弹出的值，以证明我们依然能够访问被删除的值(见❹)。\n",
    "\n",
    "输出表明，列表末尾的值'suzuki' 已删除，它现在存储在变量popped_motorcycle 中。\n",
    "\n",
    "方法pop() 是怎么起作用的呢?假设列表中的摩托车是按购买时间存储的，就可使用方法pop() 打印一条消息，指出最后购买的是哪款摩托车:"
   ]
  },
  {
   "cell_type": "code",
   "execution_count": 17,
   "metadata": {},
   "outputs": [
    {
     "name": "stdout",
     "output_type": "stream",
     "text": [
      "The last motorcycle I owned was a Suzuki.\n"
     ]
    }
   ],
   "source": [
    "motorcycles = ['honda', 'yamaha', 'suzuki']\n",
    "last_owned = motorcycles.pop()\n",
    "print(\"The last motorcycle I owned was a \" + last_owned.title() + \".\")"
   ]
  },
  {
   "cell_type": "markdown",
   "metadata": {},
   "source": [
    "输出是一个简单的句子，指出了最新购买的是哪款摩托车。\n",
    "\n",
    "**3. 弹出列表中任何位置处的元素**\n",
    "\n",
    "实际上，你可以使用pop() 来删除列表中任何位置的元素，只需在括号中指定要删除的元素的索引即可。"
   ]
  },
  {
   "cell_type": "code",
   "execution_count": 5,
   "metadata": {},
   "outputs": [
    {
     "name": "stdout",
     "output_type": "stream",
     "text": [
      "The first motorcycle I owned was a Honda.\n"
     ]
    }
   ],
   "source": [
    "motorcycles = ['honda', 'yamaha', 'suzuki']\n",
    "first_owned = motorcycles.pop(0) #❶\n",
    "print('The first motorcycle I owned was a ' + first_owned.title() + '.')#❷"
   ]
  },
  {
   "cell_type": "markdown",
   "metadata": {},
   "source": [
    "首先，我们弹出了列表中的第一款摩托车(见❶)，然后打印了一条有关这辆摩托车的消息(见❷)。输出是一个简单的句子，描述了我购买的第一辆摩托车。\n",
    "\n",
    "别忘了，每当你使用pop() 时，被弹出的元素就不再在列表中了。\n",
    "\n",
    "如果你不确定该使用del 语句还是pop() 方法，下面是一个简单的判断标准:如果你要从列表中删除一个元素，且不再以任何方式使用它，就使用del 语句;如果你要在删除元\n",
    "素后还能继续使用它，就使用方法pop() 。\n",
    "\n",
    "**4. 根据值删除元素** \n",
    "\n",
    "有时候，你不知道要从列表中删除的值所处的位置。如果你只知道要删除的元素的值，可使用方法remove() 。 \n",
    "\n",
    "例如，假设我们要从列表motorcycles 中删除值'ducati' 。"
   ]
  },
  {
   "cell_type": "code",
   "execution_count": 19,
   "metadata": {},
   "outputs": [
    {
     "name": "stdout",
     "output_type": "stream",
     "text": [
      "['honda', 'yamaha', 'suzuki', 'ducati']\n",
      "['honda', 'yamaha', 'suzuki']\n"
     ]
    }
   ],
   "source": [
    "motorcycles = ['honda', 'yamaha', 'suzuki', 'ducati'] \n",
    "print(motorcycles)\n",
    "motorcycles.remove('ducati') #❶\n",
    "print(motorcycles)"
   ]
  },
  {
   "cell_type": "markdown",
   "metadata": {},
   "source": [
    "❶ 处的代码让Python确定'ducati' 出现在列表的什么地方，并将该元素删除。\n",
    "\n",
    "使用remove() 从列表中删除元素时，也可接着使用它的值。下面删除值'ducati' ，并打印一条消息，指出要将其从列表中删除的原因:"
   ]
  },
  {
   "cell_type": "code",
   "execution_count": 6,
   "metadata": {},
   "outputs": [
    {
     "name": "stdout",
     "output_type": "stream",
     "text": [
      "['honda', 'yamaha', 'suzuki', 'ducati']\n",
      "['honda', 'yamaha', 'suzuki']\n",
      "\n",
      "A Ducati is too expensive for me.\n"
     ]
    }
   ],
   "source": [
    "motorcycles = ['honda', 'yamaha', 'suzuki', 'ducati'] #❶\n",
    "print(motorcycles)\n",
    "too_expensive = 'ducati'#❷\n",
    "motorcycles.remove(too_expensive)#❸\n",
    "print(motorcycles)\n",
    "print(\"\\nA \" + too_expensive.title() + \" is too expensive for me.\")#❹"
   ]
  },
  {
   "cell_type": "markdown",
   "metadata": {},
   "source": [
    "在❶处定义列表后，我们将值'ducati' 存储在变量too_expensive 中(见❷)。接下来，我们使用这个变量来告诉Python将哪个值从列表中删除(见❸)。最后， 值'ducati' 已经从列表中删除，但它还存储在变量too_expensive 中(见❹)，让我们能够打印一条消息，指出将'ducati' 从列表motorcycles 中删除的原因。\n",
    "\n",
    "**注意**  方法remove() 只删除第一个指定的值。如果要删除的值可能在列表中出现多次，就需要使用循环来判断是否删除了所有这样的值。你将在第7章学习如何这\n",
    "样做。\n",
    "\n",
    "**动手试一试** \n",
    "\n",
    "下面的练习比第2章的练习要复杂些，但让你有机会以前面介绍过的各种方式使用列表。\n",
    "\n",
    "**3-4 嘉宾名单 :** 如果你可以邀请任何人一起共进晚餐(无论是在世的还是故去的)，你会邀请哪些人?请创建一个列表，其中包含至少3个你想邀请的人;然后，使用 这个列表打印消息，邀请这些人来与你共进晚餐。\n",
    "\n",
    "**3-5 修改嘉宾名单 :** 你刚得知有位嘉宾无法赴约，因此需要另外邀请一位嘉宾。\n",
    "\n",
    "- 以完成练习3-4时编写的程序为基础，在程序末尾添加一条print 语句，指出哪位嘉宾无法赴约。\n",
    "\n",
    "- 修改嘉宾名单，将无法赴约的嘉宾的姓名替换为新邀请的嘉宾的姓名。 \n",
    "\n",
    "- 再次打印一系列消息，向名单中的每位嘉宾发出邀请。\n",
    "\n",
    "**3-6 添加嘉宾 :** 你刚找到了一个更大的餐桌，可容纳更多的嘉宾。请想想你还想邀请哪三位嘉宾。\n",
    "\n",
    "- 以完成练习3-4或练习3-5时编写的程序为基础，在程序末尾添加一条print 语句，指出你找到了一个更大的餐桌。 使用insert() 将一位新嘉宾添加到名单开头。\n",
    "\n",
    "- 使用insert() 将另一位新嘉宾添加到名单中间。\n",
    "\n",
    "- 使用append() 将最后一位新嘉宾添加到名单末尾。\n",
    "\n",
    "- 打印一系列消息，向名单中的每位嘉宾发出邀请。\n",
    "\n",
    "**3-7 缩减名单 :** 你刚得知新购买的餐桌无法及时送达，因此只能邀请两位嘉宾。\n",
    "\n",
    "- 以完成练习3-6时编写的程序为基础，在程序末尾添加一行代码，打印一条你只能邀请两位嘉宾共进晚餐的消息。\n",
    "\n",
    "- 使用pop() 不断地删除名单中的嘉宾，直到只有两位嘉宾为止。每次从名单中弹出一位嘉宾时，都打印一条消息，让该嘉宾知悉你很抱歉，无法邀请他来共进 晚餐。\n",
    "\n",
    "- 对于余下的两位嘉宾中的每一位，都打印一条消息，指出他依然在受邀人之列。\n",
    "\n",
    "- 使用del 将最后两位嘉宾从名单中删除，让名单变成空的。打印该名单，核实程序结束时名单确实是空的。\n",
    "\n",
    "## 3.3 组织列表 \n",
    "在你创建的列表中，元素的排列顺序常常是无法预测的，因为你并非总能控制用户提供数据的顺序。这虽然在大多数情况下都是不可避免的，但你经常需要以特定的顺序呈现信\n",
    "息。有时候，你希望保留列表元素最初的排列顺序，而有时候又需要调整排列顺序。Python提供了很多组织列表的方式，可根据具体情况选用。 \n",
    "\n",
    "### 3.3.1   使用方法sort() 对列表进行永久性排序\n",
    "Python方法sort() 让你能够较为轻松地对列表进行排序。假设你有一个汽车列表，并要让其中的汽车按字母顺序排列。为简化这项任务，我们假设该列表中的所有值都是小写 的。\n",
    "\n",
    "**cars.py**"
   ]
  },
  {
   "cell_type": "code",
   "execution_count": 21,
   "metadata": {},
   "outputs": [
    {
     "name": "stdout",
     "output_type": "stream",
     "text": [
      "['audi', 'bmw', 'subaru', 'toyota']\n"
     ]
    }
   ],
   "source": [
    "cars = ['bmw', 'audi', 'toyota', 'subaru'] \n",
    "cars.sort()#❶\n",
    "print(cars)\n"
   ]
  },
  {
   "cell_type": "markdown",
   "metadata": {},
   "source": [
    "方法sort() (见❶)永久性地修改了列表元素的排列顺序。现在，汽车是按字母顺序排列的，再也无法恢复到原来的排列顺序。\n",
    "\n",
    "你还可以按与字母顺序相反的顺序排列列表元素，为此，只需向sort() 方法传递参数reverse=True 。下面的示例将汽车列表按与字母顺序相反的顺序排列:"
   ]
  },
  {
   "cell_type": "code",
   "execution_count": 22,
   "metadata": {},
   "outputs": [
    {
     "name": "stdout",
     "output_type": "stream",
     "text": [
      "['toyota', 'subaru', 'bmw', 'audi']\n"
     ]
    }
   ],
   "source": [
    "cars = ['bmw', 'audi', 'toyota', 'subaru'] \n",
    "cars.sort(reverse=True)\n",
    "print(cars)"
   ]
  },
  {
   "cell_type": "markdown",
   "metadata": {},
   "source": [
    "同样，对列表元素排列顺序的修改是永久性的。\n",
    "\n",
    "### 3.3.2   使用函数sorted() 对列表进行临时排序\n",
    "要保留列表元素原来的排列顺序，同时以特定的顺序呈现它们，可使用函数sorted() 。函数sorted() 让你能够按特定顺序显示列表元素，同时不影响它们在列表中的原始排\n",
    "列顺序。\n",
    "\n",
    "下面尝试对汽车列表调用这个函数。"
   ]
  },
  {
   "cell_type": "code",
   "execution_count": 7,
   "metadata": {},
   "outputs": [
    {
     "name": "stdout",
     "output_type": "stream",
     "text": [
      "Here is the original list:\n",
      "['bmw', 'audi', 'toyota', 'subaru']\n",
      "\n",
      "Here is the sorted list:\n",
      "['audi', 'bmw', 'subaru', 'toyota']\n",
      "\n",
      "Here is the original list again:\n",
      "['bmw', 'audi', 'toyota', 'subaru']\n"
     ]
    }
   ],
   "source": [
    "cars = ['bmw', 'audi', 'toyota', 'subaru']\n",
    "print(\"Here is the original list:\") #❶\n",
    "print(cars)\n",
    "print(\"\\nHere is the sorted list:\")#❷ \n",
    "print(sorted(cars))\n",
    "print(\"\\nHere is the original list again:\") #❸\n",
    "print(cars)"
   ]
  },
  {
   "cell_type": "markdown",
   "metadata": {},
   "source": [
    "我们首先按原始顺序打印列表(见❶)，再按字母顺序显示该列表(见❷)。以特定顺序显示列表后，我们进行核实，确认列表元素的排列顺序与以前相同(见❸)。\n",
    "\n",
    "注意，调用函数sorted() 后，列表元素的排列顺序并没有变(见❹)。如果你要按与字母顺序相反的顺序显示列表，也可向函数sorted() 传递参数reverse=True 。 \n",
    "\n",
    "**注意** 在并非所有的值都是小写时，按字母顺序排列列表要复杂些。决定排列顺序时，有多种解读大写字母的方式，要指定准确的排列顺序，可能比我们这里所做的\n",
    "要复杂。然而，大多数排序方式都基于本节介绍的知识。\n",
    "\n",
    "### 3.3.3    倒着打印列表\n",
    "要反转列表元素的排列顺序，可使用方法reverse() 。假设汽车列表是按购买时间排列的，可轻松地按相反的顺序排列其中的汽车:\n"
   ]
  },
  {
   "cell_type": "code",
   "execution_count": 8,
   "metadata": {},
   "outputs": [
    {
     "name": "stdout",
     "output_type": "stream",
     "text": [
      "['bmw', 'audi', 'toyota', 'subaru']\n",
      "['subaru', 'toyota', 'audi', 'bmw']\n"
     ]
    }
   ],
   "source": [
    "cars = ['bmw', 'audi', 'toyota', 'subaru'] \n",
    "print(cars)\n",
    "cars.reverse() \n",
    "print(cars)"
   ]
  },
  {
   "cell_type": "markdown",
   "metadata": {},
   "source": [
    "注意，reverse() 不是指按与字母顺序相反的顺序排列列表元素，而只是反转列表元素的排列顺序。\n",
    "\n",
    "方法reverse() 永久性地修改列表元素的排列顺序，但可随时恢复到原来的排列顺序，为此只需对列表再次调用reverse() 即可。 \n",
    "\n",
    "### 3.3.4    确定列表的长度\n",
    "使用函数len() 可快速获悉列表的长度。在下面的示例中，列表包含4个元素，因此其长度为4:"
   ]
  },
  {
   "cell_type": "code",
   "execution_count": 9,
   "metadata": {},
   "outputs": [
    {
     "data": {
      "text/plain": [
       "4"
      ]
     },
     "execution_count": 9,
     "metadata": {},
     "output_type": "execute_result"
    }
   ],
   "source": [
    "cars = ['bmw', 'audi', 'toyota', 'subaru']\n",
    "len(cars)\n"
   ]
  },
  {
   "cell_type": "markdown",
   "metadata": {},
   "source": [
    "在你需要完成如下任务时，len() 很有用:确定还有多少个外星人未被射杀，需要管理多少项可视化数据，网站有多少注册用户等。 \n",
    "\n",
    "**注意**  Python计算列表元素数时从1开始，因此确定列表长度时，你应该不会遇到差一错误。\n",
    " \n",
    "**动手试一试**\n",
    "\n",
    "**3-8 放眼世界 :** 想出至少5个你渴望去旅游的地方。 \n",
    "\n",
    "- 将这些地方存储在一个列表中，并确保其中的元素不是按字母顺序排列的。 \n",
    "\n",
    "- 按原始排列顺序打印该列表。不要考虑输出是否整洁的问题，只管打印原始Python列表。 \n",
    "\n",
    "- 使用sorted() 按字母顺序打印这个列表，同时不要修改它。 \n",
    "\n",
    "- 再次打印该列表，核实排列顺序未变。\n",
    "\n",
    "- 使用sorted() 按与字母顺序相反的顺序打印这个列表，同时不要修改它。 \n",
    "\n",
    "- 再次打印该列表，核实排列顺序未变。\n",
    "\n",
    "- 使用reverse() 修改列表元素的排列顺序。打印该列表，核实排列顺序确实变了。\n",
    "\n",
    "- 使用reverse() 再次修改列表元素的排列顺序。打印该列表，核实已恢复到原来的排列顺序。 \n",
    "\n",
    "- 使用sort() 修改该列表，使其元素按字母顺序排列。打印该列表，核实排列顺序确实变了。\n",
    "\n",
    "- 使用sort() 修改该列表，使其元素按与字母顺序相反的顺序排列。打印该列表，核实排列顺序确实变了。\n",
    "\n",
    "**3-9 晚餐嘉宾 :** 在完成练习3-4~练习3-7时编写的程序之一中，使用len() 打印一条消息，指出你邀请了多少位嘉宾来与你共进晚餐。\n",
    "\n",
    "**3-10 尝试使用各个函数 :** 想想可存储到列表中的东西，如山岳、河流、国家、城市、语言或你喜欢的任何东西。编写一个程序，在其中创建一个包含这些元素的列\n",
    "   表，然后，对于本章介绍的每个函数，都至少使用一次来处理这个列表。\n",
    "   \n",
    "### 3.4    使用列表时避免索引错误\n",
    "刚开始使用列表时，经常会遇到一种错误。假设你有一个包含三个元素的列表，却要求获取第四个元素:"
   ]
  },
  {
   "cell_type": "code",
   "execution_count": 10,
   "metadata": {},
   "outputs": [
    {
     "ename": "IndexError",
     "evalue": "list index out of range",
     "output_type": "error",
     "traceback": [
      "\u001b[0;31m---------------------------------------------------------------------------\u001b[0m",
      "\u001b[0;31mIndexError\u001b[0m                                Traceback (most recent call last)",
      "\u001b[0;32m<ipython-input-10-9a4f3dd2e126>\u001b[0m in \u001b[0;36m<module>\u001b[0;34m()\u001b[0m\n\u001b[1;32m      1\u001b[0m \u001b[0mmotorcycles\u001b[0m \u001b[0;34m=\u001b[0m \u001b[0;34m[\u001b[0m\u001b[0;34m'honda'\u001b[0m\u001b[0;34m,\u001b[0m \u001b[0;34m'yamaha'\u001b[0m\u001b[0;34m,\u001b[0m \u001b[0;34m'suzuki'\u001b[0m\u001b[0;34m]\u001b[0m\u001b[0;34m\u001b[0m\u001b[0m\n\u001b[0;32m----> 2\u001b[0;31m \u001b[0mprint\u001b[0m\u001b[0;34m(\u001b[0m\u001b[0mmotorcycles\u001b[0m\u001b[0;34m[\u001b[0m\u001b[0;36m3\u001b[0m\u001b[0;34m]\u001b[0m\u001b[0;34m)\u001b[0m\u001b[0;34m\u001b[0m\u001b[0m\n\u001b[0m",
      "\u001b[0;31mIndexError\u001b[0m: list index out of range"
     ]
    }
   ],
   "source": [
    "motorcycles = ['honda', 'yamaha', 'suzuki'] \n",
    "print(motorcycles[3])\n"
   ]
  },
  {
   "cell_type": "markdown",
   "metadata": {},
   "source": [
    "这将导致**索引错误** 。\n",
    "\n",
    "Python试图向你提供位于索引3处的元素，但它搜索列表motorcycles 时，却发现索引3处没有元素。鉴于列表索引差一的特征，这种错误很常见。有些人从1开始数，因此以为 第三个元素的索引为3;但在Python中，第三个元素的索引为2，因为索引是从0开始的。\n",
    "\n",
    "索引错误意味着Python无法理解你指定的索引。程序发生索引错误时，请尝试将你指定的索引减1，然后再次运行程序，看看结果是否正确。 \n",
    "\n",
    "别忘了，每当需要访问最后一个列表元素时，都可使用索引-1 。这在任何情况下都行之有效，即便你最后一次访问列表后，其长度发生了变化:"
   ]
  },
  {
   "cell_type": "code",
   "execution_count": 11,
   "metadata": {},
   "outputs": [
    {
     "name": "stdout",
     "output_type": "stream",
     "text": [
      "suzuki\n"
     ]
    }
   ],
   "source": [
    "motorcycles = ['honda', 'yamaha', 'suzuki'] \n",
    "print(motorcycles[-1])"
   ]
  },
  {
   "cell_type": "markdown",
   "metadata": {},
   "source": [
    "索引-1 总是返回最后一个列表元素，这里为值'suzuki' 。\n",
    "\n",
    "\n",
    "仅当列表为空时，这种访问最后一个元素的方式才会导致错误:"
   ]
  },
  {
   "cell_type": "code",
   "execution_count": 12,
   "metadata": {},
   "outputs": [
    {
     "ename": "IndexError",
     "evalue": "list index out of range",
     "output_type": "error",
     "traceback": [
      "\u001b[0;31m---------------------------------------------------------------------------\u001b[0m",
      "\u001b[0;31mIndexError\u001b[0m                                Traceback (most recent call last)",
      "\u001b[0;32m<ipython-input-12-022864be528d>\u001b[0m in \u001b[0;36m<module>\u001b[0;34m()\u001b[0m\n\u001b[1;32m      1\u001b[0m \u001b[0mmotorcycles\u001b[0m \u001b[0;34m=\u001b[0m \u001b[0;34m[\u001b[0m\u001b[0;34m]\u001b[0m\u001b[0;34m\u001b[0m\u001b[0m\n\u001b[0;32m----> 2\u001b[0;31m \u001b[0mprint\u001b[0m\u001b[0;34m(\u001b[0m\u001b[0mmotorcycles\u001b[0m\u001b[0;34m[\u001b[0m\u001b[0;34m-\u001b[0m\u001b[0;36m1\u001b[0m\u001b[0;34m]\u001b[0m\u001b[0;34m)\u001b[0m\u001b[0;34m\u001b[0m\u001b[0m\n\u001b[0m",
      "\u001b[0;31mIndexError\u001b[0m: list index out of range"
     ]
    }
   ],
   "source": [
    "motorcycles = [] \n",
    "print(motorcycles[-1])"
   ]
  },
  {
   "cell_type": "markdown",
   "metadata": {},
   "source": [
    "列表motorcycles 不包含任何元素，因此Python返回一条索引错误消息。\n",
    "\n",
    "**注意**  发生索引错误却找不到解决办法时，请尝试将列表或其长度打印出来。列表可能与你以为的截然不同，在程序对其进行了动态处理时尤其如此。通过查看列表 或其包含的元素数，可帮助你找出这种逻辑错误。\n",
    " \n",
    "**动手试一试**\n",
    "\n",
    "**3-11 有意引发错误 :**  如果你还没有在程序中遇到过索引错误，就尝试引发一个这种错误。在你的一个程序中，修改其中的索引，以引发索引错误。关闭程序前，务 必消除这个错误。\n",
    "\n",
    "## 3.5 小结 \n",
    "在本章中，你学习了:列表是什么以及如何使用其中的元素;如何定义列表以及如何增删元素;如何对列表进行永久性排序，以及如何为展示列表而进行临时排序;如何确定列\n",
    "表的长度，以及在使用列表时如何避免索引错误。 \n",
    "\n",
    "在第4章，你将学习如何以更高效的方式处理列表元素。通过使用为数不多的几行代码来遍历列表元素，你就能高效地处理它们，即便列表包含数千乃至数百万个元素。"
   ]
  },
  {
   "cell_type": "code",
   "execution_count": null,
   "metadata": {},
   "outputs": [],
   "source": []
  }
 ],
 "metadata": {
  "kernelspec": {
   "display_name": "Python 3",
   "language": "python",
   "name": "python3"
  },
  "language_info": {
   "codemirror_mode": {
    "name": "ipython",
    "version": 3
   },
   "file_extension": ".py",
   "mimetype": "text/x-python",
   "name": "python",
   "nbconvert_exporter": "python",
   "pygments_lexer": "ipython3",
   "version": "3.6.5"
  }
 },
 "nbformat": 4,
 "nbformat_minor": 2
}
