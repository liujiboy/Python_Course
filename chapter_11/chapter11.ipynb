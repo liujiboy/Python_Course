{
 "cells": [
  {
   "cell_type": "markdown",
   "metadata": {},
   "source": [
    "# 第 11 章 测试代码\n",
    "编写函数或类时，还可为其编写测试。通过测试，可确定代码面对各种输入都能够按要求的那样工作。测试让你信心满满，深信即便有更多的人使用你的程序，它也 能正确地工作。在程序中添加新代码时，你也可以对其进行测试，确认它们不会破坏程序既有的行为。程序员都会犯错，因此每个程序员都必须经常测试其代码，在 用户发现问题前找出它们。\n",
    "\n",
    "在本章中，你将学习如何使用Python模块unittest 中的工具来测试代码。你将学习编写测试用例，核实一系列输入都将得到预期的输出。你将看到测试通过了是什 么样子，测试未通过又是什么样子，还将知道测试未通过如何有助于改进代码。你将学习如何测试函数和类，并将知道该为项目编写多少个测试。\n",
    "\n",
    "## 11.1 测试函数 \n",
    "要学习测试，得有要测试的代码。下面是一个简单的函数，它接受名和姓并返回整洁的姓名: \n",
    "\n",
    "**name_function.py**"
   ]
  },
  {
   "cell_type": "code",
   "execution_count": 86,
   "metadata": {},
   "outputs": [],
   "source": [
    "def get_formatted_name(first, last):\n",
    "    \"\"\"Generate a neatly formatted full name.\"\"\" \n",
    "    full_name = first + ' ' + last\n",
    "    return full_name.title()"
   ]
  },
  {
   "cell_type": "markdown",
   "metadata": {},
   "source": [
    "函数get_formatted_name() 将名和姓合并成姓名，在名和姓之间加上一个空格，并将它们的首字母都大写，再返回结果。为核实get_formatted_name() 像期望的那样 工作，我们来编写一个使用这个函数的程序。程序names.py让用户输入名和姓，并显示整洁的全名:\n",
    "\n",
    "**names.py**"
   ]
  },
  {
   "cell_type": "code",
   "execution_count": 1,
   "metadata": {},
   "outputs": [
    {
     "name": "stdout",
     "output_type": "stream",
     "text": [
      "Enter 'q' at any time to quit.\n",
      "\n",
      "Please give me a first name: janis\n",
      "Please give me a last name: joplin\n",
      "\tNeatly formatted name: Janis Joplin.\n",
      "\n",
      "Please give me a first name: bob\n",
      "Please give me a last name: dylan\n",
      "\tNeatly formatted name: Bob Dylan.\n",
      "\n",
      "Please give me a first name: q\n"
     ]
    }
   ],
   "source": [
    "from name_function import get_formatted_name\n",
    "\n",
    "print(\"Enter 'q' at any time to quit.\") \n",
    "while True:\n",
    "    first = input(\"\\nPlease give me a first name: \") \n",
    "    if first == 'q':\n",
    "        break\n",
    "    last = input(\"Please give me a last name: \") \n",
    "    if last == 'q':\n",
    "        break\n",
    "\n",
    "    formatted_name = get_formatted_name(first, last) \n",
    "    print(\"\\tNeatly formatted name: \" + formatted_name + '.')"
   ]
  },
  {
   "cell_type": "markdown",
   "metadata": {},
   "source": [
    "这个程序从name_function.py中导入get_formatted_name() 。用户可输入一系列的名和姓，并看到格式整洁的全名。\n",
    "\n",
    "从上述输出可知，合并得到的姓名正确无误。现在假设我们要修改get_formatted_name() ，使其还能够处理中间名。这样做时，我们要确保不破坏这个函数处理只有名和 姓的姓名的方式。为此，我们可以在每次修改get_formatted_name()后都进行测试:运行程序names.py，并输入像Janis Joplin这样的姓名，但这太烦琐了。所幸 Python提供了一种自动测试函数输出的高效方式。倘若我们对get_formatted_name() 进行自动测试，就能始终信心满满，确信给这个函数提供我们测试过的姓名时，它都能正确地工作。\n",
    "\n",
    "### 11.1.1 单元测试和测试用例\n",
    "Python标准库中的模块unittest 提供了代码测试工具。单元测试 用于核实函数的某个方面没有问题;测试用例 是一组单元测试，这些单元测试一起核实函数在各种情形下的 行为都符合要求。良好的测试用例考虑到了函数可能收到的各种输入，包含针对所有这些情形的测试。全覆盖式测试 用例包含一整套单元测试，涵盖了各种可能的函数使用方 式。对于大型项目，要实现全覆盖可能很难。通常，最初只要针对代码的重要行为编写测试即可，等项目被广泛使用时再考虑全覆盖。\n",
    "\n",
    "### 11.1.2 可通过的测试 \n",
    "创建测试用例的语法需要一段时间才能习惯，但测试用例创建后，再添加针对函数的单元测试就很简单了。要为函数编写测试用例，可先导入模块unittest 以及要测试的函\n",
    "数，再创建一个继承unittest.TestCase 的类，并编写一系列方法对函数行为的不同方面进行测试。 \n",
    "\n",
    "下面是一个只包含一个方法的测试用例，它检查函数get_formatted_name() 在给定名和姓时能否正确地工作: \n",
    "\n",
    "**test_name_function.py**"
   ]
  },
  {
   "cell_type": "code",
   "execution_count": 4,
   "metadata": {},
   "outputs": [
    {
     "name": "stderr",
     "output_type": "stream",
     "text": [
      "E\n",
      "======================================================================\n",
      "ERROR: /Users/guoyi/Library/Jupyter/runtime/kernel-82e25852-3f08-4537-a10c-a30f452425a8 (unittest.loader._FailedTest)\n",
      "----------------------------------------------------------------------\n",
      "AttributeError: module '__main__' has no attribute '/Users/guoyi/Library/Jupyter/runtime/kernel-82e25852-3f08-4537-a10c-a30f452425a8'\n",
      "\n",
      "----------------------------------------------------------------------\n",
      "Ran 1 test in 0.002s\n",
      "\n",
      "FAILED (errors=1)\n"
     ]
    },
    {
     "ename": "SystemExit",
     "evalue": "True",
     "output_type": "error",
     "traceback": [
      "An exception has occurred, use %tb to see the full traceback.\n",
      "\u001b[0;31mSystemExit\u001b[0m\u001b[0;31m:\u001b[0m True\n"
     ]
    },
    {
     "name": "stderr",
     "output_type": "stream",
     "text": [
      "/Users/guoyi/anaconda3/lib/python3.7/site-packages/IPython/core/interactiveshell.py:2969: UserWarning: To exit: use 'exit', 'quit', or Ctrl-D.\n",
      "  warn(\"To exit: use 'exit', 'quit', or Ctrl-D.\", stacklevel=1)\n"
     ]
    }
   ],
   "source": [
    "import unittest\n",
    "from name_function import get_formatted_name\n",
    "\n",
    "class NamesTestCase(unittest.TestCase):#❶ \n",
    "    \"\"\"测试name_function.py\"\"\"\n",
    " \n",
    "    def test_first_last_name(self): \n",
    "        \"\"\"能够正确地处理像Janis Joplin这样的姓名吗?\"\"\"\n",
    "        formatted_name = get_formatted_name('janis', 'joplin')#❷ \n",
    "        self.assertEqual(formatted_name, 'Janis Joplin')#❸\n",
    "    \n",
    "unittest.main()"
   ]
  },
  {
   "cell_type": "markdown",
   "metadata": {},
   "source": [
    "首先，我们导入了模块unittest 和要测试的函数get_formatted_name() 。在❶处，我们创建了一个名为NamesTestCase 的类，用于包含一系列针对get_formatted_name() 的单元测试。你可随便给这个类命名，但最好让它看起来与要测试的函数相关，并包含字样Test。这个类必须继承unittest.TestCase 类，这 样Python才知道如何运行你编写的测试。\n",
    "\n",
    "NamesTestCase 只包含一个方法，用于测试get_formatted_name() 的一个方面。我们将这个方法命名为test_first_last_name() ，因为我们要核实的是只有名和 姓的姓名能否被正确地格式化。我们运行testname_function.py时，所有以test 打头的方法都将自动运行。在这个方法中，我们调用了要测试的函数，并存储了要测试的返回值。 在这个示例中，我们使用实参'janis' 和'joplin' 调用get_formatted_name() ，并将结果存储到变量formatted_name 中(见❷)。\n",
    "\n",
    "在❸处，我们使用了unittest 类最有用的功能之一:一个断言 方法。断言方法用来核实得到的结果是否与期望的结果一致。在这里，我们知道get_formatted_name() 应 返回这样的姓名，即名和姓的首字母为大写，且它们之间有一个空格，因此我们期望formatted_name的值为Janis Joplin。为检查是否确实如此，我们调用unittest 的方法assertEqual()，并向它传递formatted_name和'Janis Joplin'。代码行self.assertEqual(formatted_name, 'Janis Joplin')的意思是 说:“将formatted_name的值同字符串'Janis Joplin'进行比较，如果它们相等，就万事大吉，如果它们不相等，跟我说一声!”\n",
    "\n",
    "代码行unittest.main() 让Python运行这个文件中的测试。运行test_name_function.py时，得到的输出如上。"
   ]
  },
  {
   "cell_type": "markdown",
   "metadata": {},
   "source": [
    "第1行的句点表明有一个测试通过了。接下来的一行指出Python运行了一个测试，消耗的时间不到0.001秒。最后的OK 表明该测试用例中的所有单元测试都通过了。 \n",
    "\n",
    "上述输出表明，给定包含名和姓的姓名时，函数get_formatted_name() 总是能正确地处理。修改get_formatted_name() 后，可再次运行这个测试用例。如果它通过\n",
    "了，我们就知道在给定Janis Joplin这样的姓名时，这个函数依然能够正确地处理。 \n",
    "\n",
    "### 11.1.3 不能通过的测试\n",
    "测试未通过时结果是什么样的呢?我们来修改get_formatted_name() ，使其能够处理中间名，但这样做时，故意让这个函数无法正确地处理像Janis Joplin这样只有名和姓的姓名。\n",
    "\n",
    "下面是函数get_formatted_name() 的新版本，它要求通过一个实参指定中间名: \n",
    "\n",
    "**name_function.py**"
   ]
  },
  {
   "cell_type": "code",
   "execution_count": 5,
   "metadata": {},
   "outputs": [],
   "source": [
    "def get_formatted_name(first, middle, last): \n",
    "    \"\"\"生成整洁的姓名\"\"\"\n",
    "    full_name = first + ' ' + middle + ' ' + last \n",
    "    return full_name.title()"
   ]
  },
  {
   "cell_type": "markdown",
   "metadata": {},
   "source": [
    "这个版本应该能够正确地处理包含中间名的姓名，但对其进行测试时，我们发现它再也不能正确地处理只有名和姓的姓名。这次运行程序test_name_function.py时，输出如下:"
   ]
  },
  {
   "cell_type": "markdown",
   "metadata": {},
   "source": [
    "其中包含的信息很多，因为测试未通过时，需要让你知道的事情可能有很多。第1行输出只有一个字母E (见❶)，它指出测试用例中有一个单元测试导致了错误。接下来，我们 看到NamesTestCase 中的test_first_last_name() 导致了错误(见❷)。测试用例包含众多单元测试时，知道哪个测试未通过至关重要。在❸处，我们看到了一个标准 的traceback，它指出函数调用get_formatted_name('janis', 'joplin')有问题，因为它缺少一个必不可少的位置实参。\n",
    "\n",
    "我们还看到运行了一个单元测试(见❹)。最后，还看到了一条消息，它指出整个测试用例都未通过，因为运行该测试用例时发生了一个错误(见❺)。这条消息位于输出末 尾，让你一眼就能看到——你可不希望为获悉有多少测试未通过而翻阅长长的输出。\n",
    "\n",
    "### 11.1.4 测试未通过时怎么办 \n",
    "测试未通过时怎么办呢?如果你检查的条件没错，测试通过了意味着函数的行为是对的，而测试未通过意味着你编写的新代码有错。因此，测试未通过时，不要修改测试，而应修复导致测试不能通过的代码:检查刚对函数所做的修改，找出导致函数行为不符合预期的修改。\n",
    "\n",
    "在这个示例中，get_formatted_name() 以前只需要两个实参——名和姓，但现在它要求提供名、中间名和姓。新增的中间名参数是必不可少的，这导 致get_formatted_name() 的行为不符合预期。就这里而言，最佳的选择是让中间名变为可选的。这样做后，使用类似于Janis Joplin的姓名进行测试时，测试就会通过了，同 时这个函数还能接受中间名。下面来修改get_formatted_name() ，将中间名设置为可选的，然后再次运行这个测试用例。如果通过了，我们接着确认这个函数能够妥善地 处理中间名。\n",
    "\n",
    "要将中间名设置为可选的，可在函数定义中将形参middle 移到形参列表末尾，并将其默认值指定为一个空字符串。我们还要添加一个if 测试，以便根据是否提供了中间名相应地创建姓名:\n",
    "\n",
    "**name_function.py**"
   ]
  },
  {
   "cell_type": "code",
   "execution_count": 6,
   "metadata": {},
   "outputs": [],
   "source": [
    "def get_formatted_name(first, last, middle=''): \n",
    "    \"\"\"生成整洁的姓名\"\"\"\n",
    "    if middle:\n",
    "        full_name = first + ' ' + middle + ' ' + last \n",
    "    else:\n",
    "        full_name = first + ' ' + last \n",
    "    return full_name.title()"
   ]
  },
  {
   "cell_type": "markdown",
   "metadata": {},
   "source": [
    "在get_formatted_name()的这个新版本中，中间名是可选的。如果向这个函数传递了中间名(if middle:)，姓名将包含名、中间名和姓，否则姓名将只包含名和姓。 现在，对于两种不同的姓名，这个函数都应该能够正确地处理。为确定这个函数依然能够正确地处理像Janis Joplin这样的姓名，我们再次运行test_name_function.py:"
   ]
  },
  {
   "cell_type": "markdown",
   "metadata": {},
   "source": [
    "现在，测试用例通过了。太好了，这意味着这个函数又能正确地处理像Janis Joplin这样的姓名了，而且我们无需手工测试这个函数。这个函数很容易就修复了，因为未通过的测试 让我们得知新代码破坏了函数原来的行为。\n",
    "\n",
    "### 11.1.5 添加新测试\n",
    "确定get_formatted_name() 又能正确地处理简单的姓名后，我们再编写一个测试，用于测试包含中间名的姓名。为此，我们在NamesTestCase 类中再添加一个方法:"
   ]
  },
  {
   "cell_type": "code",
   "execution_count": 7,
   "metadata": {},
   "outputs": [
    {
     "name": "stderr",
     "output_type": "stream",
     "text": [
      "E\n",
      "======================================================================\n",
      "ERROR: /Users/guoyi/Library/Jupyter/runtime/kernel-82e25852-3f08-4537-a10c-a30f452425a8 (unittest.loader._FailedTest)\n",
      "----------------------------------------------------------------------\n",
      "AttributeError: module '__main__' has no attribute '/Users/guoyi/Library/Jupyter/runtime/kernel-82e25852-3f08-4537-a10c-a30f452425a8'\n",
      "\n",
      "----------------------------------------------------------------------\n",
      "Ran 1 test in 0.006s\n",
      "\n",
      "FAILED (errors=1)\n"
     ]
    },
    {
     "ename": "SystemExit",
     "evalue": "True",
     "output_type": "error",
     "traceback": [
      "An exception has occurred, use %tb to see the full traceback.\n",
      "\u001b[0;31mSystemExit\u001b[0m\u001b[0;31m:\u001b[0m True\n"
     ]
    },
    {
     "name": "stderr",
     "output_type": "stream",
     "text": [
      "/Users/guoyi/anaconda3/lib/python3.7/site-packages/IPython/core/interactiveshell.py:2969: UserWarning: To exit: use 'exit', 'quit', or Ctrl-D.\n",
      "  warn(\"To exit: use 'exit', 'quit', or Ctrl-D.\", stacklevel=1)\n"
     ]
    }
   ],
   "source": [
    "import unittest\n",
    "from name_function import get_formatted_name\n",
    "\n",
    "class NamesTestCase(unittest.TestCase): \n",
    "    \"\"\"测试name_function.py \"\"\"\n",
    "    \n",
    "    def test_first_last_name(self):\n",
    "        \"\"\"能够正确地处理像Janis Joplin这样的姓名吗?\"\"\" \n",
    "        formatted_name = get_formatted_name('janis', 'joplin') \n",
    "        self.assertEqual(formatted_name, 'Janis Joplin')\n",
    "        \n",
    "    def test_first_last_middle_name(self): \n",
    "        \"\"\"能够正确地处理像Wolfgang Amadeus Mozart这样的姓名吗?\"\"\"\n",
    "        formatted_name = get_formatted_name( 'wolfgang', \n",
    "                                            'mozart', 'amadeus')#❶\n",
    "        self.assertEqual(formatted_name, 'Wolfgang Amadeus Mozart') \n",
    "        \n",
    "unittest.main()"
   ]
  },
  {
   "cell_type": "markdown",
   "metadata": {},
   "source": [
    "我们将这个方法命名为test_first_last_middle_name() 。方法名必须以test_打头，这样它才会在我们运行test_name_function.py时自动运行。这个方法名清楚地指出了它测 试的是get_formatted_name() 的哪个行为，这样，如果该测试未通过，我们就会马上知道受影响的是哪种类型的姓名。在TestCase 类中使用很长的方法名是可以的;这些方法的名称必须是描述性的，这才能让你明白测试未通过时的输出;这些方法由Python自动调用，你根本不用编写调用它们的代码。\n",
    "\n",
    "为测试函数get_formatted_name() ，我们使用名、姓和中间名调用它(见❶)，再使用assertEqual() 检查返回的姓名是否与预期的姓名(名、中间名和姓)一致。我 们再次运行test_name_function.py时，两个测试都通过了:\n",
    "\n",
    "太好了!现在我们知道，这个函数又能正确地处理像Janis Joplin这样的姓名了，我们还深信它也能够正确地处理像Wolfgang Amadeus Mozart这样的姓名。 \n",
    "\n",
    "**动手试一试**\n",
    "\n",
    "**11-1城市和国家:** 编写一个函数，它接受两个形参:一个城市名和一个国家名。这个函数返回一个格式为City, Country的字符串，如Santiago, Chile。将 这个函数存储在一个名为city_functions.py的模块中。\n",
    "\n",
    "创建一个名为test_cities.py的程序，对刚编写的函数进行测试(别忘了，你需要导入模块unittest 以及要测试的函数)。编写一个名为test_city_country() 的 方法，核实使用类似于'santiago' 和'chile' 这样的值来调用前述函数时，得到的字符串是正确的。运行test_cities.py ，确认测 试test_city_country() 通过了。\n",
    "\n",
    "**11-2人口数量:** 修改前面的函数，使其包含第三个必不可少的形参population，并返回一个格式为City, Country - population xxx的字符串， 如Santiago, Chile - population 5000000。运行test_cities.py，确认测试test_city_country()未通过。\n",
    "\n",
    "修改上述函数，将形参population 设置为可选的。再次运行test_cities.py，确认测试test_city_country() 又通过了。 \n",
    "\n",
    "再编写一个名为test_city_country_population() 的测试，核实可以使用类似于'santiago' 、'chile' 和'population=5000000' 这样的值来调用\n",
    "这个函数。再次运行test_cities.py，确认测试test_city_country_population() 通过了。 \n",
    "\n",
    "## 11.2 测试类\n",
    "在本章前半部分，你编写了针对单个函数的测试，下面来编写针对类的测试。很多程序中都会用到类，因此能够证明你的类能够正确地工作会大有裨益。如果针对类的测试通过 了，你就能确信对类所做的改进没有意外地破坏其原有的行为。\n",
    "\n",
    "### 11.2.1 各种断言方法\n",
    "Python在unittest.TestCase 类中提供了很多断言方法。前面说过，断言方法检查你认为应该满足的条件是否确实满足。如果该条件确实满足，你对程序行为的假设就得到了\n",
    "确认，你就可以确信其中没有错误。如果你认为应该满足的条件实际上并不满足，Python将引发异常。 \n",
    "\n",
    "表11-1描述了6个常用的断言方法。使用这些方法可核实返回的值等于或不等于预期的值、返回的值为True 或False 、返回的值在列表中或不在列表中。你只能在继\n",
    "承unittest.TestCase 的类中使用这些方法，下面来看看如何在测试类时使用其中的一个。 \n",
    "\n",
    "**表11-1 unittest Module中的断言方法**"
   ]
  },
  {
   "cell_type": "markdown",
   "metadata": {},
   "source": [
    "| 方法 | 用途 |\n",
    "| ------ | ------ |\n",
    "| assertEqual(a, b) | 核实a == b |\n",
    "| assertNotEqual(a, b) | 核实a != b |\n",
    "| assertTrue(x) | 核实x 为True |\n",
    "| assertFalse(x) | 核实x 为False |\n",
    "| assertIn(item , list ) | 核实 item 在 list 中 |\n",
    "| assertNotIn(item , list ) | 核实 item 不在 list 中|"
   ]
  },
  {
   "cell_type": "markdown",
   "metadata": {},
   "source": [
    "### 11.2.2 一个要测试的类 \n",
    "类的测试与函数的测试相似——你所做的大部分工作都是测试类中方法的行为，但存在一些不同之处，下面来编写一个类进行测试。来看一个帮助管理匿名调查的类: \n",
    "\n",
    "**survey.py**"
   ]
  },
  {
   "cell_type": "code",
   "execution_count": null,
   "metadata": {},
   "outputs": [],
   "source": [
    "class AnonymousSurvey(): \n",
    "    \"\"\"收集匿名调查问卷的答案\"\"\"\n",
    "\n",
    "    def __init__(self, question):#❶ \n",
    "        \"\"\"存储一个问题，并为存储答案做准备\"\"\" \n",
    "        self.question = question \n",
    "        self.responses = []\n",
    "        \n",
    "    def show_question(self):#❷ \n",
    "        \"\"\"显示调查问卷\"\"\" \n",
    "        print(question)\n",
    "        \n",
    "    def store_response(self, new_response):#❸ \n",
    "        \"\"\"存储单份调查答卷\"\"\" \n",
    "        self.responses.append(new_response)\n",
    "\n",
    "    def show_results(self):#❹ \n",
    "        \"\"\"显示收集到的所有答卷\"\"\" \n",
    "        print(\"Survey results:\") \n",
    "        for response in responses:\n",
    "            print('- ' + response)"
   ]
  },
  {
   "cell_type": "markdown",
   "metadata": {},
   "source": [
    "这个类首先存储了一个你指定的调查问题(见❶)，并创建了一个空列表，用于存储答案。这个类包含打印调查问题的方法(见❷)、在答案列表中添加新答案的方法(见❸) 以及将存储在列表中的答案都打印出来的方法(见❹)。要创建这个类的实例，只需提供一个问题即可。有了表示调查的实例后，就可使用show_question() 来显示其中的问 题，可使用store_response() 来存储答案，并使用show_results() 来显示调查结果。\n",
    "\n",
    "为证明AnonymousSurvey 类能够正确地工作，我们来编写一个使用它的程序: \n",
    "\n",
    "**language_survey.py**"
   ]
  },
  {
   "cell_type": "code",
   "execution_count": 8,
   "metadata": {},
   "outputs": [
    {
     "name": "stdout",
     "output_type": "stream",
     "text": [
      "What language did you first learn to speak?\n",
      "Enter 'q' at any time to quit.\n",
      "\n",
      "Language: English\n",
      "Language: Spanish\n",
      "Language: English\n",
      "Language: Mandarin\n",
      "Language: q\n",
      "\n",
      "Thank you to everyone who participated in the survey!\n",
      "Survey results:\n",
      "- English\n",
      "- Spanish\n",
      "- English\n",
      "- Mandarin\n"
     ]
    }
   ],
   "source": [
    "from survey import AnonymousSurvey\n",
    "\n",
    "#定义一个问题，并创建一个表示调查的AnonymousSurvey对象 \n",
    "question = \"What language did you first learn to speak?\" \n",
    "my_survey = AnonymousSurvey(question)\n",
    "\n",
    "#显示问题并存储答案 \n",
    "my_survey.show_question()\n",
    "print(\"Enter 'q' at any time to quit.\\n\")\n",
    "while True:\n",
    "    response = input(\"Language: \") \n",
    "    if response == 'q':\n",
    "        break \n",
    "    my_survey.store_response(response)\n",
    "    \n",
    "# 显示调查结果\n",
    "print(\"\\nThank you to everyone who participated in the survey!\") \n",
    "my_survey.show_results()"
   ]
  },
  {
   "cell_type": "markdown",
   "metadata": {},
   "source": [
    "这个程序定义了一个问题(\"What language did you first learn to speak? \")，并使用这个问题创建了一个AnonymousSurvey对象。接下来，这个程序调 用show_question() 来显示问题，并提示用户输入答案。收到每个答案的同时将其存储起来。用户输入所有答案(输入q 要求退出)后，调用show_results() 来打印调查结果。\n",
    "\n",
    "AnonymousSurvey 类可用于进行简单的匿名调查。假设我们将它放在了模块survey 中，并想进行改进:让每位用户都可输入多个答案;编写一个方法，它只列出不同的答 案，并指出每个答案出现了多少次;再编写一个类，用于管理非匿名调查。\n",
    "\n",
    "进行上述修改存在风险，可能会影响AnonymousSurvey 类的当前行为。例如，允许每位用户输入多个答案时，可能不小心修改了处理单个答案的方式。要确认在开发这个模块 时没有破坏既有行为，可以编写针对这个类的测试。\n",
    "\n",
    "### 11.2.3 测试AnonymousSurvey 类\n",
    "下面来编写一个测试，对AnonymousSurvey 类的行为的一个方面进行验证:如果用户面对调查问题时只提供了一个答案，这个答案也能被妥善地存储。为此，我们将在这个答案被存储后，使用方法assertIn() 来核实它包含在答案列表中: \n",
    "\n",
    "**test_survey.py**"
   ]
  },
  {
   "cell_type": "code",
   "execution_count": 9,
   "metadata": {},
   "outputs": [
    {
     "name": "stderr",
     "output_type": "stream",
     "text": [
      "E\n",
      "======================================================================\n",
      "ERROR: /Users/guoyi/Library/Jupyter/runtime/kernel-82e25852-3f08-4537-a10c-a30f452425a8 (unittest.loader._FailedTest)\n",
      "----------------------------------------------------------------------\n",
      "AttributeError: module '__main__' has no attribute '/Users/guoyi/Library/Jupyter/runtime/kernel-82e25852-3f08-4537-a10c-a30f452425a8'\n",
      "\n",
      "----------------------------------------------------------------------\n",
      "Ran 1 test in 0.006s\n",
      "\n",
      "FAILED (errors=1)\n"
     ]
    },
    {
     "ename": "SystemExit",
     "evalue": "True",
     "output_type": "error",
     "traceback": [
      "An exception has occurred, use %tb to see the full traceback.\n",
      "\u001b[0;31mSystemExit\u001b[0m\u001b[0;31m:\u001b[0m True\n"
     ]
    },
    {
     "name": "stderr",
     "output_type": "stream",
     "text": [
      "/Users/guoyi/anaconda3/lib/python3.7/site-packages/IPython/core/interactiveshell.py:2969: UserWarning: To exit: use 'exit', 'quit', or Ctrl-D.\n",
      "  warn(\"To exit: use 'exit', 'quit', or Ctrl-D.\", stacklevel=1)\n"
     ]
    }
   ],
   "source": [
    "import unittest\n",
    "from survey import AnonymousSurvey\n",
    "\n",
    "class TestAnonmyousSurvey(unittest.TestCase):#❶ \n",
    "    \"\"\"针对AnonymousSurvey类的测试\"\"\"\n",
    "  \n",
    "    def test_store_single_response(self):#❷ \n",
    "        \"\"\"测试单个答案会被妥善地存储\"\"\"\n",
    "        question = \"What language did you first learn to speak?\"\n",
    "        my_survey = AnonymousSurvey(question)#❸ \n",
    "        my_survey.store_response('English')\n",
    "\n",
    "        self.assertIn('English', my_survey.responses)#❹ \n",
    "\n",
    "unittest.main()"
   ]
  },
  {
   "cell_type": "markdown",
   "metadata": {},
   "source": [
    "我们首先导入了模块unittest 以及要测试的类AnonymousSurvey 。我们将测试用例命名为TestAnonymousSurvey ，它也继承了unittest.TestCase (见❶)。第 一个测试方法验证调查问题的单个答案被存储后，会包含在调查结果列表中。对于这个方法，一个不错的描述性名称是test_store_single_response() (见❷)。如果 这个测试未通过，我们就能通过输出中的方法名得知，在存储单个调查答案方面存在问题。\n",
    "\n",
    "要测试类的行为，需要创建其实例。在❸处，我们使用问题\"What language did you first learn to speak?\"创建了一个名为my_survey的实例，然后使用方 法store_response() 存储了单个答案English 。接下来，我们检查English 是否包含在列表my_survey.responses 中，以核实这个答案是否被妥善地存储了(见 ❹)。\n",
    "\n",
    "当我们运行test_survey.py时，测试通过了:\n",
    "    \n",
    "\n",
    "这很好，但只能收集一个答案的调查用途不大。下面来核实用户提供三个答案时，它们也将被妥善地存储。为此，我们在TestAnonymousSurvey 中再添加一个方法:    "
   ]
  },
  {
   "cell_type": "code",
   "execution_count": 10,
   "metadata": {},
   "outputs": [
    {
     "name": "stderr",
     "output_type": "stream",
     "text": [
      "E\n",
      "======================================================================\n",
      "ERROR: /Users/guoyi/Library/Jupyter/runtime/kernel-82e25852-3f08-4537-a10c-a30f452425a8 (unittest.loader._FailedTest)\n",
      "----------------------------------------------------------------------\n",
      "AttributeError: module '__main__' has no attribute '/Users/guoyi/Library/Jupyter/runtime/kernel-82e25852-3f08-4537-a10c-a30f452425a8'\n",
      "\n",
      "----------------------------------------------------------------------\n",
      "Ran 1 test in 0.005s\n",
      "\n",
      "FAILED (errors=1)\n"
     ]
    },
    {
     "ename": "SystemExit",
     "evalue": "True",
     "output_type": "error",
     "traceback": [
      "An exception has occurred, use %tb to see the full traceback.\n",
      "\u001b[0;31mSystemExit\u001b[0m\u001b[0;31m:\u001b[0m True\n"
     ]
    },
    {
     "name": "stderr",
     "output_type": "stream",
     "text": [
      "/Users/guoyi/anaconda3/lib/python3.7/site-packages/IPython/core/interactiveshell.py:2969: UserWarning: To exit: use 'exit', 'quit', or Ctrl-D.\n",
      "  warn(\"To exit: use 'exit', 'quit', or Ctrl-D.\", stacklevel=1)\n"
     ]
    }
   ],
   "source": [
    "import unittest\n",
    "from survey import AnonymousSurvey\n",
    "\n",
    "class TestAnonymousSurvey(unittest.TestCase): \n",
    "    \"\"\"针对AnonymousSurvey类的测试\"\"\"\n",
    "    \n",
    "    def test_store_single_response(self): \n",
    "        \"\"\"测试单个答案会被妥善地存储\"\"\" \n",
    "        #--snip--\n",
    "    \n",
    "    def test_store_three_responses(self): \n",
    "        \"\"\"测试三个答案会被妥善地存储\"\"\"\n",
    "        question = \"What language did you first learn to speak?\" \n",
    "        my_survey = AnonymousSurvey(question)\n",
    "        responses = ['English', 'Spanish', 'Mandarin']#❶ \n",
    "        for response in responses:\n",
    "            my_survey.store_response(response)\n",
    "        \n",
    "        for response in responses:#❷ \n",
    "            self.assertIn(response, my_survey.responses)\n",
    "\n",
    "unittest.main()"
   ]
  },
  {
   "cell_type": "markdown",
   "metadata": {},
   "source": [
    "我们将这个方法命名为test_store_three_responses() ，并像test_store_single_response() 一样，在其中创建一个调查对象。我们定义了一个包含三个不同答案的列表(见❶)，再对其中每个答案都调用store_response() 。存储这些答案后，我们使用一个循环来确认每个答案都包含在my_survey.responses 中(见❷)。 我们再次运行test_survey.py时，两个测试(针对单个答案的测试和针对三个答案的测试)都通过了:\n",
    "\n",
    "\n",
    "前述做法的效果很好，但这些测试有些重复的地方。下面使用unittest 的另一项功能来提高它们的效率。\n",
    "\n",
    "### 11.2.4 方法 setUp()\n",
    "在前面的test_survey.py中，我们在每个测试方法中都创建了一个AnonymousSurvey 实例，并在每个方法中都创建了答案。unittest.TestCase 类包含方法setUp() ，让我 们只需创建这些对象一次，并在每个测试方法中使用它们。如果你在TestCase 类中包含了方法setUp() ，Python将先运行它，再运行各个以test_打头的方法。这样，在你编写 的每个测试方法中都可使用在方法setUp()中创建的对象了。\n",
    "\n",
    "下面使用setUp() 来创建一个调查对象和一组答案，供方法test_store_single_response() 和test_store_three_responses() 使用:"
   ]
  },
  {
   "cell_type": "code",
   "execution_count": null,
   "metadata": {},
   "outputs": [],
   "source": [
    "import unittest\n",
    "from survey import AnonymousSurvey\n",
    "\n",
    "class TestAnonymousSurvey(unittest.TestCase): \n",
    "    \"\"\"针对AnonymousSurvey类的测试\"\"\"\n",
    "    \n",
    "    def setUp(self):\n",
    "        \"\"\"\n",
    "        创建一个调查对象和一组答案，供使用的测试方法使用\n",
    "        \"\"\"\n",
    "        question = \"What language did you first learn to speak?\"\n",
    "        self.my_survey = AnonymousSurvey(question)#❶\n",
    "        self.responses = ['English', 'Spanish', 'Mandarin']#❷\n",
    "\n",
    "    def test_store_single_response(self): \n",
    "        \"\"\"测试单个答案会被妥善地存储\"\"\" \n",
    "        self.my_survey.store_response(self.responses[0]) \n",
    "        self.assertIn(self.responses[0], self.my_survey.responses)\n",
    "    \n",
    "    def test_store_three_responses(self): \n",
    "        \"\"\"测试三个答案会被妥善地存储\"\"\"\n",
    "        for response in self.responses:\n",
    "            self.my_survey.store_response(response) \n",
    "        for response in self.responses:\n",
    "            self.assertIn(response, self.my_survey.responses)\n",
    "            \n",
    "unittest.main()"
   ]
  },
  {
   "cell_type": "markdown",
   "metadata": {},
   "source": [
    "方法setUp() 做了两件事情:创建一个调查对象(见❶);创建一个答案列表(见❷)。存储这两样东西的变量名包含前缀self (即存储在属性中)，因此可在这个类的任何 地方使用。这让两个测试方法都更简单，因为它们都不用创建调查对象和答案。方法test_store_three_response() 核实self.responses 中的第一个答案 ——self.responses[0] ——被妥善地存储，而方法test_store_three_response() 核实self.responses 中的全部三个答案都被妥善地存储。\n",
    "\n",
    "再次运行test_survey.py时，这两个测试也都通过了。如果要扩展AnonymousSurvey ，使其允许每位用户输入多个答案，这些测试将很有用。修改代码以接受多个答案后，可运 行这些测试，确认存储单个答案或一系列答案的行为未受影响。\n",
    "\n",
    "测试自己编写的类时，方法setUp() 让测试方法编写起来更容易:可在setUp() 方法中创建一系列实例并设置它们的属性，再在测试方法中直接使用这些实例。相比于在每个 测试方法中都创建实例并设置其属性，这要容易得多。\n",
    "\n",
    "**注意**  运行测试用例时，每完成一个单元测试，Python都打印一个字符:测试通过时打印一个句点;测试引发错误时打印一个E ;测试导致断言失败时打印一个F 。 这就是你运行测试用例时，在输出的第一行中看到的句点和字符数量各不相同的原因。如果测试用例包含很多单元测试，需要运行很长时间，就可通过观察这些结果 来获悉有多少个测试通过了。\n",
    " \n",
    "**动手试一试**\n",
    "\n",
    "**11-3 雇员** :编写一个名为Employee 的类，其方法__init__() 接受名、姓和年薪，并将它们都存储在属性中。编写一个名为give_raise() 的方法，它默认将 年薪增加5000美元，但也能够接受其他的年薪增加量。\n",
    "\n",
    "为Employee 编写一个测试用例，其中包含两个测试方法:test_give_default_raise() 和test_give_custom_raise() 。使用方法setUp() ，以免在 每个测试方法中都创建新的雇员实例。运行这个测试用例，确认两个测试都通过了。\n",
    "\n",
    "## 11.3 小结\n",
    "在本章中，你学习了:如何使用模块unittest 中的工具来为函数和类编写测试;如何编写继承unittest.TestCase 的类，以及如何编写测试方法，以核实函数和类的行为\n",
    "符合预期;如何使用方法setUp() 来根据类高效地创建实例并设置其属性，以便在类的所有测试方法中都可使用它们。\n",
    "\n",
    "测试是很多初学者都不熟悉的主题。作为初学者，并非必须为你尝试的所有项目编写测试;但参与工作量较大的项目时，你应对自己编写的函数和类的重要行为进行测试。这样 你就能够更加确定自己所做的工作不会破坏项目的其他部分，你就能够随心所欲地改进既有代码了。如果不小心破坏了原来的功能，你马上就会知道，从而能够轻松地修复问 题。相比于等到不满意的用户报告bug后再采取措施，在测试未通过时采取措施要容易得多。\n",
    "\n",
    "如果你在项目中包含了初步测试，其他程序员将更敬佩你，他们将能够更得心应手地尝试使用你编写的代码，也更愿意与你合作开发项目。如果你要跟其他程序员开发的项目共 享代码，就必须证明你编写的代码通过了既有测试，通常还需要为你添加的新行为编写测试。\n",
    "\n",
    "请通过多开展测试来熟悉代码测试过程。对于自己编写的函数和类，请编写针对其重要行为的测试，但在项目早期，不要试图去编写全覆盖的测试用例，除非有充分的理由这样做。"
   ]
  },
  {
   "cell_type": "code",
   "execution_count": null,
   "metadata": {},
   "outputs": [],
   "source": []
  }
 ],
 "metadata": {
  "kernelspec": {
   "display_name": "Python 3",
   "language": "python",
   "name": "python3"
  },
  "language_info": {
   "codemirror_mode": {
    "name": "ipython",
    "version": 3
   },
   "file_extension": ".py",
   "mimetype": "text/x-python",
   "name": "python",
   "nbconvert_exporter": "python",
   "pygments_lexer": "ipython3",
   "version": "3.6.5"
  }
 },
 "nbformat": 4,
 "nbformat_minor": 2
}
