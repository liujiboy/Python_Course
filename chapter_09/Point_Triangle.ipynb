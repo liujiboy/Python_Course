{
 "cells": [
  {
   "cell_type": "code",
   "execution_count": 1,
   "metadata": {},
   "outputs": [],
   "source": [
    "import math\n",
    "class Point():\n",
    "    def __init__(self,x,y,z):\n",
    "        self.x=x\n",
    "        self.y=y\n",
    "        self.z=z\n",
    "    def distance(self,pointB):\n",
    "        pointA=self\n",
    "        return math.sqrt((pointA.x-pointB.x)**2+(pointA.y-pointB.y)**2+(pointA.z-pointB.z)**2)\n",
    "    def isTriangle(self, pointB,pointC):\n",
    "        pointA=self\n",
    "        AB=pointA.distance(pointB)\n",
    "        AC=pointA.distance(pointC)\n",
    "        BC=pointB.distance(pointC)\n",
    "        if AB+AC>BC and AB+BC>AC and BC+AC>AB:\n",
    "            return True\n",
    "        else:\n",
    "            return False\n",
    "class Triangle():\n",
    "    def __init__(self,pointA,pointB,pointC):\n",
    "        self.pointA=pointA\n",
    "        self.pointB=pointB\n",
    "        self.pointC=pointC\n",
    "        self.AB=pointA.distance(pointB)\n",
    "        self.AC=pointA.distance(pointC)\n",
    "        self.BC=pointB.distance(pointC)\n",
    "    def area(self):\n",
    "        p=self.perimeter()/2\n",
    "        a=self.AB\n",
    "        b=self.BC\n",
    "        c=self.AC\n",
    "        return math.sqrt(p*(p-a)*(p-b)*(p-c))\n",
    "    def perimeter(self):\n",
    "        return self.AB+self.AC+self.BC"
   ]
  },
  {
   "cell_type": "code",
   "execution_count": 11,
   "metadata": {},
   "outputs": [
    {
     "name": "stdout",
     "output_type": "stream",
     "text": [
      "输入A点坐标：0 0 0\n",
      "输入B点坐标：1 0 0\n",
      "输入C点坐标：0 1 0\n",
      "三角形的周长是 3.414213562373095\n",
      "三角形的面积是 0.49999999999999983\n"
     ]
    }
   ],
   "source": [
    "messages=[\"输入A点坐标：\",\"输入B点坐标：\",\"输入C点坐标：\"]\n",
    "points=[]\n",
    "for message in messages:\n",
    "    line=input(message)\n",
    "    nums=line.split()\n",
    "    p=Point(float(nums[0]),float(nums[1]),float(nums[2]))\n",
    "    points.append(p)\n",
    "\n",
    "if points[0].isTriangle(points[1],points[2]):\n",
    "    triangle=Triangle(points[0],points[1],points[2])\n",
    "    print(\"三角形的周长是\",triangle.perimeter())\n",
    "    print(\"三角形的面积是\",triangle.area())\n",
    "else:\n",
    "    print(\"无法构成三角形\")"
   ]
  },
  {
   "cell_type": "code",
   "execution_count": 32,
   "metadata": {},
   "outputs": [],
   "source": [
    "def ui(inputUI, outputUI):\n",
    "    points=inputUI.getPoints()\n",
    "    if points[0].isTriangle(points[1],points[2]):\n",
    "        triangle=Triangle(points[0],points[1],points[2])\n",
    "        outputUI.success(perimeter=triangle.perimeter(),area=triangle.area())\n",
    "    else:\n",
    "        outputUI.fail()"
   ]
  },
  {
   "cell_type": "code",
   "execution_count": 33,
   "metadata": {},
   "outputs": [],
   "source": [
    "class InputUIVersion1():\n",
    "    def __init__(self):\n",
    "        self.messages=[\"输入A点坐标：\",\"输入B点坐标：\",\"输入C点坐标：\"]\n",
    "    def getPoints(self):\n",
    "        points=[]\n",
    "        for message in self.messages:\n",
    "            line=input(message)\n",
    "            nums=line.split()\n",
    "            p=Point(float(nums[0]),float(nums[1]),float(nums[2]))\n",
    "            points.append(p)\n",
    "        return points\n",
    "class OutputUIVersion1():\n",
    "    def success(self,perimeter,area):\n",
    "        print(\"三角形的周长是\",perimeter)\n",
    "        print(\"三角形的面积是\",area)\n",
    "    def fail(self):\n",
    "        print(\"无法构成三角形\")"
   ]
  },
  {
   "cell_type": "code",
   "execution_count": 35,
   "metadata": {},
   "outputs": [
    {
     "name": "stdout",
     "output_type": "stream",
     "text": [
      "输入A点坐标：1 0 0\n",
      "输入B点坐标：0 0 0\n",
      "输入C点坐标：0 1 0\n",
      "三角形的周长是 3.414213562373095\n",
      "三角形的面积是 0.49999999999999983\n"
     ]
    }
   ],
   "source": [
    "ui(InputUIVersion1(),OutputUIVersion1())"
   ]
  },
  {
   "cell_type": "code",
   "execution_count": 36,
   "metadata": {},
   "outputs": [],
   "source": [
    "class InputUIVersion2():\n",
    "    def __init__(self):\n",
    "        self.pointNames=[\"A\",\"B\",\"C\"]\n",
    "        self.messages=[\"输入{0}点x坐标：\",\"输入{0}点y坐标：\",\"输入{0}点z坐标：\"]\n",
    "    def getPoints(self):\n",
    "        points=[]\n",
    "        for pointName in self.pointNames:\n",
    "            nums=[]\n",
    "            for message in self.messages:\n",
    "                num=float(input(message.format(pointName)))\n",
    "                nums.append(num)\n",
    "            p=Point(float(nums[0]),float(nums[1]),float(nums[2]))\n",
    "            points.append(p)\n",
    "        return points\n",
    "class OutputUIVersion2():\n",
    "    def success(self,perimeter,area):\n",
    "        print(\"perimeter of triangle is \",perimeter)\n",
    "        print(\"area of triangle is \",area)\n",
    "    def fail(self):\n",
    "        print(\"产品是傻X！\")"
   ]
  },
  {
   "cell_type": "code",
   "execution_count": 37,
   "metadata": {},
   "outputs": [
    {
     "name": "stdout",
     "output_type": "stream",
     "text": [
      "输入A点x坐标：0\n",
      "输入A点y坐标：0\n",
      "输入A点z坐标：0\n",
      "输入B点x坐标：1\n",
      "输入B点y坐标：0\n",
      "输入B点z坐标：0\n",
      "输入C点x坐标：0\n",
      "输入C点y坐标：1\n",
      "输入C点z坐标：0\n",
      "perimeter of triangle is  3.414213562373095\n",
      "area of triangle is  0.49999999999999983\n"
     ]
    }
   ],
   "source": [
    "ui(InputUIVersion2(),OutputUIVersion2())"
   ]
  },
  {
   "cell_type": "code",
   "execution_count": 39,
   "metadata": {},
   "outputs": [
    {
     "name": "stdout",
     "output_type": "stream",
     "text": [
      "输入A点坐标：1 0 0\n",
      "输入B点坐标：1 0 0\n",
      "输入C点坐标：1 0 0\n",
      "产品是傻X！\n"
     ]
    }
   ],
   "source": [
    "ui(InputUIVersion1(),OutputUIVersion2())"
   ]
  },
  {
   "cell_type": "code",
   "execution_count": 38,
   "metadata": {},
   "outputs": [
    {
     "data": {
      "text/plain": [
       "'format函数的用法1,2'"
      ]
     },
     "execution_count": 38,
     "metadata": {},
     "output_type": "execute_result"
    }
   ],
   "source": [
    "\"format函数的用法{0},{1}\".format(1,2)"
   ]
  },
  {
   "cell_type": "code",
   "execution_count": 22,
   "metadata": {},
   "outputs": [
    {
     "name": "stdout",
     "output_type": "stream",
     "text": [
      "Help on built-in function format:\n",
      "\n",
      "format(...) method of builtins.str instance\n",
      "    S.format(*args, **kwargs) -> str\n",
      "    \n",
      "    Return a formatted version of S, using substitutions from args and kwargs.\n",
      "    The substitutions are identified by braces ('{' and '}').\n",
      "\n"
     ]
    }
   ],
   "source": [
    "help(\"\".format)"
   ]
  },
  {
   "cell_type": "code",
   "execution_count": null,
   "metadata": {},
   "outputs": [],
   "source": []
  }
 ],
 "metadata": {
  "kernelspec": {
   "display_name": "Python 3",
   "language": "python",
   "name": "python3"
  },
  "language_info": {
   "codemirror_mode": {
    "name": "ipython",
    "version": 3
   },
   "file_extension": ".py",
   "mimetype": "text/x-python",
   "name": "python",
   "nbconvert_exporter": "python",
   "pygments_lexer": "ipython3",
   "version": "3.6.5"
  }
 },
 "nbformat": 4,
 "nbformat_minor": 2
}
