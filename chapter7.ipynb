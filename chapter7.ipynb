{
 "cells": [
  {
   "cell_type": "markdown",
   "metadata": {},
   "source": [
    "# 第 7 章 用户输入和while 循环\n",
    "\n",
    "\n",
    "大多数程序都旨在解决最终用户的问题，为此通常需要从用户那里获取一些信息。例如，假设有人要判断自己是否到了投票的年龄，要编写回答这个问题的程序，就 需要知道用户的年龄，这样才能给出答案。因此，这种程序需要让用户输入 其年龄，再将其与投票年龄进行比较，以判断用户是否到了投票的年龄，再给出结果。\n",
    "\n",
    "在本章中，你将学习如何接受用户输入，让程序能够对其进行处理。在程序需要一个名字时，你需要提示用户输入该名字;程序需要一个名单时，你需要提示用户输 入一系列名字。为此，你需要使用函数input() 。\n",
    "\n",
    "你还将学习如何让程序不断地运行，让用户能够根据需要输入信息，并在程序中使用这些信息。为此，你需要使用while 循环让程序不断地运行，直到指定的条件不 满足为止。\n",
    "\n",
    "通过获取用户输入并学会控制程序的运行时间，可编写出交互式程序。\n",
    "\n",
    "## 7.1 函数input() 的工作原理\n",
    "\n",
    "函数input() 让程序暂停运行，等待用户输入一些文本。获取用户输入后，Python将其存储在一个变量中，以方便你使用。 \n",
    "\n",
    "例如，下面的程序让用户输入一些文本，再将这些文本呈现给用户:\n",
    "\n",
    "**parrot.py**"
   ]
  },
  {
   "cell_type": "code",
   "execution_count": null,
   "metadata": {},
   "outputs": [],
   "source": [
    "message = input(\"Tell me something, and I will repeat it back to you: \") \n",
    "print(message)"
   ]
  },
  {
   "cell_type": "markdown",
   "metadata": {},
   "source": [
    "函数input() 接受一个参数:即要向用户显示的提示 或说明，让用户知道该如何做。在这个示例中，Python运行第1行代码时，用户将看到提示Tell me something, and I will repeat it back to you:。程序等待用户输入，并在用户按回车键后继续运行。输入存储在变量message中，接下来的print(message)将输入呈现给用户。\n"
   ]
  },
  {
   "cell_type": "markdown",
   "metadata": {},
   "source": [
    "   **注意**  Sublime Text不能运行提示用户输入的程序。你可以使用Sublime Text来编写提示用户输入的程序，但必须从终端运行它们。详情请参阅1.4节。\n",
    "   \n",
    "### 7.1.1 编写清晰的程序\n",
    "\n",
    "每当你使用函数input() 时，都应指定清晰而易于明白的提示，准确地指出你希望用户提供什么样的信息——指出用户该输入任何信息的提示都行，如下所示: \n",
    "\n",
    "**greeter.py**"
   ]
  },
  {
   "cell_type": "code",
   "execution_count": null,
   "metadata": {},
   "outputs": [],
   "source": [
    "name = input(\"Please enter your name: \") \n",
    "print(\"Hello, \" + name + \"!\")"
   ]
  },
  {
   "cell_type": "markdown",
   "metadata": {},
   "source": [
    "通过在提示末尾(这里是冒号后面)包含一个空格，可将提示与用户输入分开，让用户清楚地知道其输入始于何处，如下所示。"
   ]
  },
  {
   "cell_type": "markdown",
   "metadata": {},
   "source": [
    "有时候，提示可能超过一行，例如，你可能需要指出获取特定输入的原因。在这种情况下，可将提示存储在一个变量中，再将该变量传递给函数input() 。这样，即便提示超过 一行，input() 语句也非常清晰。\n",
    "\n",
    "**greeter.py**"
   ]
  },
  {
   "cell_type": "code",
   "execution_count": 2,
   "metadata": {},
   "outputs": [
    {
     "name": "stdout",
     "output_type": "stream",
     "text": [
      "If you tell us who you are, we can personalize the messages you see.\n",
      "What is your first name? hhhhh\n",
      "\n",
      "Hello, hhhhh!\n"
     ]
    }
   ],
   "source": [
    "prompt = \"If you tell us who you are, we can personalize the messages you see.\" \n",
    "prompt += \"\\nWhat is your first name? \"\n",
    "\n",
    "name = input(prompt) \n",
    "print(\"\\nHello, \" + name + \"!\")"
   ]
  },
  {
   "cell_type": "markdown",
   "metadata": {},
   "source": [
    "这个示例演示了一种创建多行字符串的方式。第1行将消息的前半部分存储在变量prompt 中;在第2行中，运算符+= 在存储在prompt 中的字符串末尾附加一个字符串。 最终的提示横跨两行，并在问号后面包含一个空格，这也是出于清晰考虑。\n"
   ]
  },
  {
   "cell_type": "markdown",
   "metadata": {},
   "source": [
    "### 7.1.2 使用int() 来获取数值输入\n",
    "\n",
    "使用函数input() 时，Python将用户输入解读为字符串。请看下面让用户输入其年龄的解释器会话:\n"
   ]
  },
  {
   "cell_type": "code",
   "execution_count": 4,
   "metadata": {},
   "outputs": [
    {
     "name": "stdout",
     "output_type": "stream",
     "text": [
      "How old are you? 21\n"
     ]
    },
    {
     "data": {
      "text/plain": [
       "'21'"
      ]
     },
     "execution_count": 4,
     "metadata": {},
     "output_type": "execute_result"
    }
   ],
   "source": [
    "age = input(\"How old are you? \") \n",
    "age"
   ]
  },
  {
   "cell_type": "markdown",
   "metadata": {},
   "source": [
    "用户输入的是数字21，但我们请求Python提供变量age 的值时，它返回的是'21' ——用户输入的数值的字符串表示。我们怎么知道Python将输入解读成了字符串呢?因为这个数 字用引号括起了。如果我们只想打印输入，这一点问题都没有;但如果你试图将输入作为数字使用，就会引发错误:"
   ]
  },
  {
   "cell_type": "code",
   "execution_count": 5,
   "metadata": {},
   "outputs": [
    {
     "name": "stdout",
     "output_type": "stream",
     "text": [
      "How old are you? 21\n"
     ]
    },
    {
     "ename": "TypeError",
     "evalue": "'>=' not supported between instances of 'str' and 'int'",
     "output_type": "error",
     "traceback": [
      "\u001b[0;31m---------------------------------------------------------------------------\u001b[0m",
      "\u001b[0;31mTypeError\u001b[0m                                 Traceback (most recent call last)",
      "\u001b[0;32m<ipython-input-5-182b4b0ac858>\u001b[0m in \u001b[0;36m<module>\u001b[0;34m()\u001b[0m\n\u001b[1;32m      1\u001b[0m \u001b[0mage\u001b[0m \u001b[0;34m=\u001b[0m \u001b[0minput\u001b[0m\u001b[0;34m(\u001b[0m\u001b[0;34m\"How old are you? \"\u001b[0m\u001b[0;34m)\u001b[0m\u001b[0;34m\u001b[0m\u001b[0m\n\u001b[0;32m----> 2\u001b[0;31m \u001b[0mage\u001b[0m \u001b[0;34m>=\u001b[0m\u001b[0;36m18\u001b[0m \u001b[0;31m#❶\u001b[0m\u001b[0;34m\u001b[0m\u001b[0m\n\u001b[0m",
      "\u001b[0;31mTypeError\u001b[0m: '>=' not supported between instances of 'str' and 'int'"
     ]
    }
   ],
   "source": [
    "age = input(\"How old are you? \")\n",
    "age >=18 #❶"
   ]
  },
  {
   "cell_type": "markdown",
   "metadata": {},
   "source": [
    "你试图将输入用于数值比较时(见❶)，Python会引发错误，因为它无法将字符串和整数进行比较:不能将存储在age 中的字符串'21' 与数值18 进行比较(见❷)。\n",
    "\n",
    "为解决这个问题，可使用函数int() ，它让Python将输入视为数值。函数int() 将数字的字符串表示转换为数值表示，如上所示。"
   ]
  },
  {
   "cell_type": "markdown",
   "metadata": {},
   "source": [
    "在这个示例中，我们在提示时输入21 后，Python将这个数字解读为字符串，但随后int() 将这个字符串转换成了数值表示(见❶)。这样Python就能运行条件测试了:将变 量age (它现在包含数值21)同18 进行比较，看它是否大于或等于18。测试结果为True 。\n",
    "\n",
    "如何在实际程序中使用函数int() 呢?请看下面的程序，它判断一个人是否满足坐过山车的身高要求: \n",
    "\n",
    "**rollercoaster.py**\n"
   ]
  },
  {
   "cell_type": "code",
   "execution_count": 6,
   "metadata": {},
   "outputs": [
    {
     "name": "stdout",
     "output_type": "stream",
     "text": [
      "How tall are you, in inches? 71\n",
      "\n",
      "You're tall enough to ride!\n"
     ]
    }
   ],
   "source": [
    "height = input(\"How tall are you, in inches? \") \n",
    "height = int(height)\n",
    "\n",
    "if height >= 36:\n",
    "    print(\"\\nYou're tall enough to ride!\")\n",
    "else:\n",
    "    print(\"\\nYou'll be able to ride when you're a little older.\")"
   ]
  },
  {
   "cell_type": "markdown",
   "metadata": {},
   "source": [
    "在这个程序中，为何可以将height同36进行比较呢?因为在比较前，height = int(height)将输入转换成了数值表示。如果输入的数字大于或等于36，我们就告诉用户 他满足身高条件。\n"
   ]
  },
  {
   "cell_type": "markdown",
   "metadata": {},
   "source": [
    "将数值输入用于计算和比较前，务必将其转换为数值表示。"
   ]
  },
  {
   "cell_type": "markdown",
   "metadata": {},
   "source": [
    "### 7.1.3 求模运算符\n",
    "\n",
    "处理数值信息时，**求模运算符**(%)是一个很有用的工具，它将两个数相除并返回余数:"
   ]
  },
  {
   "cell_type": "code",
   "execution_count": 1,
   "metadata": {},
   "outputs": [
    {
     "data": {
      "text/plain": [
       "1"
      ]
     },
     "execution_count": 1,
     "metadata": {},
     "output_type": "execute_result"
    }
   ],
   "source": [
    "4 % 3 "
   ]
  },
  {
   "cell_type": "code",
   "execution_count": 2,
   "metadata": {},
   "outputs": [
    {
     "data": {
      "text/plain": [
       "2"
      ]
     },
     "execution_count": 2,
     "metadata": {},
     "output_type": "execute_result"
    }
   ],
   "source": [
    "5 % 3"
   ]
  },
  {
   "cell_type": "code",
   "execution_count": 3,
   "metadata": {},
   "outputs": [
    {
     "data": {
      "text/plain": [
       "0"
      ]
     },
     "execution_count": 3,
     "metadata": {},
     "output_type": "execute_result"
    }
   ],
   "source": [
    "6 % 3"
   ]
  },
  {
   "cell_type": "code",
   "execution_count": 4,
   "metadata": {},
   "outputs": [
    {
     "data": {
      "text/plain": [
       "1"
      ]
     },
     "execution_count": 4,
     "metadata": {},
     "output_type": "execute_result"
    }
   ],
   "source": [
    "7 % 3"
   ]
  },
  {
   "cell_type": "markdown",
   "metadata": {},
   "source": [
    "求模运算符不会指出一个数是另一个数的多少倍，而只指出余数是多少。 \n",
    "\n",
    "如果一个数可被另一个数整除，余数就为0，因此求模运算符将返回0。你可利用这一点来判断一个数是奇数还是偶数: \n",
    "\n",
    "**even_or_odd.py**"
   ]
  },
  {
   "cell_type": "code",
   "execution_count": 8,
   "metadata": {},
   "outputs": [
    {
     "name": "stdout",
     "output_type": "stream",
     "text": [
      "Enter a number, and I'll tell you if it's even or odd: 42\n",
      "\n",
      "The number 42 is even.\n"
     ]
    }
   ],
   "source": [
    "number = input(\"Enter a number, and I'll tell you if it's even or odd: \") \n",
    "number = int(number)\n",
    "\n",
    "if number % 2 == 0:\n",
    "    print(\"\\nThe number \" + str(number) + \" is even.\")\n",
    "else:\n",
    "    print(\"\\nThe number \" + str(number) + \" is odd.\")"
   ]
  },
  {
   "cell_type": "markdown",
   "metadata": {},
   "source": [
    "偶数都能被2整除，因此对一个数(number)和2执行求模运算的结果为零，即number % 2 == 0，那么这个数就是偶数;否则就是奇数。"
   ]
  },
  {
   "cell_type": "markdown",
   "metadata": {},
   "source": [
    "### 7.1.4 在Python 2.7中获取输入\n",
    "\n",
    "如果你使用的是Python 2.7，应使用函数raw_input() 来提示用户输入。这个函数与Python 3中的input() 一样，也将输入解读为字符串。\n",
    "\n",
    "Python 2.7也包含函数input() ，但它将用户输入解读为Python代码，并尝试运行它们。因此，最好的结果是出现错误，指出Python不明白输入的代码;而最糟的结果是，将运行 你原本无意运行的代码。如果你使用的是Python 2.7，请使用raw_input() 而不是input() 来获取输入。\n",
    "\n",
    "   **动手试一试**\n",
    "\n",
    "   **7-1 汽车租赁 :** 编写一个程序，询问用户要租赁什么样的汽车，并打印一条消息，如“Let me see if I can find you a Subaru”。\n",
    "\n",
    "   **7-2 餐馆订位 :** 编写一个程序，询问用户有多少人用餐。如果超过8人，就打印一条消息，指出没有空桌;否则指出有空桌。 \n",
    "   \n",
    "   **7-3 10的整数倍 :** 让用户输入一个数字，并指出这个数字是否是10的整数倍。\n",
    "\n",
    "## 7.2 while 循环简介\n",
    "\n",
    "for 循环用于针对集合中的每个元素都一个代码块，而while 循环不断地运行，直到指定的条件不满足为止。 \n",
    "\n",
    "### 7.2.1 使用while 循环\n",
    "\n",
    "你可以使用while 循环来数数，例如，下面的while 循环从1数到5:\n",
    "\n",
    "**counting.py**"
   ]
  },
  {
   "cell_type": "code",
   "execution_count": 5,
   "metadata": {},
   "outputs": [
    {
     "name": "stdout",
     "output_type": "stream",
     "text": [
      "1\n",
      "2\n",
      "3\n",
      "4\n",
      "5\n"
     ]
    }
   ],
   "source": [
    "current_number = 1\n",
    "while current_number <= 5:\n",
    "    print(current_number) \n",
    "    current_number += 1"
   ]
  },
  {
   "cell_type": "markdown",
   "metadata": {},
   "source": [
    "在第1行，我们将current_number 设置为1，从而指定从1开始数。接下来的while 循环被设置成这样:只要current_number 小于或等于5，就接着运行这个循环。循环中 的代码打印current_number的值，再使用代码current_number += 1(代码current_number = current_number + 1的简写)将其值加1。\n",
    "\n",
    "只要满足条件current_number <= 5，Python就接着运行这个循环。由于1小于5，因此Python打印1，并将current_number加1，使其为2;由于2小于5，因此Python打 印2 ，并将current_number 加1 ，使其为3 ，以此类推。一旦current_number 大于5，循环将停止，整个程序也将到此结束。"
   ]
  },
  {
   "cell_type": "markdown",
   "metadata": {},
   "source": [
    "你每天使用的程序很可能就包含while 循环。例如，游戏使用while 循环，确保在玩家想玩时不断运行，并在玩家想退出时停止运行。如果程序在用户没有让它停止时停止运 行，或者在用户要退出时还继续运行，那就太没有意思了;有鉴于此，while 循环很有用。\n",
    "\n",
    "### 7.2.2 让用户选择何时退出\n",
    "\n",
    "可使用while 循环让程序在用户愿意时不断地运行，如下面的程序parrot.py所示。我们在其中定义了一个退出值，只要用户输入的不是这个值，程序就接着运行: \n",
    "\n",
    "**parrot.py**"
   ]
  },
  {
   "cell_type": "code",
   "execution_count": 3,
   "metadata": {},
   "outputs": [
    {
     "name": "stdout",
     "output_type": "stream",
     "text": [
      "\n",
      "Tell me something, and I will repeat it back to you:\n",
      "Enter 'quit' to end the program. fdsfd\n",
      "fdsfd\n",
      "\n",
      "Tell me something, and I will repeat it back to you:\n",
      "Enter 'quit' to end the program. dfsdfs\n",
      "dfsdfs\n",
      "\n",
      "Tell me something, and I will repeat it back to you:\n",
      "Enter 'quit' to end the program. sdfdsfsdf\n",
      "sdfdsfsdf\n",
      "\n",
      "Tell me something, and I will repeat it back to you:\n",
      "Enter 'quit' to end the program. sfdsfsd\n",
      "sfdsfsd\n",
      "\n",
      "Tell me something, and I will repeat it back to you:\n",
      "Enter 'quit' to end the program. sdfsdfsdf\n",
      "sdfsdfsdf\n",
      "\n",
      "Tell me something, and I will repeat it back to you:\n",
      "Enter 'quit' to end the program. sdfdsfsd\n",
      "sdfdsfsd\n",
      "\n",
      "Tell me something, and I will repeat it back to you:\n",
      "Enter 'quit' to end the program. quit\n",
      "quit\n"
     ]
    }
   ],
   "source": [
    "prompt = \"\\nTell me something, and I will repeat it back to you:\" \n",
    "prompt += \"\\nEnter 'quit' to end the program. \"#❶ \n",
    "message = \"\"#❷ \n",
    "while message != 'quit':#❸ \n",
    "    message = input(prompt) \n",
    "    print(message)"
   ]
  },
  {
   "cell_type": "code",
   "execution_count": 5,
   "metadata": {},
   "outputs": [
    {
     "name": "stdout",
     "output_type": "stream",
     "text": [
      "\n",
      "Tell me something, and I will repeat it back to you:\n",
      "Enter 'quit' to end the program. ddfds\n",
      "ddfds\n",
      "\n",
      "Tell me something, and I will repeat it back to you:\n",
      "Enter 'quit' to end the program. dfsdf\n",
      "dfsdf\n",
      "\n",
      "Tell me something, and I will repeat it back to you:\n",
      "Enter 'quit' to end the program. sdfadf\n",
      "sdfadf\n",
      "\n",
      "Tell me something, and I will repeat it back to you:\n",
      "Enter 'quit' to end the program. quit\n"
     ]
    }
   ],
   "source": [
    "prompt = \"\\nTell me something, and I will repeat it back to you:\" \n",
    "prompt += \"\\nEnter 'quit' to end the program. \"#❶ \n",
    "message = \"\"#❷ \n",
    "for i in range(1000000):\n",
    "    message = input(prompt) \n",
    "    if message == 'quit':\n",
    "        break\n",
    "    print(message)"
   ]
  },
  {
   "cell_type": "markdown",
   "metadata": {},
   "source": [
    "在❶处，我们定义了一条提示消息，告诉用户他有两个选择:要么输入一条消息，要么输入退出值(这里为'quit' )。接下来，我们创建了一个变量——message (见❷)， 用于存储用户输入的值。我们将变量message 的初始值设置为空字符串\"\" ，让Python首次执行while 代码行时有可供检查的东西。Python首次执行while 语句时，需要 将message 的值与'quit' 进行比较，但此时用户还没有输入。如果没有可供比较的东西，Python将无法继续运行程序。为解决这个问题，我们必须给变量message 指定一个 初始值。虽然这个初始值只是一个空字符串，但符合要求，让Python能够执行while 循环所需的比较。只要message 的值不是'quit' ，这个循环(见❸)就会不断运行。\n",
    "    \n",
    "首次遇到这个循环时，message是一个空字符串，因此Python进入这个循环。执行到代码行message = input(prompt)时，Python显示提示消息，并等待用户输入。不管用 户输入是什么，都将存储到变量message 中并打印出来;接下来，Python重新检查while 语句中的条件。只要用户输入的不是单词'quit' ，Python就会再次显示提示消息并等 待用户输入。等到用户终于输入'quit' 后，Python停止执行while 循环，而整个程序也到此结束。\n"
   ]
  },
  {
   "cell_type": "markdown",
   "metadata": {},
   "source": [
    "这个程序很好，唯一美中不足的是，它将单词'quit' 也作为一条消息打印了出来。为修复这种问题，只需使用一个简单的if 测试:"
   ]
  },
  {
   "cell_type": "code",
   "execution_count": 13,
   "metadata": {},
   "outputs": [
    {
     "name": "stdout",
     "output_type": "stream",
     "text": [
      "\n",
      "Tell me something, and I will repeat it back to you:\n",
      "Enter 'quit' to end the program. Hello everyone!\n",
      "Hello everyone!\n",
      "\n",
      "Tell me something, and I will repeat it back to you:\n",
      "Enter 'quit' to end the program. Hello again.\n",
      "Hello again.\n",
      "\n",
      "Tell me something, and I will repeat it back to you:\n",
      "Enter 'quit' to end the program. quit\n"
     ]
    }
   ],
   "source": [
    "prompt = \"\\nTell me something, and I will repeat it back to you:\" \n",
    "prompt += \"\\nEnter 'quit' to end the program. \"\n",
    "\n",
    "message = \"\"\n",
    "while message != 'quit':\n",
    "    message = input(prompt)\n",
    "\n",
    "    if message != 'quit': \n",
    "        print(message)"
   ]
  },
  {
   "cell_type": "markdown",
   "metadata": {},
   "source": [
    "现在，程序在显示消息前将做简单的检查，仅在消息不是退出值时才打印它。"
   ]
  },
  {
   "cell_type": "markdown",
   "metadata": {},
   "source": [
    "### 7.2.3 使用标志 \n",
    "\n",
    "在前一个示例中，我们让程序在满足指定条件时就执行特定的任务。但在更复杂的程序中，很多不同的事件都会导致程序停止运行;在这种情况下，该怎么办呢?\n",
    "\n",
    "例如，在游戏中，多种事件都可能导致游戏结束，如玩家一艘飞船都没有了或要保护的城市都被摧毁了。导致程序结束的事件有很多时，如果在一条while 语句中检查所有这些 条件，将既复杂又困难。\n",
    "\n",
    "在要求很多条件都满足才继续运行的程序中，可定义一个变量，用于判断整个程序是否处于活动状态。这个变量被称为标志 ，充当了程序的交通信号灯。你可让程序在标志 为True 时继续运行，并在任何事件导致标志的值为False 时让程序停止运行。这样，在while 语句中就只需检查一个条件——标志的当前值是否为True ，并将所有测试(是 否发生了应将标志设置为False 的事件)都放在其他地方，从而让程序变得更为整洁。\n",
    "\n",
    "下面来在前一节的程序parrot.py中添加一个标志。我们把这个标志命名为active (可给它指定任何名称)，它将用于判断程序是否应继续运行:"
   ]
  },
  {
   "cell_type": "code",
   "execution_count": null,
   "metadata": {},
   "outputs": [],
   "source": [
    "prompt = \"\\nTell me something, and I will repeat it back to you:\" \n",
    "prompt += \"\\nEnter 'quit' to end the program. \"\n",
    "\n",
    "active = True#❶ \n",
    "while active:#❷ \n",
    "    message = input(prompt)\n",
    "\n",
    "    if message == 'quit':#❸  \n",
    "        active = False\n",
    "    else:#❹ \n",
    "        print(message) "
   ]
  },
  {
   "cell_type": "code",
   "execution_count": null,
   "metadata": {},
   "outputs": [],
   "source": [
    "prompt = \"\\nTell me something, and I will repeat it back to you:\" \n",
    "prompt += \"\\nEnter 'quit' to end the program. \"\n",
    "\n",
    "while True:\n",
    "    message = input(prompt)\n",
    "    if message == 'quit': \n",
    "        break\n",
    "    else:#❹ \n",
    "        print(message) "
   ]
  },
  {
   "cell_type": "markdown",
   "metadata": {},
   "source": [
    "我们将变量active 设置成了True (见❶)，让程序最初处于活动状态。这样做简化了while 语句，因为不需要在其中做任何比较——相关的逻辑由程序的其他部分处理。只 要变量active 为True ，循环就将继续运行(见❷)。\n",
    "\n",
    "在while 循环中，我们在用户输入后使用一条if 语句来检查变量message 的值。如果用户输入的是'quit' (见❸)，我们就将变量active 设置为False ，这将导 致while 循环不再继续执行。如果用户输入的不是'quit' (见❹)，我们就将输入作为一条消息打印出来。\n",
    "\n",
    "这个程序的输出与前一个示例相同。在前一个示例中，我们将条件测试直接放在了while 语句中，而在这个程序中，我们使用了一个标志来指出程序是否处于活动状态，这样如 果要添加测试(如elif 语句)以检查是否发生了其他导致active 变为False 的事件，将很容易。在复杂的程序中，如很多事件都会导致程序停止运行的游戏中，标志很有 用:在其中的任何一个事件导致活动标志变成False 时，主游戏循环将退出，此时可显示一条游戏结束消息，并让用户选择是否要重新玩。\n",
    "\n",
    "### 7.2.4 使用break 退出循环\n",
    "\n",
    "要立即退出while 循环，不再运行循环中余下的代码，也不管条件测试的结果如何，可使用break 语句。break 语句用于控制程序流程，可使用它来控制哪些代码行将执行，哪些代码行不执行，从而让程序按你的要求执行你要执行的代码。 \n",
    "\n",
    "例如，来看一个让用户指出他到过哪些地方的程序。在这个程序中，我们可以在用户输入'quit' 后使用break 语句立即退出while 循环: \n",
    "\n",
    "**cities.py**\n"
   ]
  },
  {
   "cell_type": "code",
   "execution_count": 2,
   "metadata": {},
   "outputs": [
    {
     "name": "stdout",
     "output_type": "stream",
     "text": [
      "\n",
      "Please enter the name of a city you have visited:\n",
      "(Enter 'quit' when you are finished.) New York\n",
      "I'd love to go to New York!\n",
      "\n",
      "Please enter the name of a city you have visited:\n",
      "(Enter 'quit' when you are finished.) San Francisco\n",
      "I'd love to go to San Francisco!\n",
      "\n",
      "Please enter the name of a city you have visited:\n",
      "(Enter 'quit' when you are finished.) quit\n"
     ]
    }
   ],
   "source": [
    "prompt = \"\\nPlease enter the name of a city you have visited:\" \n",
    "prompt += \"\\n(Enter 'quit' when you are finished.) \"\n",
    "\n",
    "while True:#❶ \n",
    "    city = input(prompt)\n",
    "\n",
    "    if city == 'quit': \n",
    "        break\n",
    "    else:\n",
    "        print(\"I'd love to go to \" + city.title() + \"!\")"
   ]
  },
  {
   "cell_type": "markdown",
   "metadata": {},
   "source": [
    "以while True打头的循环(见❶)将不断运行，直到遇到break语句。这个程序中的循环不断输入用户到过的城市的名字，直到他输入'quit'为止。用户输入'quit' 后，将执行break 语句，导致Python退出循环。"
   ]
  },
  {
   "cell_type": "markdown",
   "metadata": {},
   "source": [
    "   **注意**  在任何Python循环中都可使用break 语句。例如，可使用break 语句来退出遍历列表或字典的for 循环。 \n",
    "   \n",
    "### 7.2.5 在循环中使用continue\n",
    "\n",
    "要返回到循环开头，并根据条件测试结果决定是否继续执行循环，可使用continue 语句，它不像break 语句那样不再执行余下的代码并退出整个循环。例如，来看一个从1数 到10，但只打印其中偶数的循环:\n",
    "\n",
    "**counting.py**"
   ]
  },
  {
   "cell_type": "code",
   "execution_count": 3,
   "metadata": {},
   "outputs": [
    {
     "name": "stdout",
     "output_type": "stream",
     "text": [
      "1\n",
      "3\n",
      "5\n",
      "7\n",
      "9\n"
     ]
    }
   ],
   "source": [
    "current_number = 0\n",
    "while current_number < 10:\n",
    "    current_number += 1#❶\n",
    "    if current_number % 2 == 0:\n",
    "        continue \n",
    "    print(current_number)"
   ]
  },
  {
   "cell_type": "markdown",
   "metadata": {},
   "source": [
    "我们首先将current_number 设置成了0，由于它小于10，Python进入while 循环。进入循环后，我们以步长1的方式往上数(见❶)，因此current_number 为1。接下 来，if 语句检查current_number 与2的求模运算结果。如果结果为0(意味着current_number 可被2整除)，就执行continue 语句，让Python忽略余下的代码，并返回 到循环的开头。如果当前的数字不能被2整除，就执行循环中余下的代码，Python将这个数字打印出来。"
   ]
  },
  {
   "cell_type": "markdown",
   "metadata": {},
   "source": [
    "### 7.2.6 避免无限循环\n",
    "\n",
    "每个while 循环都必须有停止运行的途径，这样才不会没完没了地执行下去。例如，下面的循环从1数到5: \n",
    "\n",
    "**counting.py**\n"
   ]
  },
  {
   "cell_type": "code",
   "execution_count": 1,
   "metadata": {},
   "outputs": [
    {
     "name": "stdout",
     "output_type": "stream",
     "text": [
      "1\n",
      "2\n",
      "3\n",
      "4\n",
      "5\n"
     ]
    }
   ],
   "source": [
    "x=1\n",
    "while x <= 5:\n",
    "    print(x) \n",
    "    x += 1"
   ]
  },
  {
   "cell_type": "markdown",
   "metadata": {},
   "source": [
    "但如果你像下面这样不小心遗漏了代码行x += 1，这个循环将没完没了地运行:"
   ]
  },
  {
   "cell_type": "code",
   "execution_count": null,
   "metadata": {},
   "outputs": [],
   "source": [
    "# 这个循环将没完没了地运行! \n",
    "x=1\n",
    "while x <= 5:\n",
    "    print(x)"
   ]
  },
  {
   "cell_type": "markdown",
   "metadata": {},
   "source": [
    "\n",
    "在这里，x的初始值为1，但根本不会变，因此条件测试x <= 5始终为True，导致while循环没完没了地打印1，如上所示。"
   ]
  },
  {
   "cell_type": "markdown",
   "metadata": {},
   "source": [
    "每个程序员都会偶尔因不小心而编写出无限循环，在循环的退出条件比较微妙时尤其如此。如果程序陷入无限循环，可按Ctrl + C，也可关闭显示程序输出的终端窗口。 \n",
    "\n",
    "要避免编写无限循环，务必对每个while 循环进行测试，确保它按预期那样结束。如果你希望程序在用户输入特定值时结束，可运行程序并输入这样的值;如果在这种情况下程序没有结束，请检查程序处理这个值的方式，确认程序至少有一个这样的地方能让循环条件为False 或让break 语句得以执行。\n",
    "\n",
    "   **注意**  有些编辑器(如Sublime Text)内嵌了输出窗口，这可能导致难以结束无限循环，因此不得不关闭编辑器来结束无限循环。\n",
    "   \n",
    "   \n",
    "   **动手试一试**\n",
    "    \n",
    "   **7-4 比萨配料 :** 编写一个循环，提示用户输入一系列的比萨配料，并在用户输入'quit' 时结束循环。每当用户输入一种配料后，都打印一条消息，说我们会在比萨 中添加这种配料。\n",
    "    \n",
    "   **7-5 电影票 :** 有家电影院根据观众的年龄收取不同的票价:不到3岁的观众免费;3~12岁的观众为10美元;超过12岁的观众为15美元。请编写一个循环，在其中询问用 户的年龄，并指出其票价。\n",
    "    \n",
    "   **7-6 三个出口 :** 以另一种方式完成练习7-4或练习7-5，在程序中采取如下所有做法。 \n",
    "       \n",
    "   - 在while 循环中使用条件测试来结束循环。\n",
    "\n",
    "   - 使用变量active 来控制循环结束的时机。\n",
    "    \n",
    "   - 使用break 语句在用户输入'quit' 时退出循环。\n",
    "    \n",
    "    \n",
    "   **7-7无限循环 :** 编写一个没完没了的循环，并运行它(要结束该循环，可按Ctrl+C，也可关闭显示输出的窗口)。\n",
    "\n",
    "## 7.3 使用while 循环来处理列表和字典\n",
    "\n",
    "到目前为止，我们每次都只处理了一项用户信息:获取用户的输入，再将输入打印出来或作出应答;循环再次运行时，我们获悉另一个输入值并作出响应。然而，要记录大量的 用户和信息，需要在while 循环中使用列表和字典。\n",
    "\n",
    "for 循环是一种遍历列表的有效方式，但在for 循环中不应修改列表，否则将导致Python难以跟踪其中的元素。要在遍历列表的同时对其进行修改，可使用while 循环。通过 将while 循环同列表和字典结合起来使用，可收集、存储并组织大量输入，供以后查看和显示。\n",
    "\n",
    "### 7.3.1 在列表之间移动元素 \n",
    "\n",
    "假设有一个列表，其中包含新注册但还未验证的网站用户;验证这些用户后，如何将他们移到另一个已验证用户列表中呢?一种办法是使用一个while 循环，在验证用户的同时将其从未验证用户列表中提取出来，再将其加入到另一个已验证用户列表中。代码可能类似于下面这样:\n",
    "\n",
    "**confirmed_users.py**"
   ]
  },
  {
   "cell_type": "code",
   "execution_count": 2,
   "metadata": {},
   "outputs": [
    {
     "name": "stdout",
     "output_type": "stream",
     "text": [
      "Verifying user: Candace\n",
      "Verifying user: Brian\n",
      "Verifying user: Alice\n",
      "\n",
      "The following users have been confirmed:\n",
      "Candace\n",
      "Brian\n",
      "Alice\n"
     ]
    }
   ],
   "source": [
    "# 首先，创建一个待验证用户列表\n",
    "# 和一个用于存储已验证用户的空列表\n",
    "unconfirmed_users = ['alice', 'brian', 'candace']#❶ \n",
    "confirmed_users = []\n",
    "\n",
    "# 验证每个用户，直到没有未验证用户为止\n",
    "# 将每个经过验证的列表都移到已验证用户列表中 \n",
    "while unconfirmed_users:#❷ \n",
    "    current_user = unconfirmed_users.pop()#❸\n",
    "\n",
    "    print(\"Verifying user: \" + current_user.title()) \n",
    "    confirmed_users.append(current_user)#❹\n",
    "\n",
    "    # 显示所有已验证的用户\n",
    "print(\"\\nThe following users have been confirmed:\") \n",
    "for confirmed_user in confirmed_users:\n",
    "    print(confirmed_user.title())"
   ]
  },
  {
   "cell_type": "markdown",
   "metadata": {},
   "source": [
    "我们首先创建了一个未验证用户列表(见❶)，其中包含用户Alice、Brian和Candace，还创建了一个空列表，用于存储已验证的用户。❷处的while 循环将不断地运行，直到列 表unconfirmed_users 变成空的。在这个循环中，❸处的函数pop() 以每次一个的方式从列表unconfirmed_users 末尾删除未验证的用户。由于Candace位于列 表unconfirmed_users 末尾，因此其名字将首先被删除、存储到变量current_user 中并加入到列表confirmed_users 中(见❹)。接下来是Brian，然后是Alice。\n",
    "\n",
    "为模拟用户验证过程，我们打印一条验证消息并将用户加入到已验证用户列表中。未验证用户列表越来越短，而已验证用户列表越来越长。未验证用户列表为空后结束循环，再打印已验证用户列表。"
   ]
  },
  {
   "cell_type": "markdown",
   "metadata": {},
   "source": [
    "### 7.3.2 删除包含特定值的所有列表元素\n",
    "\n",
    "在第3章中，我们使用函数remove() 来删除列表中的特定值，这之所以可行，是因为要删除的值在列表中只出现了一次。如果要删除列表中所有包含特定值的元素，该怎么办呢?\n",
    "\n",
    "假设你有一个宠物列表，其中包含多个值为'cat' 的元素。要删除所有这些元素，可不断运行一个while 循环，直到列表中不再包含值'cat' ，如下所示: \n",
    "\n",
    "**pets.py**"
   ]
  },
  {
   "cell_type": "code",
   "execution_count": 3,
   "metadata": {},
   "outputs": [
    {
     "name": "stdout",
     "output_type": "stream",
     "text": [
      "['dog', 'cat', 'dog', 'goldfish', 'cat', 'rabbit', 'cat']\n",
      "['dog', 'dog', 'goldfish', 'rabbit']\n"
     ]
    }
   ],
   "source": [
    "pets = ['dog', 'cat', 'dog', 'goldfish', 'cat', 'rabbit', 'cat'] \n",
    "print(pets)\n",
    "\n",
    "while 'cat' in pets: \n",
    "    pets.remove('cat')\n",
    "\n",
    "print(pets)"
   ]
  },
  {
   "cell_type": "markdown",
   "metadata": {},
   "source": [
    "我们首先创建了一个列表，其中包含多个值为'cat' 的元素。打印这个列表后，Python进入while 循环，因为它发现'cat' 在列表中至少出现了一次。进入这个循环后，Python 删除第一个'cat' 并返回到while 代码行，然后发现'cat' 还包含在列表中，因此再次进入循环。它不断删除'cat' ，直到这个值不再包含在列表中，然后退出循环并再次打印列表。"
   ]
  },
  {
   "cell_type": "markdown",
   "metadata": {},
   "source": [
    "### 7.3.3 使用用户输入来填充字典 \n",
    "\n",
    "可使用while循环提示用户输入任意数量的信息。下面来创建一个调查程序，其中的循环每次执行时都提示输入被调查者的名字和回答。我们将收集的数据存储在一个字典中，以便将回答同被调查者关联起来:\n",
    "\n",
    "**mountain_poll.py**"
   ]
  },
  {
   "cell_type": "code",
   "execution_count": 1,
   "metadata": {},
   "outputs": [
    {
     "name": "stdout",
     "output_type": "stream",
     "text": [
      "\n",
      "What is your name? Eric\n",
      "Which mountain would you like to climb someday? Denali\n",
      "Would you like to let another person respond? (yes/ no) yes\n",
      "\n",
      "--- Poll Results ---\n",
      "\n",
      "What is your name? Lynn\n",
      "Which mountain would you like to climb someday? Devil's Thumb\n",
      "Would you like to let another person respond? (yes/ no) no\n",
      "\n",
      "--- Poll Results ---\n",
      "Eric would like to climb Denali.\n",
      "Lynn would like to climb Devil's Thumb.\n"
     ]
    }
   ],
   "source": [
    "responses = {}\n",
    "\n",
    "# 设置一个标志，指出调查是否继续 \n",
    "polling_active = True\n",
    "\n",
    "while polling_active:\n",
    "    # 提示输入被调查者的名字和回答\n",
    "    name = input(\"\\nWhat is your name? \")#❶\n",
    "    response = input(\"Which mountain would you like to climb someday? \")\n",
    "   \n",
    "    # 将答卷存储在字典中 \n",
    "    responses[name] = response#❷\n",
    "\n",
    "    # 看看是否还有人要参与调查\n",
    "    repeat = input(\"Would you like to let another person respond? (yes/ no) \")#❸\n",
    "    if repeat == 'no': \n",
    "        polling_active = False\n",
    "\n",
    "        # 调查结束，显示结果\n",
    "    print(\"\\n--- Poll Results ---\")\n",
    "for name, response in responses.items():#❹ \n",
    "    print(name + \" would like to climb \" + response + \".\")"
   ]
  },
  {
   "cell_type": "markdown",
   "metadata": {},
   "source": [
    "这个程序首先定义了一个空字典(responses )，并设置了一个标志(polling_active )，用于指出调查是否继续。只要polling_active 为True ，Python就运 行while 循环中的代码。\n",
    "\n",
    "在这个循环中，提示用户输入其用户名及其喜欢爬哪座山(见❶)。将这些信息存储在字典responses 中(见❷)，然后询问用户调查是否继续(见❸)。如果用户输入yes ，程序将再次进入while 循环;如果用户输入no ，标志polling_active 将被设置为False ，而while 循环将就此结束。最后一个代码块(见❹)显示调查结果。\n",
    "\n",
    "如果你运行这个程序，并输入一些名字和回答，输出将类似于上面这样。\n"
   ]
  },
  {
   "cell_type": "markdown",
   "metadata": {},
   "source": [
    "   **动手试一试**\n",
    "    \n",
    "   **7-8 熟食店 :** 创建一个名为sandwich_orders 的列表，在其中包含各种三明治的名字;再创建一个名为finished_sandwiches 的空列表。遍历列 表sandwich_orders，对于其中的每种三明治，都打印一条消息，如I made your tuna sandwich，并将其移到列表finished_sandwiches。所有三明治都制作好后，打印一条消息，将这些三明治列出来。\n",
    "   \n",
    "   **7-9 五香烟熏牛肉(pastrami)卖完了 :** 使用为完成练习7-8而创建的列表sandwich_orders ，并确保'pastrami' 在其中至少出现了三次。在程序开头附近添加 这样的代码:打印一条消息，指出熟食店的五香烟熏牛肉卖完了;再使用一个while 循环将列表sandwich_orders 中的'pastrami' 都删除。确认最终的列 表finished_sandwiches 中不包含'pastrami' 。\n",
    "   \n",
    "   **7-10 梦想的度假胜地 :**编写一个程序，调查用户梦想的度假胜地。使用类似于“If you could visit one place in the world, where would you go?”的提示，并编写一个打印调查 结果的代码块。\n",
    "\n",
    "\n",
    "## 7.4 小结\n",
    "\n",
    "在本章中，你学习了:如何在程序中使用input() 来让用户提供信息;如何处理文本和数字输入，以及如何使用while 循环让程序按用户的要求不断地运行;多种控制while 循环流程的方式:设置活动标志、使用break 语句以及使用continue 语句;如何使用while 循环在列表之间移动元素，以及如何从列表中删除所有包含特定值的元素;如何 结合使用while 循环和字典。\n",
    "\n",
    "在第8章中，你将学习函数。函数让你能够将程序分成多个很小的部分，其中每部分都负责完成一项具体任务。你可以根据需要调用同一个函数任意次，还可将函数存储在独立的 文件中。使用函数可让你编写的代码效率更高，更容易维护和排除故障，还可在众多不同的程序中重用。\n"
   ]
  },
  {
   "cell_type": "code",
   "execution_count": null,
   "metadata": {},
   "outputs": [],
   "source": []
  }
 ],
 "metadata": {
  "kernelspec": {
   "display_name": "Python 3",
   "language": "python",
   "name": "python3"
  },
  "language_info": {
   "codemirror_mode": {
    "name": "ipython",
    "version": 3
   },
   "file_extension": ".py",
   "mimetype": "text/x-python",
   "name": "python",
   "nbconvert_exporter": "python",
   "pygments_lexer": "ipython3",
   "version": "3.6.5"
  }
 },
 "nbformat": 4,
 "nbformat_minor": 2
}
