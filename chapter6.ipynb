{
 "cells": [
  {
   "cell_type": "markdown",
   "metadata": {},
   "source": [
    "# 第 6 章 字典\n",
    "\n",
    "在本章中，你将学习能够将相关信息关联起来的Python字典。你将学习如何访问和修改字典中的信息。鉴于字典可存储的信息量几乎不受限制，因此我们会演示如何遍 历字典中的数据。另外，你还将学习存储字典的列表、存储列表的字典和存储字典的字典。\n",
    "\n",
    "理解字典后，你就能够更准确地为各种真实物体建模。你可以创建一个表示人的字典，然后想在其中存储多少信息就存储多少信息:姓名、年龄、地址、职业以及要 描述的任何方面。你还能够存储任意两种相关的信息，如一系列单词及其含义，一系列人名及其喜欢的数字，以及一系列山脉及其海拔等。\n",
    "\n",
    "## 6.1 一个简单的字典 \n",
    "\n",
    "来看一个游戏，其中包含一些外星人，这些外星人的颜色和点数各不相同。下面是一个简单的字典，存储了有关特定外星人的信息: \n",
    "\n",
    "**alien.py**"
   ]
  },
  {
   "cell_type": "code",
   "execution_count": 1,
   "metadata": {},
   "outputs": [
    {
     "name": "stdout",
     "output_type": "stream",
     "text": [
      "green\n",
      "5\n"
     ]
    }
   ],
   "source": [
    "alien_0 = {'color': 'green', 'points': 5}\n",
    "\n",
    "print(alien_0['color']) \n",
    "print(alien_0['points'])"
   ]
  },
  {
   "cell_type": "code",
   "execution_count": 1,
   "metadata": {},
   "outputs": [
    {
     "name": "stdout",
     "output_type": "stream",
     "text": [
      "hello\n",
      "world\n",
      "hahaha\n"
     ]
    }
   ],
   "source": [
    "d={1:\"hello\",2:\"world\",\"tree\":\"hahaha\"}\n",
    "print(d[1])\n",
    "print(d[2])\n",
    "print(d[\"tree\"])"
   ]
  },
  {
   "cell_type": "code",
   "execution_count": 3,
   "metadata": {},
   "outputs": [
    {
     "name": "stdout",
     "output_type": "stream",
     "text": [
      "hello\n",
      "world\n",
      "hahaha\n"
     ]
    }
   ],
   "source": [
    "l=(1,2,3)\n",
    "d={2:\"hello\",l:\"world\",\"tree\":\"hahaha\"}\n",
    "print(d[2])\n",
    "print(d[l])\n",
    "print(d[\"tree\"])"
   ]
  },
  {
   "cell_type": "markdown",
   "metadata": {},
   "source": [
    "字典alien_0 存储了外星人的颜色和点数。使用两条print 语句来访问并打印这些信息，如下所示。\n"
   ]
  },
  {
   "cell_type": "markdown",
   "metadata": {},
   "source": [
    "与大多数编程概念一样，要熟练使用字典，也需要一段时间的练习。使用字典一段时间后，你就会明白为何它们能够高效地模拟现实世界中的情形。 \n",
    "\n",
    "## 6.2 使用字典\n",
    "\n",
    "在Python中，**字典** 是一系列**键—值对** 。每个**键** 都与一个值相关联，你可以使用键来访问与之相关联的值。与键相关联的值可以是数字、字符串、列表乃至字典。事实上，可将 任何Python对象用作字典中的值。\n",
    "\n",
    "在Python中，字典用放在花括号{} 中的一系列键—值对表示，如前面的示例所示:\n"
   ]
  },
  {
   "cell_type": "code",
   "execution_count": 3,
   "metadata": {},
   "outputs": [],
   "source": [
    "  alien_0 = {'color': 'green', 'points': 5}"
   ]
  },
  {
   "cell_type": "markdown",
   "metadata": {},
   "source": [
    "**键—值** 对是两个相关联的值。指定键时，Python将返回与之相关联的值。键和值之间用冒号分隔，而键—值对之间用逗号分隔。在字典中，你想存储多少个键—值对都可以。 最简单的字典只有一个键—值对，如下述修改后的字典alien_0 所示:"
   ]
  },
  {
   "cell_type": "code",
   "execution_count": null,
   "metadata": {},
   "outputs": [],
   "source": [
    " alien_0 = {'color': 'green'}"
   ]
  },
  {
   "cell_type": "markdown",
   "metadata": {},
   "source": [
    "这个字典只存储了一项有关alien_0 的信息，具体地说是这个外星人的颜色。在这个字典中，字符串'color' 是一个键，与之相关联的值为'green' 。 \n",
    "\n",
    "### 6.2.1 访问字典中的值\n",
    "\n",
    "要获取与键相关联的值，可依次指定字典名和放在方括号内的键，如下所示:"
   ]
  },
  {
   "cell_type": "code",
   "execution_count": 4,
   "metadata": {},
   "outputs": [
    {
     "name": "stdout",
     "output_type": "stream",
     "text": [
      "green\n"
     ]
    }
   ],
   "source": [
    "alien_0 = {'color': 'green'} \n",
    "print(alien_0['color'])"
   ]
  },
  {
   "cell_type": "markdown",
   "metadata": {},
   "source": [
    "这将返回字典alien_0 中与键'color' 相关联的值。"
   ]
  },
  {
   "cell_type": "markdown",
   "metadata": {},
   "source": [
    "字典中可包含任意数量的键—值对。例如，下面是最初的字典alien_0 ，其中包含两个键—值对:"
   ]
  },
  {
   "cell_type": "code",
   "execution_count": 5,
   "metadata": {},
   "outputs": [],
   "source": [
    "  alien_0 = {'color': 'green', 'points': 5}"
   ]
  },
  {
   "cell_type": "markdown",
   "metadata": {},
   "source": [
    "现在，你可以访问外星人alien_0 的颜色和点数。如果玩家射杀了这个外星人，你就可以使用下面的代码来确定玩家应获得多少个点:"
   ]
  },
  {
   "cell_type": "code",
   "execution_count": 1,
   "metadata": {},
   "outputs": [
    {
     "name": "stdout",
     "output_type": "stream",
     "text": [
      "You just earned 5 points!\n"
     ]
    }
   ],
   "source": [
    "alien_0 = {'color': 'green', 'points': 5}\n",
    "\n",
    "new_points = alien_0['points']#❶\n",
    "print(\"You just earned \" + str(new_points) + \" points!\")#❷"
   ]
  },
  {
   "cell_type": "markdown",
   "metadata": {},
   "source": [
    "上述代码首先定义了一个字典，然后从这个字典中获取与键'points' 相关联的值(见❶)，并将这个值存储在变量new_points 中。接下来，将这个整数转换为字符串，并 打印一条消息，指出玩家获得了多少个点(见❷)。"
   ]
  },
  {
   "cell_type": "markdown",
   "metadata": {},
   "source": [
    "如果你在有外星人被射杀时都运行这段代码，就会获取该外星人的点数。 \n",
    "\n",
    "### 6.2.2 添加键—值对\n",
    "\n",
    "字典是一种动态结构，可随时在其中添加键—值对。要添加键—值对，可依次指定字典名、用方括号括起的键和相关联的值。\n",
    "\n",
    "下面在字典alien_0 中添加两项信息:外星人的 x 坐标和 y 坐标，让我们能够在屏幕的特定位置显示该外星人。我们将这个外星人放在屏幕左边缘，且离屏幕上边缘25像素的地 方。由于屏幕坐标系的原点通常为左上角，因此要将该外星人放在屏幕左边缘，可将 x 坐标设置为0;要将该外星人放在离屏幕顶部25像素的地方，可将 y 坐标设置为25，如下所示:"
   ]
  },
  {
   "cell_type": "code",
   "execution_count": 2,
   "metadata": {},
   "outputs": [
    {
     "name": "stdout",
     "output_type": "stream",
     "text": [
      "{'color': 'green', 'points': 5}\n",
      "{'color': 'green', 'points': 5, 'x_position': 0, 'y_position': 25}\n"
     ]
    }
   ],
   "source": [
    "alien_0 = {'color': 'green', 'points': 5} \n",
    "print(alien_0)\n",
    "\n",
    "alien_0['x_position'] = 0 #❶\n",
    "alien_0['y_position'] = 25 #❷\n",
    "print(alien_0)"
   ]
  },
  {
   "cell_type": "markdown",
   "metadata": {},
   "source": [
    "我们首先定义了前面一直在使用的字典，然后打印这个字典，以显示其信息快照。在❶处，我们在这个字典中新增了一个键—值对，其中的键为'x_position' ，而值为0 。在 ❷处，我们重复这样的操作，但使用的键为'y_position' 。打印修改后的字典时，将看到这两个新增的键—值对。"
   ]
  },
  {
   "cell_type": "markdown",
   "metadata": {},
   "source": [
    "这个字典的最终版本包含四个键—值对，其中原来的两个指定外星人的颜色和点数，而新增的两个指定位置。注意，键—值对的排列顺序与添加顺序不同。Python不关心键—值对 的添加顺序，而只关心键和值之间的关联关系。\n",
    "\n",
    "### 6.2.3 先创建一个空字典 \n",
    "\n",
    "有时候，在空字典中添加键—值对是为了方便，而有时候必须这样做。为此，可先使用一对空的花括号定义一个字典，再分行添加各个键—值对。例如，下例演示了如何以这种方式创建字典alien_0 :\n"
   ]
  },
  {
   "cell_type": "code",
   "execution_count": 8,
   "metadata": {},
   "outputs": [
    {
     "name": "stdout",
     "output_type": "stream",
     "text": [
      "{'color': 'green', 'points': 5}\n"
     ]
    }
   ],
   "source": [
    "alien_0 = {}\n",
    "\n",
    "alien_0['color'] = 'green' \n",
    "alien_0['points'] = 5\n",
    "\n",
    "print(alien_0)"
   ]
  },
  {
   "cell_type": "markdown",
   "metadata": {},
   "source": [
    "这里首先定义了空字典alien_0 ，再在其中添加颜色和点数，得到前述示例一直在使用的字典。"
   ]
  },
  {
   "cell_type": "markdown",
   "metadata": {},
   "source": [
    "使用字典来存储用户提供的数据或在编写能自动生成大量键—值对的代码时，通常都需要先定义一个空字典。\n",
    "\n",
    "### 6.2.4 修改字典中的值 \n",
    "\n",
    "要修改字典中的值，可依次指定字典名、用方括号括起的键以及与该键相关联的新值。例如，假设随着游戏的进行，需要将一个外星人从绿色改为黄色:"
   ]
  },
  {
   "cell_type": "code",
   "execution_count": 9,
   "metadata": {},
   "outputs": [
    {
     "name": "stdout",
     "output_type": "stream",
     "text": [
      "The alien is green.\n",
      "The alien is now yellow.\n"
     ]
    }
   ],
   "source": [
    "alien_0 = {'color': 'green'}\n",
    "print(\"The alien is \" + alien_0['color'] + \".\")\n",
    "\n",
    "alien_0['color'] = 'yellow'\n",
    "print(\"The alien is now \" + alien_0['color'] + \".\")"
   ]
  },
  {
   "cell_type": "markdown",
   "metadata": {},
   "source": [
    "我们首先定义了一个表示外星人alien_0 的字典，其中只包含这个外星人的颜色。接下来，我们将与键'color' 相关联的值改为'yellow' 。输出表明，这个外星人确实从绿 色变成了黄色.\n"
   ]
  },
  {
   "cell_type": "markdown",
   "metadata": {},
   "source": [
    "来看一个更有趣的例子:对一个能够以不同速度移动的外星人的位置进行跟踪。为此，我们将存储该外星人的当前速度，并据此确定该外星人将向右移动多远:\n"
   ]
  },
  {
   "cell_type": "code",
   "execution_count": 3,
   "metadata": {},
   "outputs": [
    {
     "name": "stdout",
     "output_type": "stream",
     "text": [
      "Original x-position: 0\n",
      "New x-position: 2\n"
     ]
    }
   ],
   "source": [
    "alien_0 = {'x_position': 0, 'y_position': 25, 'speed': 'medium'} \n",
    "print(\"Original x-position: \" + str(alien_0['x_position']))\n",
    "\n",
    "# 向右移动外星人\n",
    "# 据外星人当前速度决定将其移动多远  \n",
    "if alien_0['speed'] == 'slow':#❶\n",
    "    x_increment = 1\n",
    "elif alien_0['speed'] == 'medium':\n",
    "    x_increment = 2 \n",
    "else:\n",
    "    # 这个外星人的速度一定很快 \n",
    "    x_increment = 3\n",
    "\n",
    "# 新位置等于老位置加上增量 \n",
    "alien_0['x_position'] = alien_0['x_position'] + x_increment#❷\n",
    "\n",
    "print(\"New x-position: \" + str(alien_0['x_position']))"
   ]
  },
  {
   "cell_type": "markdown",
   "metadata": {},
   "source": [
    "我们首先定义了一个外星人，其中包含初始的x 坐标和y 坐标，还有速度'medium' 。出于简化考虑，我们省略了颜色和点数，但即便包含这些键-值对，这个示例的工作原理也 不会有任何变化。我们还打印了x_position 的初始值，旨在让用户知道这个外星人向右移动了多远。\n",
    "\n",
    "在❶处，使用了一个if-elif-else 结构来确定外星人应向右移动多远，并将这个值存储在变量x_increment 中。如果外星人的速度为'slow' ，它将向右移动一个单位; 如果速度为'medium' ，将向右移动两个单位;如果为'fast' ，将向右移动三个单位。确定移动量后，将其与x_position 的当前值相加(见❷)，再将结果关联到字典中 的键x_position 。\n",
    "\n",
    "由于这是一个速度中等的外星人，因此其位置将向右移动两个单位."
   ]
  },
  {
   "cell_type": "markdown",
   "metadata": {},
   "source": [
    "这种技术很棒:通过修改外星人字典中的值，可改变外星人的行为。例如，要将这个速度中等的外星人变成速度很快的外星人，可添加如下代码行:\n"
   ]
  },
  {
   "cell_type": "code",
   "execution_count": 16,
   "metadata": {},
   "outputs": [],
   "source": [
    "alien_0['speed'] = 'fast'"
   ]
  },
  {
   "cell_type": "markdown",
   "metadata": {},
   "source": [
    "这样，再次运行这些代码时，其中的if-elif-else 结构将把一个更大的值赋给变量x_increment 。 \n",
    "\n",
    "### 6.2.5 删除键—值对\n",
    "\n",
    "对于字典中不再需要的信息，可使用del 语句将相应的键—值对彻底删除。使用del 语句时，必须指定字典名和要删除的键。 \n",
    "\n",
    "例如，下面的代码从字典alien_0 中删除键'points' 及其值:"
   ]
  },
  {
   "cell_type": "code",
   "execution_count": 4,
   "metadata": {},
   "outputs": [
    {
     "name": "stdout",
     "output_type": "stream",
     "text": [
      "{'color': 'green', 'points': 5}\n",
      "{'color': 'green'}\n"
     ]
    }
   ],
   "source": [
    "alien_0 = {'color': 'green', 'points': 5} \n",
    "print(alien_0)\n",
    "\n",
    "del alien_0['points'] #\n",
    "print(alien_0)"
   ]
  },
  {
   "cell_type": "markdown",
   "metadata": {},
   "source": [
    "❶处的代码行让Python将键'points' 从字典alien_0 中删除，同时删除与这个键相关联的值。输出表明，键'points' 及其值5 已从字典中删除，但其他键—值对未受影响."
   ]
  },
  {
   "cell_type": "markdown",
   "metadata": {},
   "source": [
    "**注意**  删除的键—值对永远消失了。 \n",
    "\n",
    "### 6.2.6 由类似对象组成的字典\n",
    "\n",
    "在前面的示例中，字典存储的是一个对象(游戏中的一个外星人)的多种信息，但你也可以使用字典来存储众多对象的同一种信息。例如，假设你要调查很多人，询问他们最喜 欢的编程语言，可使用一个字典来存储这种简单调查的结果，如下所示:\n"
   ]
  },
  {
   "cell_type": "code",
   "execution_count": 6,
   "metadata": {},
   "outputs": [
    {
     "name": "stdout",
     "output_type": "stream",
     "text": [
      "{'hello': 3, 'world': 2, 'hahaha': 1}\n"
     ]
    }
   ],
   "source": [
    "s=\"hello world hello world hello hahaha\"\n",
    "nums={}\n",
    "for i in s.split():\n",
    "    if nums.get(i):\n",
    "        nums[i]=nums[i]+1\n",
    "    else:\n",
    "        nums[i]=1\n",
    "print(nums)"
   ]
  },
  {
   "cell_type": "code",
   "execution_count": 18,
   "metadata": {},
   "outputs": [],
   "source": [
    "favorite_languages = { \n",
    "    'jen': 'python', \n",
    "    'sarah': 'c', \n",
    "    'edward': 'ruby', \n",
    "    'phil': 'python', \n",
    "     }"
   ]
  },
  {
   "cell_type": "code",
   "execution_count": 9,
   "metadata": {},
   "outputs": [
    {
     "name": "stdout",
     "output_type": "stream",
     "text": [
      "123\n",
      "18\n",
      "zhang\n"
     ]
    }
   ],
   "source": [
    "student={\n",
    "    'id':'123',\n",
    "    'age':18,\n",
    "    'name':'zhang'\n",
    "}\n",
    "print(student[\"id\"])\n",
    "print(student[\"age\"])\n",
    "print(student[\"name\"])"
   ]
  },
  {
   "cell_type": "markdown",
   "metadata": {},
   "source": [
    "正如你看到的，我们将一个较大的字典放在了多行中。其中每个键都是一个被调查者的名字，而每个值都是被调查者喜欢的语言。确定需要使用多行来定义字典时，在输入左花 括号后按回车键，再在下一行缩进四个空格，指定第一个键—值对，并在它后面加上一个逗号。此后你再次按回车键时，文本编辑器将自动缩进后续键—值对，且缩进量与第一 个键—值对相同。\n",
    "\n",
    "定义好字典后，在最后一个键—值对的下一行添加一个右花括号，并缩进四个空格，使其与字典中的键对齐。另外一种不错的做法是在最后一个键—值对后面也加上逗号，为以 后在下一行添加键—值对做好准备。\n",
    "\n",
    "   **注意**  对于较长的列表和字典，大多数编辑器都有以类似方式设置其格式的功能。对于较长的字典，还有其他一些可行的格式设置方式，因此在你的编辑器或其他源 代码中，你可能会看到稍微不同的格式设置方式。\n",
    "\n",
    "给定被调查者的名字，可使用这个字典轻松地获悉他喜欢的语言:\n",
    "\n",
    "**favorite_languages.py**\n"
   ]
  },
  {
   "cell_type": "code",
   "execution_count": 6,
   "metadata": {},
   "outputs": [
    {
     "name": "stdout",
     "output_type": "stream",
     "text": [
      "Sarah's favorite language is C.\n"
     ]
    }
   ],
   "source": [
    "favorite_languages = { \n",
    "    'jen': 'python', \n",
    "    'sarah': 'c', \n",
    "    'edward': 'ruby', \n",
    "    'phil': 'python', \n",
    "    }\n",
    "\n",
    "print(\"Sarah's favorite language is \" +#❶ \n",
    "     favorite_languages['sarah'].title() + #❷ \n",
    "        \".\")#❸"
   ]
  },
  {
   "cell_type": "markdown",
   "metadata": {},
   "source": [
    "为获悉Sarah 喜欢的语言，我们使用如下代码:"
   ]
  },
  {
   "cell_type": "code",
   "execution_count": null,
   "metadata": {},
   "outputs": [],
   "source": [
    " favorite_languages['sarah']"
   ]
  },
  {
   "cell_type": "markdown",
   "metadata": {},
   "source": [
    "在print 语句中，我们使用了这种语法(见❷);输出指出了Sarah喜欢的语言。\n"
   ]
  },
  {
   "cell_type": "markdown",
   "metadata": {},
   "source": [
    "这个示例还演示了如何将较长的print 语句分成多行。单词print 比大多数字典名都短，因此让输出的第一部分紧跟在左括号后面是合理的(见❶)。请选择在合适的地方拆 分要打印的内容，并在第一行末尾(见❷)加上一个拼接运算符(+ )。按回车键进入print 语句的后续各行，并使用Tab键将它们对齐并缩进一级。指定要打印的所有内容 后，在print 语句的最后一行末尾加上右括号(见❸)。\n",
    "    \n",
    "   **动手试一试**\n",
    "    \n",
    "   **6-1 人 :**使用一个字典来存储一个熟人的信息，包括名、姓、年龄和居住的城市。该字典应包含键first_name 、last_name 、age 和city 。将存储在该字典中 的每项信息都打印出来。\n",
    "    \n",
    "   **6-2 喜欢的数字 :**使用一个字典来存储一些人喜欢的数字。请想出5个人的名字，并将这些名字用作字典中的键;想出每个人喜欢的一个数字，并将这些数字作为值存 储在字典中。打印每个人的名字和喜欢的数字。为让这个程序更有趣，通过询问朋友确保数据是真实的。\n",
    "   \n",
    "   **6-3 词汇表 :**Python字典可用于模拟现实生活中的字典，但为避免混淆，我们将后者称为词汇表。 \n",
    "    \n",
    "   - 想出你在前面学过的5个编程词汇，将它们用作词汇表中的键，并将它们的含义作为值存储在词汇表中。\n",
    "   \n",
    "   \n",
    "   - 以整洁的方式打印每个词汇及其含义。为此，你可以先打印词汇，在它后面加上一个冒号，再打印词汇的含义;也可在一行打印词汇，再使用换行符(\\n )插 入一个空行，然后在下一行以缩进的方式打印词汇的含义。\n",
    "   \n",
    "## 6.3 遍历字典 \n",
    "   \n",
    "一个Python字典可能只包含几个键—值对，也可能包含数百万个键—值对。鉴于字典可能包含大量的数据，Python支持对字典遍历。字典可用于以各种方式存储信息，因此有多种\n",
    "遍历字典的方式:可遍历字典的所有键—值对、键或值。\n",
    "\n",
    "### 6.3.1 遍历所有的键—值对 \n",
    "\n",
    "探索各种遍历方法前，先来看一个新字典，它用于存储有关网站用户的信息。下面的字典存储一名用户的用户名、名和姓:\n"
   ]
  },
  {
   "cell_type": "code",
   "execution_count": 31,
   "metadata": {},
   "outputs": [],
   "source": [
    "user_0 = {\n",
    "    'username': 'efermi', \n",
    "    'first': 'enrico', \n",
    "    'last': 'fermi',\n",
    "    }"
   ]
  },
  {
   "cell_type": "markdown",
   "metadata": {},
   "source": [
    "利用本章前面介绍过的知识，可访问user_0 的任何一项信息，但如果要获悉该用户字典中的所有信息，该怎么办呢?可以使用一个for 循环来遍历这个字典: \n",
    "\n",
    "**user.py**"
   ]
  },
  {
   "cell_type": "code",
   "execution_count": 10,
   "metadata": {},
   "outputs": [
    {
     "name": "stdout",
     "output_type": "stream",
     "text": [
      "dict_items([('username', 'efermi'), ('first', 'enrico'), ('last', 'fermi')])\n",
      "\n",
      "Key: username\n",
      "Value: efermi\n",
      "\n",
      "Key: first\n",
      "Value: enrico\n",
      "\n",
      "Key: last\n",
      "Value: fermi\n"
     ]
    }
   ],
   "source": [
    "user_0 = {\n",
    "    'username': 'efermi', \n",
    "    'first': 'enrico', \n",
    "    'last': 'fermi',\n",
    "    }\n",
    "print(user_0.items())\n",
    "for key, value in user_0.items():# ❶\n",
    "    print(\"\\nKey: \" + key)#❷\n",
    "    print(\"Value: \" + value)#❸"
   ]
  },
  {
   "cell_type": "markdown",
   "metadata": {},
   "source": [
    "如❶所示，要编写用于遍历字典的for 循环，可声明两个变量，用于存储键—值对中的键和值。对于这两个变量，可使用任何名称。下面的代码使用了简单的变量名，这完全可行:"
   ]
  },
  {
   "cell_type": "code",
   "execution_count": null,
   "metadata": {},
   "outputs": [],
   "source": [
    "for k, v in user_0.items()"
   ]
  },
  {
   "cell_type": "markdown",
   "metadata": {},
   "source": [
    "for 语句的第二部分包含字典名和方法items() (见❶)，它返回一个键—值对列表。接下来，for 循环依次将每个键—值对存储到指定的两个变量中。在前面的示例中，我 们使用这两个变量来打印每个键(见❷)及其相关联的值(见❸)。第一条print 语句中的\"\\n\" 确保在输出每个键—值对前都插入一个空行.\n"
   ]
  },
  {
   "cell_type": "markdown",
   "metadata": {},
   "source": [
    "注意，即便遍历字典时，键—值对的返回顺序也与存储顺序不同。Python不关心键—值对的存储顺序，而只跟踪键和值之间的关联关系。\n",
    "\n",
    "在6.2.6节的示例favorite_languages.py中，字典存储的是不同人的同一种信息;对于类似这样的字典，遍历所有的键—值对很合适。如果遍历字典favorite_languages ，将得到其中每个人的姓名和喜欢的编程语言。由于其中的键都是人名，而值都是语言，因此我们在循环中使用变量name和language，而不是key和value，这让人更容易明白循环的作用:\n",
    "\n",
    "**favorite_languages.py**"
   ]
  },
  {
   "cell_type": "code",
   "execution_count": 8,
   "metadata": {},
   "outputs": [
    {
     "name": "stdout",
     "output_type": "stream",
     "text": [
      "Jen's favorite language is Python.\n",
      "Sarah's favorite language is C.\n",
      "Edward's favorite language is Ruby.\n",
      "Phil's favorite language is Python.\n"
     ]
    }
   ],
   "source": [
    "favorite_languages = { 'jen': 'python', \n",
    "                      'sarah': 'c', \n",
    "                      'edward': 'ruby', \n",
    "                      'phil': 'python',\n",
    "                     }\n",
    "\n",
    "for name, language in favorite_languages.items():#❶\n",
    "    print(name.title() + \"'s favorite language is \" +#❷\n",
    "language.title() + \".\")"
   ]
  },
  {
   "cell_type": "markdown",
   "metadata": {},
   "source": [
    "❶处的代码让Python遍历字典中的每个键—值对，并将键存储在变量name 中，而将值存储在变量language 中。这些描述性名称能够让人非常轻松地明白print 语句(见❷) 是做什么的。\n",
    "\n",
    "仅使用几行代码，我们就将全部调查结果显示出来了."
   ]
  },
  {
   "cell_type": "markdown",
   "metadata": {},
   "source": [
    "即便字典存储的是上千乃至上百万人的调查结果，这种循环也管用。\n",
    "\n",
    "### 6.3.2 遍历字典中的所有键\n",
    "\n",
    "在不需要使用字典中的值时，方法keys() 很有用。下面来遍历字典favorite_languages ，并将每个被调查者的名字都打印出来:\n"
   ]
  },
  {
   "cell_type": "code",
   "execution_count": 9,
   "metadata": {},
   "outputs": [
    {
     "name": "stdout",
     "output_type": "stream",
     "text": [
      "Jen\n",
      "Sarah\n",
      "Edward\n",
      "Phil\n"
     ]
    }
   ],
   "source": [
    "favorite_languages = { \n",
    "    'jen': 'python', \n",
    "    'sarah': 'c', \n",
    "    'edward': 'ruby', \n",
    "    'phil': 'python', \n",
    "    }\n",
    "\n",
    "for name in favorite_languages.keys(): #❶\n",
    "    print(name.title())"
   ]
  },
  {
   "cell_type": "markdown",
   "metadata": {},
   "source": [
    "\n",
    "❶处的代码行让Python提取字典favorite_languages 中的所有键，并依次将它们存储到变量name 中。输出列出了每个被调查者的名字。"
   ]
  },
  {
   "cell_type": "markdown",
   "metadata": {},
   "source": [
    "遍历字典时，会默认遍历所有的键，因此，如果将上述代码中的for name in favorite_languages.keys():替换为for name in favorite_languages:，输出 将不变。\n",
    "\n",
    "如果显式地使用方法keys() 可让代码更容易理解，你可以选择这样做，但如果你愿意，也可省略它。 \n",
    "\n",
    "在这种循环中，可使用当前键来访问与之相关联的值。下面来打印两条消息，指出两位朋友喜欢的语言。我们像前面一样遍历字典中的名字，但在名字为指定朋友的名字时，打印一条消息，指出其喜欢的语言:"
   ]
  },
  {
   "cell_type": "code",
   "execution_count": 10,
   "metadata": {},
   "outputs": [
    {
     "name": "stdout",
     "output_type": "stream",
     "text": [
      "Jen\n",
      "Sarah\n",
      " Hi Sarah, I see your favorite language is C!\n",
      "Edward\n",
      "Phil\n",
      " Hi Phil, I see your favorite language is Python!\n"
     ]
    }
   ],
   "source": [
    "favorite_languages = { 'jen': 'python',\n",
    "                      'sarah': 'c', \n",
    "                      'edward': 'ruby', \n",
    "                      'phil': 'python', \n",
    "                      }\n",
    "\n",
    "friends = ['phil', 'sarah']#❶\n",
    "for name in favorite_languages.keys():\n",
    "    print(name.title())\n",
    "    if name in friends:#❷\n",
    "        print(\" Hi \" + name.title() +\n",
    "              \", I see your favorite language is \" + \n",
    "               favorite_languages[name].title() + \"!\")#❸  "
   ]
  },
  {
   "cell_type": "markdown",
   "metadata": {},
   "source": [
    "在❶处，我们创建了一个列表，其中包含我们要通过打印消息，指出其喜欢的语言的朋友。在循环中，我们打印每个人的名字，并检查当前的名字是否在列表friends 中(见 ❷)。如果在列表中，就打印一句特殊的问候语，其中包含这位朋友喜欢的语言。为访问喜欢的语言，我们使用了字典名，并将变量name 的当前值作为键(见❸)。每个人的 名字都会被打印，但只对朋友打印特殊消息."
   ]
  },
  {
   "cell_type": "markdown",
   "metadata": {},
   "source": [
    "你还可以使用keys() 确定某个人是否接受了调查。下面的代码确定Erin是否接受了调查:"
   ]
  },
  {
   "cell_type": "code",
   "execution_count": 11,
   "metadata": {},
   "outputs": [
    {
     "name": "stdout",
     "output_type": "stream",
     "text": [
      "Erin, please take our poll!\n"
     ]
    }
   ],
   "source": [
    "favorite_languages = { 'jen': 'python', \n",
    "                      'sarah': 'c', \n",
    "                      'edward': 'ruby', \n",
    "                      'phil': 'python', \n",
    "                     }\n",
    "\n",
    "if 'erin' not in favorite_languages.keys(): #❶\n",
    "    print(\"Erin, please take our poll!\")"
   ]
  },
  {
   "cell_type": "markdown",
   "metadata": {},
   "source": [
    "\n",
    "方法keys() 并非只能用于遍历;实际上，它返回一个列表，其中包含字典中的所有键，因此❶处的代码行只是核实'erin' 是否包含在这个列表中。由于她并不包含在这个列 表中，因此打印一条消息，邀请她参加调查。"
   ]
  },
  {
   "cell_type": "markdown",
   "metadata": {},
   "source": [
    "### 6.3.3 按顺序遍历字典中的所有键 \n",
    "\n",
    "字典总是明确地记录键和值之间的关联关系，但获取字典的元素时，获取顺序是不可预测的。这不是问题，因为通常你想要的只是获取与键相关联的正确的值。 \n",
    "\n",
    "要以特定的顺序返回元素，一种办法是在for 循环中对返回的键进行排序。为此，可使用函数sorted() 来获得按特定顺序排列的键列表的副本:"
   ]
  },
  {
   "cell_type": "code",
   "execution_count": 64,
   "metadata": {},
   "outputs": [
    {
     "name": "stdout",
     "output_type": "stream",
     "text": [
      "Edward, thank you for taking the poll.\n",
      "Jen, thank you for taking the poll.\n",
      "Phil, thank you for taking the poll.\n",
      "Sarah, thank you for taking the poll.\n"
     ]
    }
   ],
   "source": [
    "favorite_languages = { 'jen': 'python', \n",
    "                      'sarah': 'c', \n",
    "                      'edward': 'ruby', \n",
    "                      'phil': 'python',\n",
    "                     }\n",
    "for name in sorted(favorite_languages.keys()): \n",
    "    print(name.title() + \", thank you for taking the poll.\")"
   ]
  },
  {
   "cell_type": "markdown",
   "metadata": {},
   "source": [
    "这条for 语句类似于其他for 语句，但对方法dictionary.keys() 的结果调用了函数sorted() 。这让Python列出字典中的所有键，并在遍历前对这个列表进行排序。输出 表明，按顺序显示了所有被调查者的名字。"
   ]
  },
  {
   "cell_type": "markdown",
   "metadata": {},
   "source": [
    "### 6.3.4 遍历字典中的所有值\n",
    "\n",
    "如果你感兴趣的主要是字典包含的值，可使用方法values() ，它返回一个值列表，而不包含任何键。例如，如果我们想获得一个这样的列表，即其中只包含被调查者选择的各种语言，而不包含被调查者的名字，可以这样做:\n"
   ]
  },
  {
   "cell_type": "code",
   "execution_count": 66,
   "metadata": {},
   "outputs": [
    {
     "name": "stdout",
     "output_type": "stream",
     "text": [
      "The following languages have been mentioned:\n",
      "Python\n",
      "C\n",
      "Ruby\n",
      "Python\n"
     ]
    }
   ],
   "source": [
    "favorite_languages = { 'jen': 'python', \n",
    "                      'sarah': 'c',\n",
    "                      'edward': 'ruby',\n",
    "                      'phil': 'python', \n",
    "                     }\n",
    "print(\"The following languages have been mentioned:\")\n",
    "for language in favorite_languages.values():\n",
    "    print(language.title())"
   ]
  },
  {
   "cell_type": "markdown",
   "metadata": {},
   "source": [
    "\n",
    "这条for 语句提取字典中的每个值，并将它们依次存储到变量language 中。通过打印这些值，就获得了一个列表，其中包含被调查者选择的各种语言。"
   ]
  },
  {
   "cell_type": "markdown",
   "metadata": {},
   "source": [
    "这种做法提取字典中所有的值，而没有考虑是否重复。涉及的值很少时，这也许不是问题，但如果被调查者很多，最终的列表可能包含大量的重复项。为剔除重复项，可使用集合(set)。**集合** 类似于列表，但每个元素都必须是独一无二的:"
   ]
  },
  {
   "cell_type": "code",
   "execution_count": 1,
   "metadata": {},
   "outputs": [
    {
     "name": "stdout",
     "output_type": "stream",
     "text": [
      "The following languages have been mentioned:\n",
      "C\n",
      "Ruby\n",
      "Python\n",
      "{'c', 'ruby', 'python'}\n"
     ]
    }
   ],
   "source": [
    "favorite_languages = { 'jen': 'python', \n",
    "                      'sarah':'c', \n",
    "                      'edward': 'ruby', \n",
    "                      'phil': 'python', \n",
    "                     }\n",
    "print(\"The following languages have been mentioned:\") \n",
    "for language in set(favorite_languages.values()):#❶\n",
    "    print(language.title())"
   ]
  },
  {
   "cell_type": "markdown",
   "metadata": {},
   "source": [
    "通过对包含重复元素的列表调用set() ，可让Python找出列表中独一无二的元素，并使用这些元素来创建一个集合。在❶处，我们使用了set() 来提 取favorite_languages.values() 中不同的语言。\n",
    "\n",
    "结果是一个不重复的列表，其中列出了被调查者提及的所有语言。"
   ]
  },
  {
   "cell_type": "markdown",
   "metadata": {},
   "source": [
    "随着你更深入地学习Python，经常会发现它内置的功能可帮助你以希望的方式处理数据。 \n",
    "\n",
    "   **动手试一试**\n",
    "\n",
    "   **6-4 词汇表2 :** 既然你知道了如何遍历字典，现在请整理你为完成练习6-3而编写的代码，将其中的一系列print 语句替换为一个遍历字典中的键和值的循环。确定该 循环正确无误后，再在词汇表中添加5个Python术语。当你再次运行这个程序时，这些新术语及其含义将自动包含在输出中。\n",
    "\n",
    "   **6-5河流:** 创建一个字典，在其中存储三条大河流及其流经的国家。其中一个键—值对可能是'nile': 'egypt'。 \n",
    "   \n",
    "   - 使用循环为每条河流打印一条消息，如“The Nile runs through Egypt.”。 \n",
    "   \n",
    "   \n",
    "   - 使用循环将该字典中每条河流的名字都打印出来。\n",
    "   \n",
    "\n",
    "   - 使用循环将该字典包含的每个国家的名字都打印出来。\n",
    "   \n",
    "\n",
    "   **6-6 调查 :** 在6.3.1节编写的程序favorite_languages.py中执行以下操作。 \n",
    "   \n",
    "   - 创建一个应该会接受调查的人员名单，其中有些人已包含在字典中，而其他人未包含在字典中。 \n",
    "   \n",
    "   \n",
    "   - 遍历这个人员名单，对于已参与调查的人，打印一条消息表示感谢。对于还未参与调查的人，打印一条消息邀请他参与调查。\n",
    "\n",
    "   ## 6.4 嵌套\n",
    "\n",
    "有时候，需要将一系列字典存储在列表中，或将列表作为值存储在字典中，这称为嵌套 。你可以在列表中嵌套字典、在字典中嵌套列表甚至在字典中嵌套字典。正如下面的示例将演示的，嵌套是一项强大的功能。 \n",
    "\n",
    "### 6.4.1 字典列表\n",
    "\n",
    "字典alien_0 包含一个外星人的各种信息，但无法存储第二个外星人的信息，更别说屏幕上全部外星人的信息了。如何管理成群结队的外星人呢?一种办法是创建一个外星人列 表，其中每个外星人都是一个字典，包含有关该外星人的各种信息。例如，下面的代码创建一个包含三个外星人的列表:\n",
    "\n",
    "**aliens.py**\n"
   ]
  },
  {
   "cell_type": "code",
   "execution_count": 13,
   "metadata": {},
   "outputs": [
    {
     "name": "stdout",
     "output_type": "stream",
     "text": [
      "{'color': 'green', 'points': 5}\n",
      "{'color': 'yellow', 'points': 10}\n",
      "{'color': 'red', 'points': 15}\n"
     ]
    }
   ],
   "source": [
    "alien_0 = {'color': 'green', 'points': 5} \n",
    "alien_1 = {'color': 'yellow', 'points': 10} \n",
    "alien_2 = {'color': 'red', 'points': 15}\n",
    "\n",
    "aliens = [alien_0, alien_1, alien_2]#❶\n",
    "\n",
    "for alien in aliens: \n",
    "    print(alien)"
   ]
  },
  {
   "cell_type": "markdown",
   "metadata": {},
   "source": [
    "我们首先创建了三个字典，其中每个字典都表示一个外星人。在❶处，我们将这些字典都放到一个名为aliens 的列表中。最后，我们遍历这个列表，并将每个外星人都打印出来。"
   ]
  },
  {
   "cell_type": "markdown",
   "metadata": {},
   "source": [
    "更符合现实的情形是，外星人不止三个，且每个外星人都是使用代码自动生成的。在下面的示例中，我们使用range() 生成了30个外星人: "
   ]
  },
  {
   "cell_type": "code",
   "execution_count": 15,
   "metadata": {},
   "outputs": [
    {
     "name": "stdout",
     "output_type": "stream",
     "text": [
      "{'color': 'green', 'points': 5, 'speed': 'slow'}\n",
      "{'color': 'green', 'points': 5, 'speed': 'slow'}\n",
      "{'color': 'green', 'points': 5, 'speed': 'slow'}\n",
      "{'color': 'green', 'points': 5, 'speed': 'slow'}\n",
      "{'color': 'green', 'points': 5, 'speed': 'slow'}\n",
      "...\n",
      "Total number of aliens: 30\n"
     ]
    }
   ],
   "source": [
    "# 创建一个用于存储外星人的空列表\n",
    "aliens = []\n",
    "\n",
    "# 创建30个绿色的外星人\n",
    "for alien_number in range(30):#❶\n",
    "    new_alien = {'color': 'green', 'points': 5, 'speed': 'slow'}#❷\n",
    "    aliens.append(new_alien)#❸\n",
    "\n",
    "# 显示前五个外星人\n",
    "for alien in aliens[:5]:#❹\n",
    "    print(alien) \n",
    "print(\"...\")\n",
    "  # 显示创建了多少个外星人\n",
    "print(\"Total number of aliens: \" + str(len(aliens)))#❺"
   ]
  },
  {
   "cell_type": "markdown",
   "metadata": {},
   "source": [
    "在这个示例中，首先创建了一个空列表，用于存储接下来将创建的所有外星人。在❶处，range() 返回一系列数字，其唯一的用途是告诉Python我们要重复这个循环多少次。每 次执行这个循环时，都创建一个外星人(见❷)，并将其附加到列表aliens 末尾(见❸)。在❹处，使用一个切片来打印前五个外星人;在❺处，打印列表的长度，以证明确 实创建了30个外星人。"
   ]
  },
  {
   "cell_type": "markdown",
   "metadata": {},
   "source": [
    "这些外星人都具有相同的特征，但在Python看来，每个外星人都是独立的，这让我们能够独立地修改每个外星人。 \n",
    "\n",
    "在什么情况下需要处理成群结队的外星人呢?想象一下，可能随着游戏的进行，有些外星人会变色且移动速度会加快。必要时，我们可以使用for 循环和if 语句来修改某些外星\n",
    "人的颜色。例如，要将前三个外星人修改为黄色的、速度为中等且值10个点，可以这样做:"
   ]
  },
  {
   "cell_type": "code",
   "execution_count": 16,
   "metadata": {},
   "outputs": [
    {
     "name": "stdout",
     "output_type": "stream",
     "text": [
      "{'color': 'yellow', 'points': 10, 'speed': 'medium'}\n",
      "{'color': 'yellow', 'points': 10, 'speed': 'medium'}\n",
      "{'color': 'yellow', 'points': 10, 'speed': 'medium'}\n",
      "{'color': 'green', 'points': 5, 'speed': 'slow'}\n",
      "{'color': 'green', 'points': 5, 'speed': 'slow'}\n",
      "...\n"
     ]
    }
   ],
   "source": [
    "# 创建一个用于存储外星人的空列表 \n",
    "aliens = []\n",
    "\n",
    "# 创建30个绿色的外星人\n",
    "for alien_number in range (0,30):\n",
    "    new_alien = {'color': 'green', 'points': 5, 'speed': 'slow'} \n",
    "    aliens.append(new_alien)\n",
    "\n",
    "for alien in aliens[0:3]:\n",
    "    if alien['color'] == 'green':\n",
    "        alien['color'] = 'yellow' \n",
    "        alien['speed'] = 'medium' \n",
    "        alien['points'] = 10\n",
    "\n",
    "# 显示前五个外星人\n",
    "for alien in aliens[0:5]:\n",
    "    print(alien) \n",
    "print(\"...\")"
   ]
  },
  {
   "cell_type": "markdown",
   "metadata": {},
   "source": [
    "鉴于我们要修改前三个外星人，需要遍历一个只包含这些外星人的切片。当前，所有外星人都是绿色的，但情况并非总是如此，因此我们编写了一条if 语句来确保只修改绿色外 星人。如果外星人是绿色的，我们就将其颜色改为'yellow' ，将其速度改为'medium' ，并将其点数改为10 ，如下面的输出所示。"
   ]
  },
  {
   "cell_type": "markdown",
   "metadata": {},
   "source": [
    "你可以进一步扩展这个循环，在其中添加一个elif 代码块，将黄色外星人改为移动速度快且值15个点的红色外星人，如下所示(这里只列出了循环，而没有列出整个程序):\n"
   ]
  },
  {
   "cell_type": "code",
   "execution_count": 21,
   "metadata": {},
   "outputs": [],
   "source": [
    "for alien in aliens[0:3]:\n",
    "    if alien['color'] == 'green':\n",
    "        alien['color'] = 'yellow' \n",
    "        alien['speed'] = 'medium' \n",
    "        alien['points'] = 10\n",
    "    elif alien['color'] == 'yellow': \n",
    "        alien['color'] = 'red' \n",
    "        alien['speed'] = 'fast' \n",
    "        alien['points'] = 15"
   ]
  },
  {
   "cell_type": "markdown",
   "metadata": {},
   "source": [
    "经常需要在列表中包含大量的字典，而其中每个字典都包含特定对象的众多信息。例如，你可能需要为网站的每个用户创建一个字典(就像6.3.1节的user.py中那样)，并将这些 字典存储在一个名为users 的列表中。在这个列表中，所有字典的结构都相同，因此你可以遍历这个列表，并以相同的方式处理其中的每个字典。\n",
    "\n",
    "### 6.4.2 在字典中存储列表 \n",
    "\n",
    "有时候，需要将列表存储在字典中，而不是将字典存储在列表中。例如，你如何描述顾客点的比萨呢?如果使用列表，只能存储要添加的比萨配料;但如果使用字典，就不仅可在其中包含配料列表，还可包含其他有关比萨的描述。\n",
    "\n",
    "在下面的示例中，存储了比萨的两方面信息:外皮类型和配料列表。其中的配料列表是一个与键'toppings' 相关联的值。要访问该列表，我们使用字典名和键'toppings' ，就像访问字典中的其他值一样。这将返回一个配料列表，而不是单个值:\n",
    "\n",
    "**pizza.py**"
   ]
  },
  {
   "cell_type": "code",
   "execution_count": 22,
   "metadata": {},
   "outputs": [
    {
     "name": "stdout",
     "output_type": "stream",
     "text": [
      "You ordered a thick-crust pizza with the following toppings:\n",
      "\tmushrooms\n",
      "\textra cheese\n"
     ]
    }
   ],
   "source": [
    "# 存储所点比萨的信息  \n",
    "pizza = {#❶\n",
    "      'crust': 'thick',\n",
    "      'toppings': ['mushrooms', 'extra cheese'], \n",
    "      }\n",
    "\n",
    "# 概述所点的比萨\n",
    "print(\"You ordered a \" + pizza['crust'] + \"-crust pizza \" +#❷\n",
    "      \"with the following toppings:\")\n",
    "\n",
    "for topping in pizza['toppings']: #❸\n",
    "    print(\"\\t\" + topping)"
   ]
  },
  {
   "cell_type": "markdown",
   "metadata": {},
   "source": [
    "我们首先创建了一个字典，其中存储了有关顾客所点比萨的信息(见❶)。在这个字典中，一个键是'crust' ，与之相关联的值是字符串'thick' ;下一个键是'toppings' ，与之相关联的值是一个列表，其中存储了顾客要求添加的所有配料。制作前我们概述了顾客所点的比萨(见❷)。为打印配料，我们编写了一个for 循环(见❸)。为访问配 料列表，我们使用了键'toppings' ，这样Python将从字典中提取配料列表。\n",
    "\n",
    "上面的输出概述了要制作的比萨。\n"
   ]
  },
  {
   "cell_type": "markdown",
   "metadata": {},
   "source": [
    "每当需要在字典中将一个键关联到多个值时，都可以在字典中嵌套一个列表。在本章前面有关喜欢的编程语言的示例中，如果将每个人的回答都存储在一个列表中，被调查者就 可选择多种喜欢的语言。在这种情况下，当我们遍历字典时，与每个被调查者相关联的都是一个语言列表，而不是一种语言;因此，在遍历该字典的for 循环中，我们需要再使 用一个for 循环来遍历与被调查者相关联的语言列表:\n",
    "\n",
    "**favorite_languages.py**\n"
   ]
  },
  {
   "cell_type": "code",
   "execution_count": 23,
   "metadata": {},
   "outputs": [
    {
     "name": "stdout",
     "output_type": "stream",
     "text": [
      "\n",
      "Jen's favorite languages are:\n",
      "\n",
      "Sarah's favorite languages are:\n",
      "\n",
      "Edward's favorite languages are:\n",
      "\n",
      "Phil's favorite languages are:\n",
      "\tPython\n",
      "\tHaskell\n"
     ]
    }
   ],
   "source": [
    "favorite_languages = {#❶\n",
    "      'jen': ['python', 'ruby'], \n",
    "      'sarah': ['c'],\n",
    "      'edward': ['ruby', 'go'], \n",
    "      'phil': ['python', 'haskell'], \n",
    "      }\n",
    " \n",
    "for name, languages in favorite_languages.items(): #❷\n",
    "    print(\"\\n\" + name.title() + \"'s favorite languages are:\") \n",
    "for language in languages: #❸\n",
    "    print(\"\\t\" + language.title())"
   ]
  },
  {
   "cell_type": "markdown",
   "metadata": {},
   "source": [
    "正如你看到的，现在与每个名字相关联的值都是一个列表(见❶)。请注意，有些人喜欢的语言只有一种，而有些人有多种。遍历字典时(见❷)，我们使用了变量languages 来依次存储字典中的每个值，因为我们知道这些值都是列表。在遍历字典的主循环中，我们又使用了一个for 循环来遍历每个人喜欢的语言列表(见❸)。现在，每个人想列出 多少种喜欢的语言都可以。"
   ]
  },
  {
   "cell_type": "markdown",
   "metadata": {},
   "source": [
    "为进一步改进这个程序，可在遍历字典的for 循环开头添加一条if 语句，通过查看len(languages) 的值来确定当前的被调查者喜欢的语言是否有多种。如果他喜欢的语言有 多种，就像以前一样显示输出;如果只有一种，就相应修改输出的措辞，如显示Sarah's favorite language is C。\n",
    "    \n",
    "   **注意**  列表和字典的嵌套层级不应太多。如果嵌套层级比前面的示例多得多，很可能有更简单的解决问题的方案。\n",
    "\n",
    "### 6.4.3 在字典中存储字典\n",
    "\n",
    "可在字典中嵌套字典，但这样做时，代码可能很快复杂起来。例如，如果有多个网站用户，每个都有独特的用户名，可在字典中将用户名作为键，然后将每位用户的信息存储在 一个字典中，并将该字典作为与用户名相关联的值。在下面的程序中，对于每位用户，我们都存储了其三项信息:名、姓和居住地;为访问这些信息，我们遍历所有的用户名， 并访问与每个用户名相关联的信息字典:\n",
    "\n",
    "**many_users.py**"
   ]
  },
  {
   "cell_type": "code",
   "execution_count": 24,
   "metadata": {},
   "outputs": [
    {
     "name": "stdout",
     "output_type": "stream",
     "text": [
      "\n",
      "Username: aeinstein\n",
      "\tFull name: Albert Einstein\n",
      "\tLocation: Princeton\n",
      "\n",
      "Username: mcurie\n",
      "\tFull name: Marie Curie\n",
      "\tLocation: Paris\n"
     ]
    }
   ],
   "source": [
    "users = { \n",
    "    'aeinstein': {\n",
    "        'first': 'albert', \n",
    "        'last': 'einstein', \n",
    "        'location': 'princeton', \n",
    "        },\n",
    "\n",
    "    'mcurie': {\n",
    "        'first': 'marie', \n",
    "        'last': 'curie', \n",
    "        'location': 'paris', \n",
    "        },\n",
    "\n",
    "    }\n",
    "\n",
    "for username, user_info in users.items():#❶     \n",
    "    print(\"\\nUsername: \" + username)#❷   \n",
    "    full_name = user_info['first'] + \" \" + user_info['last']#❸ \n",
    "    location = user_info['location']\n",
    "\n",
    "    print(\"\\tFull name: \" + full_name.title())#❹ \n",
    "    print(\"\\tLocation: \" + location.title())"
   ]
  },
  {
   "cell_type": "markdown",
   "metadata": {},
   "source": [
    "我们首先定义了一个名为users 的字典，其中包含两个键:用户名'aeinstein' 和'mcurie' ;与每个键相关联的值都是一个字典，其中包含用户的名、姓和居住地。在❶ 处，我们遍历字典users ，让Python依次将每个键存储在变量username 中，并依次将与当前键相关联的字典存储在变量user_info 中。在主循环内部的❷处，我们将用户名 打印出来。\n",
    "\n",
    "在❸处，我们开始访问内部的字典。变量user_info 包含用户信息字典，而该字典包含三个键:'first' 、'last' 和'location' ;对于每位用户，我们都使用这些键来 生成整洁的姓名和居住地，然后打印有关用户的简要信息(见❹)。\n"
   ]
  },
  {
   "cell_type": "markdown",
   "metadata": {},
   "source": [
    "请注意，表示每位用户的字典的结构都相同，虽然Python并没有这样的要求，但这使得嵌套的字典处理起来更容易。倘若表示每位用户的字典都包含不同的键，for 循环内部的 代码将更复杂。\n",
    "\n",
    "   **动手试一试**\n",
    "\n",
    "   **6-7 人 :** 在为完成练习6-1而编写的程序中，再创建两个表示人的字典，然后将这三个字典都存储在一个名为people 的列表中。遍历这个列表，将其中每个人的所有 信息都打印出来。\n",
    "\n",
    "   **6-8 宠物 :** 创建多个字典，对于每个字典，都使用一个宠物的名称来给它命名;在每个字典中，包含宠物的类型及其主人的名字。将这些字典存储在一个名为pets 的列表中，再遍历该列表，并将宠物的所有信息都打印出来。\n",
    "\n",
    "   **6-9 喜欢的地方 :** 创建一个名为favorite_places 的字典。在这个字典中，将三个人的名字用作键;对于其中的每个人，都存储他喜欢的1~3个地方。为让这个练 习更有趣些，可让一些朋友指出他们喜欢的几个地方。遍历这个字典，并将其中每个人的名字及其喜欢的地方打印出来。\n",
    "\n",
    "   **6-10 喜欢的数字 :** 修改为完成练习6-2而编写的程序，让每个人都可以有多个喜欢的数字，然后将每个人的名字及其喜欢的数字打印出来。\n",
    "\n",
    "   **6-11 城市 :** 创建一个名为cities 的字典，其中将三个城市名用作键;对于每座城市，都创建一个字典，并在其中包含该城市所属的国家、人口约数以及一个有关该城市的事实。在表示每座城市的字典中，应包含country 、population 和fact 等键。将每座城市的名字以及有关它们的信息都打印出来。\n",
    "\n",
    "   **6-12 扩展 :** 本章的示例足够复杂，可以以很多方式进行扩展了。请对本章的一个示例进行扩展:添加键和值、调整程序要解决的问题或改进输出的格式。\n",
    "\n",
    "## 6.5 小结 \n",
    "\n",
    "在本章中，你学习了:如何定义字典，以及如何使用存储在字典中的信息;如何访问和修改字典中的元素，以及如何遍历字典中的所有信息;如何遍历字典中所有的键-值对、所有的键和所有的值;如何在列表中嵌套字典、在字典中嵌套列表以及在字典中嵌套字典。\n",
    "\n",
    "在下一章中，你将学习while 循环以及如何从用户那里获取输入。这是激动人心的一章，让你知道如何将程序变成交互性的——能够对用户输入作出响应。\n"
   ]
  },
  {
   "cell_type": "code",
   "execution_count": null,
   "metadata": {},
   "outputs": [],
   "source": []
  }
 ],
 "metadata": {
  "kernelspec": {
   "display_name": "Python 3",
   "language": "python",
   "name": "python3"
  },
  "language_info": {
   "codemirror_mode": {
    "name": "ipython",
    "version": 3
   },
   "file_extension": ".py",
   "mimetype": "text/x-python",
   "name": "python",
   "nbconvert_exporter": "python",
   "pygments_lexer": "ipython3",
   "version": "3.6.5"
  }
 },
 "nbformat": 4,
 "nbformat_minor": 2
}
